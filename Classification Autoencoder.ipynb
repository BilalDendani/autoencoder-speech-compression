{
 "cells": [
  {
   "cell_type": "code",
   "execution_count": 136,
   "metadata": {
    "collapsed": false
   },
   "outputs": [],
   "source": [
    "import warnings\n",
    "warnings.filterwarnings('ignore')\n",
    "\n",
    "import numpy as np\n",
    "\n",
    "import random\n",
    "import h5py\n",
    "from keras.datasets import cifar10\n",
    "from keras.models import *\n",
    "from keras.layers import *\n",
    "from keras.layers.core import *\n",
    "from keras.layers.normalization import *\n",
    "from keras.optimizers import *\n",
    "from keras.callbacks import *\n",
    "from keras import backend as K\n",
    "from keras.regularizers import *\n",
    "import theano.tensor as T\n",
    "import theano\n",
    "from theano.tensor.shared_randomstreams import RandomStreams\n",
    "from sklearn import metrics\n",
    "from skimage.measure import compare_ssim\n",
    "from scipy.misc import toimage\n",
    "from sklearn.preprocessing import *\n",
    "\n",
    "import os\n",
    "import random\n",
    "import time\n",
    "from skimage import io, exposure, feature, color, transform\n",
    "import matplotlib\n",
    "import matplotlib.pyplot as plt\n",
    "import glob\n",
    "\n",
    "import scipy.signal as sig\n",
    "import operator\n",
    "import math\n",
    "\n",
    "# for reproducibility\n",
    "np.random.seed(1337) \n",
    "random.seed(1337)\n",
    "\n",
    "# print out floats gud\n",
    "np.set_printoptions(formatter={'float_kind':'{:4f}'.format})"
   ]
  },
  {
   "cell_type": "code",
   "execution_count": 137,
   "metadata": {
    "collapsed": false
   },
   "outputs": [],
   "source": [
    "# parameters for sliding window, and window function (Hann)\n",
    "STEP_SIZE = 480\n",
    "OVERLAP_SIZE = 32\n",
    "WINDOW_SIZE = STEP_SIZE + OVERLAP_SIZE\n",
    "OVERLAP_FUNC = sig.hann(OVERLAP_SIZE * 2)\n",
    "\n",
    "# directory that contains TIMIT files\n",
    "TIMIT_DIR = \"/home/sri/Desktop/timit\"\n",
    "\n",
    "# batch size\n",
    "BATCH_SIZE = 64\n",
    "\n",
    "# randomly shuffle data before partitioning into training/validation?\n",
    "RANDOM_SHUFFLE = True\n",
    "\n",
    "# sample rate of input file (used in MFCC calculation)\n",
    "SAMPLE_RATE = 16000\n",
    "\n",
    "# number of \"bins\" for u-law\n",
    "NBINS = 32"
   ]
  },
  {
   "cell_type": "code",
   "execution_count": 138,
   "metadata": {
    "collapsed": false
   },
   "outputs": [],
   "source": [
    "from load_TIMIT import *\n",
    "from windowingFunctions import *\n",
    "from utility import *"
   ]
  },
  {
   "cell_type": "code",
   "execution_count": 139,
   "metadata": {
    "collapsed": false
   },
   "outputs": [
    {
     "name": "stdout",
     "output_type": "stream",
     "text": [
      "Reading in .wav files...\n",
      "0: /home/sri/Desktop/timit/TIMIT/TRAIN/DR7/MKLR0/SA1.WAV\r",
      "1: /home/sri/Desktop/timit/TIMIT/TRAIN/DR7/MKLR0/SX339.WAV\r",
      "2: /home/sri/Desktop/timit/TIMIT/TRAIN/DR7/MKLR0/SI1059.WAV\r",
      "3: /home/sri/Desktop/timit/TIMIT/TRAIN/DR7/MKLR0/SI1689.WAV\r",
      "4: /home/sri/Desktop/timit/TIMIT/TRAIN/DR7/MKLR0/SX429.WAV\r",
      "5: /home/sri/Desktop/timit/TIMIT/TRAIN/DR7/MKLR0/SX69.WAV\r",
      "6: /home/sri/Desktop/timit/TIMIT/TRAIN/DR7/MKLR0/SX159.WAV\r",
      "7: /home/sri/Desktop/timit/TIMIT/TRAIN/DR7/MKLR0/SI2319.WAV\r",
      "8: /home/sri/Desktop/timit/TIMIT/TRAIN/DR7/MKLR0/SA2.WAV\r",
      "9: /home/sri/Desktop/timit/TIMIT/TRAIN/DR7/MKLR0/SX249.WAV\r",
      "10: /home/sri/Desktop/timit/TIMIT/TRAIN/DR7/MCRE0/SX221.WAV\r",
      "11: /home/sri/Desktop/timit/TIMIT/TRAIN/DR7/MCRE0/SA1.WAV\r",
      "12: /home/sri/Desktop/timit/TIMIT/TRAIN/DR7/MCRE0/SX41.WAV\r",
      "13: /home/sri/Desktop/timit/TIMIT/TRAIN/DR7/MCRE0/SI1751.WAV\r",
      "14: /home/sri/Desktop/timit/TIMIT/TRAIN/DR7/MCRE0/SI1725.WAV\r",
      "15: /home/sri/Desktop/timit/TIMIT/TRAIN/DR7/MCRE0/SX401.WAV\r",
      "16: /home/sri/Desktop/timit/TIMIT/TRAIN/DR7/MCRE0/SX24.WAV\r",
      "17: /home/sri/Desktop/timit/TIMIT/TRAIN/DR7/MCRE0/SA2.WAV\r",
      "18: /home/sri/Desktop/timit/TIMIT/TRAIN/DR7/MCRE0/SI1121.WAV\r",
      "19: /home/sri/Desktop/timit/TIMIT/TRAIN/DR7/MCRE0/SX131.WAV\r",
      "20: /home/sri/Desktop/timit/TIMIT/TRAIN/DR7/MJRA0/SA1.WAV\r",
      "21: /home/sri/Desktop/timit/TIMIT/TRAIN/DR7/MJRA0/SX336.WAV\r",
      "22: /home/sri/Desktop/timit/TIMIT/TRAIN/DR7/MJRA0/SI1236.WAV\r",
      "23: /home/sri/Desktop/timit/TIMIT/TRAIN/DR7/MJRA0/SI606.WAV\r",
      "24: /home/sri/Desktop/timit/TIMIT/TRAIN/DR7/MJRA0/SI1866.WAV\r",
      "25: /home/sri/Desktop/timit/TIMIT/TRAIN/DR7/MJRA0/SX156.WAV\r",
      "26: /home/sri/Desktop/timit/TIMIT/TRAIN/DR7/MJRA0/SA2.WAV\r",
      "27: /home/sri/Desktop/timit/TIMIT/TRAIN/DR7/MJRA0/SX426.WAV\r",
      "28: /home/sri/Desktop/timit/TIMIT/TRAIN/DR7/MJRA0/SX246.WAV\r",
      "29: /home/sri/Desktop/timit/TIMIT/TRAIN/DR7/MJRA0/SX66.WAV\r",
      "30: /home/sri/Desktop/timit/TIMIT/TRAIN/DR7/MDLR0/SA1.WAV\r",
      "31: /home/sri/Desktop/timit/TIMIT/TRAIN/DR7/MDLR0/SI1233.WAV\r",
      "32: /home/sri/Desktop/timit/TIMIT/TRAIN/DR7/MDLR0/SI603.WAV\r",
      "33: /home/sri/Desktop/timit/TIMIT/TRAIN/DR7/MDLR0/SX333.WAV\r",
      "34: /home/sri/Desktop/timit/TIMIT/TRAIN/DR7/MDLR0/SX153.WAV\r",
      "35: /home/sri/Desktop/timit/TIMIT/TRAIN/DR7/MDLR0/SI1863.WAV\r",
      "36: /home/sri/Desktop/timit/TIMIT/TRAIN/DR7/MDLR0/SX243.WAV\r",
      "37: /home/sri/Desktop/timit/TIMIT/TRAIN/DR7/MDLR0/SA2.WAV\r",
      "38: /home/sri/Desktop/timit/TIMIT/TRAIN/DR7/MDLR0/SX423.WAV\r",
      "39: /home/sri/Desktop/timit/TIMIT/TRAIN/DR7/MDLR0/SX63.WAV\r",
      "40: /home/sri/Desktop/timit/TIMIT/TRAIN/DR7/MTMN0/SA1.WAV\r",
      "41: /home/sri/Desktop/timit/TIMIT/TRAIN/DR7/MTMN0/SX434.WAV\r",
      "42: /home/sri/Desktop/timit/TIMIT/TRAIN/DR7/MTMN0/SX74.WAV\r",
      "43: /home/sri/Desktop/timit/TIMIT/TRAIN/DR7/MTMN0/SX254.WAV\r",
      "44: /home/sri/Desktop/timit/TIMIT/TRAIN/DR7/MTMN0/SI1064.WAV\r",
      "45: /home/sri/Desktop/timit/TIMIT/TRAIN/DR7/MTMN0/SX344.WAV\r",
      "46: /home/sri/Desktop/timit/TIMIT/TRAIN/DR7/MTMN0/SX164.WAV\r",
      "47: /home/sri/Desktop/timit/TIMIT/TRAIN/DR7/MTMN0/SA2.WAV\r",
      "48: /home/sri/Desktop/timit/TIMIT/TRAIN/DR7/MTMN0/SI582.WAV\r",
      "49: /home/sri/Desktop/timit/TIMIT/TRAIN/DR7/MTMN0/SI2324.WAV\r",
      "50: /home/sri/Desktop/timit/TIMIT/TRAIN/DR7/FMKC0/SX82.WAV\r",
      "51: /home/sri/Desktop/timit/TIMIT/TRAIN/DR7/FMKC0/SI1041.WAV\r",
      "52: /home/sri/Desktop/timit/TIMIT/TRAIN/DR7/FMKC0/SX442.WAV\r",
      "53: /home/sri/Desktop/timit/TIMIT/TRAIN/DR7/FMKC0/SA1.WAV\r",
      "54: /home/sri/Desktop/timit/TIMIT/TRAIN/DR7/FMKC0/SI1702.WAV\r",
      "55: /home/sri/Desktop/timit/TIMIT/TRAIN/DR7/FMKC0/SX262.WAV\r",
      "56: /home/sri/Desktop/timit/TIMIT/TRAIN/DR7/FMKC0/SX172.WAV\r",
      "57: /home/sri/Desktop/timit/TIMIT/TRAIN/DR7/FMKC0/SX352.WAV\r",
      "58: /home/sri/Desktop/timit/TIMIT/TRAIN/DR7/FMKC0/SA2.WAV\r",
      "59: /home/sri/Desktop/timit/TIMIT/TRAIN/DR7/FMKC0/SI1072.WAV\r",
      "60: /home/sri/Desktop/timit/TIMIT/TRAIN/DR7/MDLR1/SI669.WAV\r",
      "61: /home/sri/Desktop/timit/TIMIT/TRAIN/DR7/MDLR1/SA1.WAV\r",
      "62: /home/sri/Desktop/timit/TIMIT/TRAIN/DR7/MDLR1/SX39.WAV\r",
      "63: /home/sri/Desktop/timit/TIMIT/TRAIN/DR7/MDLR1/SX309.WAV\r",
      "64: /home/sri/Desktop/timit/TIMIT/TRAIN/DR7/MDLR1/SI1929.WAV\r",
      "65: /home/sri/Desktop/timit/TIMIT/TRAIN/DR7/MDLR1/SX129.WAV\r",
      "66: /home/sri/Desktop/timit/TIMIT/TRAIN/DR7/MDLR1/SI1299.WAV\r",
      "67: /home/sri/Desktop/timit/TIMIT/TRAIN/DR7/MDLR1/SX219.WAV\r",
      "68: /home/sri/Desktop/timit/TIMIT/TRAIN/DR7/MDLR1/SX399.WAV\r",
      "69: /home/sri/Desktop/timit/TIMIT/TRAIN/DR7/MDLR1/SA2.WAV\r",
      "70: /home/sri/Desktop/timit/TIMIT/TRAIN/DR7/MTML0/SI2325.WAV\r",
      "71: /home/sri/Desktop/timit/TIMIT/TRAIN/DR7/MTML0/SX435.WAV\r",
      "72: /home/sri/Desktop/timit/TIMIT/TRAIN/DR7/MTML0/SX75.WAV\r",
      "73: /home/sri/Desktop/timit/TIMIT/TRAIN/DR7/MTML0/SA1.WAV\r",
      "74: /home/sri/Desktop/timit/TIMIT/TRAIN/DR7/MTML0/SI1695.WAV\r",
      "75: /home/sri/Desktop/timit/TIMIT/TRAIN/DR7/MTML0/SX345.WAV\r",
      "76: /home/sri/Desktop/timit/TIMIT/TRAIN/DR7/MTML0/SI1065.WAV\r",
      "77: /home/sri/Desktop/timit/TIMIT/TRAIN/DR7/MTML0/SX255.WAV\r",
      "78: /home/sri/Desktop/timit/TIMIT/TRAIN/DR7/MTML0/SX165.WAV\r",
      "79: /home/sri/Desktop/timit/TIMIT/TRAIN/DR7/MTML0/SA2.WAV\r",
      "80: /home/sri/Desktop/timit/TIMIT/TRAIN/DR7/MCLK0/SI2290.WAV\r",
      "81: /home/sri/Desktop/timit/TIMIT/TRAIN/DR7/MCLK0/SA1.WAV\r",
      "82: /home/sri/Desktop/timit/TIMIT/TRAIN/DR7/MCLK0/SI650.WAV\r",
      "83: /home/sri/Desktop/timit/TIMIT/TRAIN/DR7/MCLK0/SI1660.WAV\r",
      "84: /home/sri/Desktop/timit/TIMIT/TRAIN/DR7/MCLK0/SX220.WAV\r",
      "85: /home/sri/Desktop/timit/TIMIT/TRAIN/DR7/MCLK0/SX310.WAV\r",
      "86: /home/sri/Desktop/timit/TIMIT/TRAIN/DR7/MCLK0/SX40.WAV\r",
      "87: /home/sri/Desktop/timit/TIMIT/TRAIN/DR7/MCLK0/SX400.WAV\r",
      "88: /home/sri/Desktop/timit/TIMIT/TRAIN/DR7/MCLK0/SA2.WAV\r",
      "89: /home/sri/Desktop/timit/TIMIT/TRAIN/DR7/MCLK0/SX130.WAV\r",
      "90: /home/sri/Desktop/timit/TIMIT/TRAIN/DR7/MSAH1/SX149.WAV\r",
      "91: /home/sri/Desktop/timit/TIMIT/TRAIN/DR7/MSAH1/SA1.WAV\r",
      "92: /home/sri/Desktop/timit/TIMIT/TRAIN/DR7/MSAH1/SI2309.WAV\r",
      "93: /home/sri/Desktop/timit/TIMIT/TRAIN/DR7/MSAH1/SX419.WAV\r",
      "94: /home/sri/Desktop/timit/TIMIT/TRAIN/DR7/MSAH1/SX239.WAV\r",
      "95: /home/sri/Desktop/timit/TIMIT/TRAIN/DR7/MSAH1/SX329.WAV\r",
      "96: /home/sri/Desktop/timit/TIMIT/TRAIN/DR7/MSAH1/SI1679.WAV\r",
      "97: /home/sri/Desktop/timit/TIMIT/TRAIN/DR7/MSAH1/SX59.WAV\r",
      "98: /home/sri/Desktop/timit/TIMIT/TRAIN/DR7/MSAH1/SA2.WAV\r",
      "99: /home/sri/Desktop/timit/TIMIT/TRAIN/DR7/MSAH1/SI1049.WAV\r"
     ]
    }
   ],
   "source": [
    "# read in 1000 WAVs from TIMIT training set\n",
    "rawWaveforms = load_TIMIT_train(TIMIT_DIR, 100)"
   ]
  },
  {
   "cell_type": "code",
   "execution_count": 140,
   "metadata": {
    "collapsed": false
   },
   "outputs": [],
   "source": [
    "# waveform preprocessing\n",
    "def preprocessWaveform(waveform):\n",
    "    mn = np.min(waveform)\n",
    "    mx = np.max(waveform)\n",
    "    \n",
    "    maxabs = max(abs(mn), abs(mx))\n",
    "    scl = 32768.0 / maxabs    \n",
    "    \n",
    "    processed = waveform * scl\n",
    "    \n",
    "    return processed, (scl,)\n",
    "    \n",
    "def unpreprocessWaveform(waveform, params):\n",
    "    unprocessed = waveform / params[0]\n",
    "    return unprocessed\n",
    "\n",
    "\n",
    "\n",
    "# window preprocessing\n",
    "def preprocessWindows(windows):\n",
    "    # scale window between -1 and 1\n",
    "    processed = np.copy(windows)\n",
    "    processed /= 32768.0\n",
    "    \n",
    "    # apply u-law transformation\n",
    "    processed = np.sign(processed) * np.log(1.0 + (NBINS - 1) * np.abs(processed)) / np.log(1.0 + (NBINS - 1))\n",
    "    \n",
    "    # scale from 0 to 255\n",
    "    processed = ((processed + 1.0) / 2.0) * (NBINS - 1)\n",
    "    \n",
    "    # quantize into 255 bins\n",
    "    processed = np.round(processed)\n",
    "    processed = processed.astype(np.int16)\n",
    "    \n",
    "    return processed, ()\n",
    "\n",
    "def unpreprocessWindows(windows, params):\n",
    "    # de-quantize (go from ints [0, 255] to float [-1.0, 1.0])\n",
    "    unprocessed = np.copy(windows)\n",
    "    unprocessed = unprocessed.astype(np.float32)\n",
    "    unprocessed = (unprocessed / (NBINS - 1)) * 2.0 - 1.0\n",
    "    \n",
    "    # un-apply u-law transformation\n",
    "    unprocessed = np.sign(unprocessed) * (np.power(NBINS, np.abs(unprocessed)) - 1) / (NBINS - 1)\n",
    "    \n",
    "    # scale window from [-1, 1] to [-32768, 32768]\n",
    "    unprocessed *= 32768.0\n",
    "    return unprocessed"
   ]
  },
  {
   "cell_type": "code",
   "execution_count": 141,
   "metadata": {
    "collapsed": false
   },
   "outputs": [
    {
     "name": "stdout",
     "output_type": "stream",
     "text": [
      "31\n",
      "1\n",
      "mean l1: 9.93523877629\n",
      "max l1:  149.0\n",
      "means: 0.471988200854 0.773671\n",
      "stds:  210.915280373 211.997\n",
      "max/min orig:   1379.0 -1023.0\n",
      "max/min recons: 1379.0 -1094.0\n"
     ]
    }
   ],
   "source": [
    "# test data preprocessing and loss\n",
    "data = np.copy(rawWaveforms[55])\n",
    "\n",
    "processedWave, wparams = preprocessWaveform(data)\n",
    "windows = extractWindows(processedWave, STEP_SIZE, OVERLAP_SIZE)\n",
    "transformed, tparams = preprocessWindows(windows)\n",
    "\n",
    "print np.max(transformed)\n",
    "print np.min(transformed)\n",
    "\n",
    "desired = unpreprocessWindows(transformed, tparams)\n",
    "desired = reconstructFromWindows(desired, OVERLAP_SIZE, OVERLAP_FUNC)\n",
    "desired = unpreprocessWaveform(desired, wparams)\n",
    "\n",
    "# trim desired down to length of data\n",
    "if (desired.shape[0] > data.shape[0]):\n",
    "    desired = desired[:data.shape[0]]\n",
    "desired = np.round(desired)\n",
    "    \n",
    "sciwav.write(\"orig.wav\", 16000, data.astype(np.int16))\n",
    "sciwav.write(\"processed.wav\", 16000, desired.astype(np.int16))\n",
    "\n",
    "print \"mean l1:\", np.mean(np.abs(data - desired))\n",
    "print \"max l1: \", np.max(np.abs(data - desired))\n",
    "print \"means:\", np.mean(data), np.mean(desired)\n",
    "print \"stds: \", np.std(data), np.std(desired)\n",
    "print \"max/min orig:  \", np.max(data), np.min(data)\n",
    "print \"max/min recons:\", np.max(desired), np.min(desired)"
   ]
  },
  {
   "cell_type": "code",
   "execution_count": 142,
   "metadata": {
    "collapsed": false
   },
   "outputs": [],
   "source": [
    "# waveform preprocessing\n",
    "processedWaveforms = np.copy(rawWaveforms)\n",
    "\n",
    "# we maximize the volume of every waveform\n",
    "for i in xrange(0, len(processedWaveforms)):\n",
    "    processedWaveforms[i], _ = preprocessWaveform(processedWaveforms[i])"
   ]
  },
  {
   "cell_type": "code",
   "execution_count": 143,
   "metadata": {
    "collapsed": false
   },
   "outputs": [
    {
     "name": "stdout",
     "output_type": "stream",
     "text": [
      "Raw windows shape:  (10116, 512)\n",
      "Max:  32768.0\n",
      "Min:  -32768.0\n"
     ]
    }
   ],
   "source": [
    "# extract windows\n",
    "rawWindows = extractWindowsMultiple(processedWaveforms, STEP_SIZE, OVERLAP_SIZE,\n",
    "                                    collapse = True)\n",
    "\n",
    "# randomly shuffle data\n",
    "if (RANDOM_SHUFFLE):\n",
    "    rawWindows = np.random.permutation(rawWindows)\n",
    "\n",
    "print \"Raw windows shape: \", rawWindows.shape\n",
    "print \"Max: \", np.amax(rawWindows)\n",
    "print \"Min: \", np.amin(rawWindows)"
   ]
  },
  {
   "cell_type": "code",
   "execution_count": 144,
   "metadata": {
    "collapsed": false
   },
   "outputs": [
    {
     "name": "stdout",
     "output_type": "stream",
     "text": [
      "Aug windows shape:  (10116, 512)\n"
     ]
    }
   ],
   "source": [
    "# data augmentation goes here, at some point\n",
    "augWindows = np.copy(rawWindows)\n",
    "\n",
    "print \"Aug windows shape: \", augWindows.shape"
   ]
  },
  {
   "cell_type": "code",
   "execution_count": 145,
   "metadata": {
    "collapsed": false
   },
   "outputs": [
    {
     "name": "stdout",
     "output_type": "stream",
     "text": [
      "(10116, 512)\n",
      "15.3692134135\n",
      "4.26798436417\n",
      "0\n",
      "31\n"
     ]
    }
   ],
   "source": [
    "processedWindows, pwParams = preprocessWindows(augWindows)\n",
    "\n",
    "# reshape into (WINDOW_SIZE x 1) vector form for training\n",
    "X_train = np.reshape(processedWindows, (processedWindows.shape[0], WINDOW_SIZE, 1))\n",
    "ntrain = X_train.shape[0]\n",
    "\n",
    "print processedWindows.shape\n",
    "\n",
    "print np.mean(processedWindows, axis=None)\n",
    "print np.std(processedWindows, axis=None)\n",
    "print np.min(processedWindows, axis = None)\n",
    "print np.max(processedWindows, axis = None)"
   ]
  },
  {
   "cell_type": "code",
   "execution_count": 146,
   "metadata": {
    "collapsed": false
   },
   "outputs": [],
   "source": [
    "# empirically estimate prior probabilities\n",
    "prior_probs = np.zeros(NBINS)\n",
    "\n",
    "for w in processedWindows:\n",
    "    for i in w:\n",
    "        prior_probs[i] += 1\n",
    "\n",
    "prior_probs /= sum(prior_probs)"
   ]
  },
  {
   "cell_type": "code",
   "execution_count": 147,
   "metadata": {
    "collapsed": false
   },
   "outputs": [
    {
     "data": {
      "image/png": "[encoded data removed]",
      "text/plain": [
       "<matplotlib.figure.Figure at 0x7f16289ee850>"
      ]
     },
     "metadata": {},
     "output_type": "display_data"
    }
   ],
   "source": [
    "# plot probability distribution\n",
    "from matplotlib import pyplot as plt\n",
    "\n",
    "X = np.linspace(0, NBINS - 1, NBINS, endpoint=True)\n",
    "plt.xlim(0.0, NBINS - 1)\n",
    "plt.plot(prior_probs)\n",
    "plt.show()"
   ]
  },
  {
   "cell_type": "code",
   "execution_count": 148,
   "metadata": {
    "collapsed": true
   },
   "outputs": [],
   "source": [
    "# define uniform probability distribution\n",
    "uni_probs = np.zeros_like(prior_probs)\n",
    "uni_probs[prior_probs != 0] = 1\n",
    "uni_probs = uni_probs / np.sum(uni_probs)"
   ]
  },
  {
   "cell_type": "code",
   "execution_count": 149,
   "metadata": {
    "collapsed": false
   },
   "outputs": [
    {
     "data": {
      "image/png": "[encoded data removed]",
      "text/plain": [
       "<matplotlib.figure.Figure at 0x7f1628a00f90>"
      ]
     },
     "metadata": {},
     "output_type": "display_data"
    }
   ],
   "source": [
    "# convex combination of empirical prior and uniform distribution\n",
    "gamma = 0.5\n",
    "prior_mix = (1 - gamma) * prior_probs + gamma * uni_probs\n",
    "\n",
    "# plot mix\n",
    "X = np.linspace(0, NBINS - 1, NBINS, endpoint=True)\n",
    "plt.xlim(0.0, NBINS - 1)\n",
    "plt.plot(prior_mix)\n",
    "plt.show()"
   ]
  },
  {
   "cell_type": "code",
   "execution_count": 150,
   "metadata": {
    "collapsed": false,
    "scrolled": false
   },
   "outputs": [
    {
     "name": "stdout",
     "output_type": "stream",
     "text": [
      "[0.000028 0.000205 0.000683 0.001828 0.003792 0.006680 0.010738 0.015818\n",
      " 0.021554 0.027922 0.034392 0.041133 0.048074 0.055354 0.068294 0.152265\n",
      " 0.229795 0.060581 0.043618 0.035917 0.030195 0.025393 0.021577 0.017848\n",
      " 0.014608 0.011526 0.008427 0.005616 0.003412 0.001770 0.000785 0.000172]\n",
      "[1131.860140 152.550424 45.786704 17.096863 8.240721 4.678189 2.910189\n",
      " 1.975588 1.449829 1.119205 0.908645 0.759723 0.650040 0.564552 0.457578\n",
      " 0.205234 0.135991 0.515838 0.716440 0.870067 1.034931 1.230638 1.448324\n",
      " 1.750911 2.139226 2.711201 3.708296 5.564165 9.159932 17.652525 39.797394\n",
      " 181.656566]\n"
     ]
    }
   ],
   "source": [
    "# generate prior factors through reciprocal, normalizing s.t. E(p) = 1\n",
    "prior_factors = np.array(prior_probs ** -1)\n",
    "prior_factors /= np.sum(prior_probs * prior_factors)\n",
    "\n",
    "print prior_probs\n",
    "print prior_factors"
   ]
  },
  {
   "cell_type": "code",
   "execution_count": 151,
   "metadata": {
    "collapsed": true
   },
   "outputs": [],
   "source": [
    "# operations for binarization layer (THEANO ONLY)\n",
    "class Binarize(T.Op):\n",
    "    # properties attribute\n",
    "    __props__ = ()\n",
    "    \n",
    "    def __init__(self):\n",
    "        super(Binarize, self).__init__()\n",
    "        \n",
    "    def make_node(self, x):\n",
    "        assert hasattr(self, '_props'), \"Your version of theano is too old to support __props__.\"\n",
    "        x = T.as_tensor_variable(x)\n",
    "        return theano.Apply(self, [x], [x.type()])\n",
    "    \n",
    "    def perform(self, node, inputs, output_storage):\n",
    "        x, = inputs\n",
    "        z, = output_storage\n",
    "        \n",
    "        # TODO: learn threshold per parameter?\n",
    "        z[0] = np.copy(x)\n",
    "        z[0][z[0] < 0] = -1\n",
    "        z[0][z[0] >= 0] = 1\n",
    "    \n",
    "    def grad(self, input, output_gradients):\n",
    "        # pass through gradients unchanged\n",
    "        # (i don't think there's a mathematical justification for this?)\n",
    "        return [output_gradients[0]]\n",
    "        \n",
    "    def infer_shape(self, node, i0_shapes):\n",
    "        # output shape is same as input shape\n",
    "        return i0_shapes\n",
    "\n",
    "    \n",
    "class BinarizeLayer(Layer):\n",
    "    \"\"\" Binarizes input \n",
    "    <feedforward> binarizes output of tanh to -1 and 1\n",
    "    <backward> returns delta unchanged\n",
    "    \"\"\"\n",
    "    def __init__(self, **kwargs):\n",
    "        super(BinarizeLayer, self).__init__(**kwargs)\n",
    "        self.op = Binarize()\n",
    "    \n",
    "    def build(self, input_shape):\n",
    "        # no trainable parameters\n",
    "        self.trainable_weights = []\n",
    "    \n",
    "    def call(self, x, mask=None):\n",
    "        return self.op(x)\n",
    "\n",
    "    #def get_output_shape_for(self, input_shape):\n",
    "    #    return input_shape\n",
    "    \n",
    "    def get_config(self):\n",
    "        config = {\"name\": self.__class__.__name__}\n",
    "        base_config = super(BinarizeLayer, self).get_config()\n",
    "        return dict(list(base_config.items()) + list(config.items()))\n"
   ]
  },
  {
   "cell_type": "code",
   "execution_count": 176,
   "metadata": {
    "collapsed": false
   },
   "outputs": [
    {
     "name": "stdout",
     "output_type": "stream",
     "text": [
      "____________________________________________________________________________________________________\n",
      "Layer (type)                     Output Shape          Param #     Connected to                     \n",
      "====================================================================================================\n",
      "input_21 (InputLayer)            (None, 512, 1)        0                                            \n",
      "____________________________________________________________________________________________________\n",
      "sequential_41 (Sequential)       (None, 320)           118104      input_21[0][0]                   \n",
      "____________________________________________________________________________________________________\n",
      "sequential_42 (Sequential)       (None, 512, 32)       155616      sequential_41[1][0]              \n",
      "====================================================================================================\n",
      "Total params: 273720\n",
      "____________________________________________________________________________________________________\n"
     ]
    }
   ],
   "source": [
    "input_dim = (WINDOW_SIZE, 1)\n",
    "input_size = np.prod(input_dim)\n",
    "bottleneck_size = 320\n",
    "\n",
    "def wregu():\n",
    "    # return l2(0.001)\n",
    "    return None\n",
    "\n",
    "# ---------------------------------------------------------------------------\n",
    "# autoencoder: takes an audio window, compresses it, and tries to reconstruct it\n",
    "# ---------------------------------------------------------------------------\n",
    "def autoencoder_structure(dim):\n",
    "    enc = Sequential()\n",
    "    dec = Sequential()\n",
    "    \n",
    "    # based on architecture in this paper:\n",
    "    #     http://arxiv.org/pdf/1602.02644.pdf\n",
    "    # adapted to a 32x32 image instead of 64x64\n",
    "\n",
    "    # (512x1) => (512x64)\n",
    "    enc.add(Convolution1D(64, 9, W_regularizer = wregu(), border_mode = 'same',\n",
    "                          input_shape = dim, activation = 'relu',\n",
    "                          init = 'glorot_normal', bias = True))\n",
    "\n",
    "    # (512x1) => (256x64)   \n",
    "    enc.add(Convolution1D(64, 9, W_regularizer = wregu(), border_mode = 'same',\n",
    "                          input_shape = dim, activation = 'relu',\n",
    "                          init = 'glorot_normal', bias = True))\n",
    "    enc.add(MaxPooling1D(2))\n",
    "    \n",
    "    # (256x64) => (128x64)    \n",
    "    enc.add(Convolution1D(64, 9, W_regularizer = wregu(), border_mode = 'same',\n",
    "                          activation = 'relu',\n",
    "                          init = 'glorot_normal', bias = True))\n",
    "    enc.add(MaxPooling1D(2))\n",
    "    \n",
    "    # (128x64) => (64x64)\n",
    "    enc.add(Convolution1D(64, 9, W_regularizer = wregu(), border_mode = 'same',\n",
    "                          activation = 'relu',\n",
    "                          init = 'glorot_normal', bias = True))\n",
    "    enc.add(MaxPooling1D(2))\n",
    "    \n",
    "    # (64x64) => (32x10)\n",
    "    enc.add(Convolution1D(10, 9, W_regularizer = wregu(), border_mode = 'same',\n",
    "                          activation = 'relu',\n",
    "                          init = 'glorot_normal', bias = True))\n",
    "    enc.add(MaxPooling1D(2))\n",
    "    \n",
    "    # (32x10) => (32x10)\n",
    "    enc.add(Convolution1D(10, 9, W_regularizer = wregu(), border_mode = 'same',\n",
    "                          activation = 'linear',\n",
    "                          init = 'glorot_normal', bias = True))\n",
    "    \n",
    "    # binarize   \n",
    "    enc.add(Reshape((bottleneck_size,)))\n",
    "    enc.add(BinarizeLayer())\n",
    "    \n",
    "    dec.add(Reshape((32, 10,), input_shape = (bottleneck_size,)))\n",
    "    \n",
    "    # (32x10) => (64x64)\n",
    "    dec.add(UpSampling1D(2))\n",
    "    dec.add(Convolution1D(64, 9, W_regularizer = wregu(), border_mode = 'same',\n",
    "                          init = 'glorot_normal', activation = 'relu',\n",
    "                          bias = True))\n",
    "    \n",
    "    # (64x64) => (128x64)\n",
    "    dec.add(UpSampling1D(2))\n",
    "    dec.add(Convolution1D(64, 9, W_regularizer = wregu(), border_mode = 'same',\n",
    "                          init = 'glorot_normal', activation = 'relu',\n",
    "                          bias = True))\n",
    "    \n",
    "    # (128x64) => (256x64)\n",
    "    dec.add(UpSampling1D(2))\n",
    "    dec.add(Convolution1D(64, 9, W_regularizer = wregu(), border_mode = 'same',\n",
    "                          init = 'glorot_normal', activation = 'relu',\n",
    "                          bias = True))\n",
    "    \n",
    "    # (256x64) => (512x64)\n",
    "    dec.add(UpSampling1D(2))\n",
    "    dec.add(Convolution1D(64, 9, W_regularizer = wregu(), border_mode = 'same',\n",
    "                          init = 'glorot_normal', activation = 'relu',\n",
    "                          bias = True))\n",
    "    \n",
    "    # (512x64) => (512x64)\n",
    "    dec.add(Convolution1D(64, 9, W_regularizer = wregu(), border_mode = 'same',\n",
    "                          init = 'glorot_normal', activation = 'relu',\n",
    "                          bias = True))\n",
    "    \n",
    "    # (512x64) => (512x256) where each 256-len vector is a softmax\n",
    "    dec.add(Convolution1D(NBINS, 1, W_regularizer = wregu(), border_mode = 'same',\n",
    "                          init = 'glorot_normal', activation = 'softmax',\n",
    "                          bias = True))\n",
    "\n",
    "    return enc, dec\n",
    "\n",
    "\n",
    "def onehot_acc_strict(y_true, y_pred):\n",
    "    # convert one-hot vectors to actual vectors\n",
    "    pred_vec = K.argmax(y_pred, axis = 2)\n",
    "    true_vec = K.argmax(y_true, axis = 2)\n",
    "    \n",
    "    equal = K.equal(pred_vec, true_vec)\n",
    "    return K.mean(equal)\n",
    "\n",
    "def onehot_acc_loose(y_true, y_pred):\n",
    "    # convert one-hot vectors to actual vectors\n",
    "    pred_vec = K.argmax(y_pred, axis = 2)\n",
    "    true_vec = K.argmax(y_true, axis = 2)\n",
    "    \n",
    "    diff = K.abs(pred_vec - true_vec)\n",
    "    almost = K.lesser_equal(diff, 2)\n",
    "    return K.mean(almost)\n",
    "\n",
    "def onehot_rmse(y_true, y_pred):\n",
    "    # convert one-hot vectors to actual vectors\n",
    "    pred_vec = K.argmax(y_pred, axis = 2)\n",
    "    true_vec = K.argmax(y_true, axis = 2)\n",
    "    \n",
    "    return K.sqrt(K.mean(K.square(pred_vec - true_vec)))\n",
    "\n",
    "k_prior_factors = K.variable(prior_factors)\n",
    "def weighted_categorical_crossentropy(y_true, y_pred):\n",
    "    true_vec = K.argmax(y_true, axis = 2)\n",
    "    weights = k_prior_factors[true_vec]\n",
    "    \n",
    "    return weights * -K.sum(y_true * K.log(y_pred), axis = -1)\n",
    "    #return -K.sum(y_true * K.log(y_pred), axis = 2)\n",
    "\n",
    "\n",
    "\n",
    "all_metrics = [onehot_acc_strict, onehot_acc_loose, onehot_rmse]\n",
    "\n",
    "# plain autoencoder\n",
    "inp = Input(shape = input_dim)\n",
    "enc, dec = autoencoder_structure(input_dim)\n",
    "embedding = enc(inp)\n",
    "recons = dec(embedding)\n",
    "autoencoder = Model(input = inp, output = recons)\n",
    "autoencoder.compile(loss = weighted_categorical_crossentropy,\n",
    "              optimizer = Adam())\n",
    "autoencoder.summary()\n",
    "\n",
    "losses = [weighted_categorical_crossentropy]\n",
    "lweights = [1.0]\n",
    "\n",
    "# compile another model (in case i want to do other stuff during training)\n",
    "model = Model(input = inp, output = [recons] * len(losses))\n",
    "model.compile(loss = losses, loss_weights = lweights,\n",
    "              optimizer = Adam(), metrics = all_metrics)\n"
   ]
  },
  {
   "cell_type": "code",
   "execution_count": 177,
   "metadata": {
    "collapsed": false
   },
   "outputs": [
    {
     "data": {
      "text/plain": [
       "array([0.106507, 0.786986, 0.106507])"
      ]
     },
     "execution_count": 177,
     "metadata": {},
     "output_type": "execute_result"
    }
   ],
   "source": [
    "import scipy\n",
    "\n",
    "# turns quantized windows to one-hot vectors\n",
    "#     (optimized function ;) \n",
    "def windows_to_one_hot(windows, soft = False, sz = 3, std = 0.5):\n",
    "    one_hot = np.zeros((windows.shape[0], windows.shape[1], NBINS))\n",
    "    \n",
    "    if (soft):\n",
    "        # soft one-hot vector\n",
    "        kernel = scipy.signal.gaussian(sz, std)\n",
    "        kernel /= sum(kernel)\n",
    "        \n",
    "        # for each window in windows\n",
    "        for i in xrange(0, windows.shape[0]):\n",
    "            # this is really hacky, but it's the fastest way to do this\n",
    "            # special convolution\n",
    "            for j in xrange(-sz/2, (sz/2)+1):\n",
    "                try:\n",
    "                    one_hot[i, np.arange(windows[i].shape[0]),\n",
    "                            np.where(windows[i] + j < 0, NBINS+1, windows[i] + j)] = kernel[j+4]\n",
    "                except:\n",
    "                    pass\n",
    "    else:\n",
    "        # for each window in windows\n",
    "        for i in xrange(0, windows.shape[0]):\n",
    "            # set indices to 1\n",
    "            one_hot[i, np.arange(windows[i].shape[0]), windows[i]] = 1\n",
    "    \n",
    "    return one_hot\n",
    "    \n",
    "# turns one-hot-vectors into quantized (by taking argmax)\n",
    "def one_hot_to_windows(one_hot):\n",
    "    return np.array([[np.argmax(v) for v in w] for w in one_hot])\n",
    "\n",
    "kernel = scipy.signal.gaussian(3, 0.5)\n",
    "kernel / sum(kernel)"
   ]
  },
  {
   "cell_type": "code",
   "execution_count": 178,
   "metadata": {
    "collapsed": false
   },
   "outputs": [],
   "source": [
    "def autoencoderTest(waveFilename, prefix, autoencoder):\n",
    "    [rate, data] = sciwav.read(waveFilename)\n",
    "    processedWave, wparams = preprocessWaveform(data)\n",
    "    windows = extractWindows(processedWave, STEP_SIZE, OVERLAP_SIZE)\n",
    "    \n",
    "\n",
    "    # first, write desired reconstruction\n",
    "    transformed, tparams = preprocessWindows(windows)\n",
    "    print transformed.shape\n",
    "    desired = unpreprocessWindows(transformed, tparams)\n",
    "    desired = reconstructFromWindows(desired, OVERLAP_SIZE, OVERLAP_FUNC)\n",
    "    desired = unpreprocessWaveform(desired, wparams)\n",
    "    sciwav.write(prefix + \"desired.wav\", rate, desired.astype(np.int16))\n",
    "    \n",
    "    # then, run NN on transformed windows\n",
    "    transformed, tparams = preprocessWindows(windows)\n",
    "    \n",
    "    transformed = np.reshape(transformed, (transformed.shape[0], WINDOW_SIZE, 1))\n",
    "    autoencOutput = autoencoder.predict(transformed, batch_size = BATCH_SIZE, verbose = 1)\n",
    "    print autoencOutput.shape\n",
    "    autoencOutput = np.reshape(autoencOutput, (autoencOutput.shape[0], WINDOW_SIZE, NBINS))\n",
    "    autoencOutput = one_hot_to_windows(autoencOutput)\n",
    "    \n",
    "    print autoencOutput.shape\n",
    "    recons = unpreprocessWindows(autoencOutput, tparams)\n",
    "    recons = reconstructFromWindows(recons, OVERLAP_SIZE, OVERLAP_FUNC)\n",
    "    recons = unpreprocessWaveform(recons, wparams)\n",
    "    \n",
    "    print \"Max desired:\", np.max(desired)\n",
    "    print \"Min desired:\", np.min(desired)\n",
    "    print \"Max recons: \", np.max(recons)\n",
    "    print \"Min recons: \", np.min(recons)\n",
    "    \n",
    "    sciwav.write(prefix + \"output.wav\", rate, recons.astype(np.int16))\n",
    "\n",
    "    print waveFilename, \" mse: \", mse(recons, desired)\n",
    "    print waveFilename, \" avg err: \", avgErr(recons, desired)"
   ]
  },
  {
   "cell_type": "code",
   "execution_count": 179,
   "metadata": {
    "collapsed": false,
    "scrolled": false
   },
   "outputs": [
    {
     "name": "stdout",
     "output_type": "stream",
     "text": [
      "Epoch 1:\n",
      "    9600: [0.517719 0.016541 0.026852 13.514443] \n",
      "    Total time for epoch: 32.8159089088s\n",
      "\n",
      "Epoch 2:\n",
      "    9600: [0.508737 0.020360 0.024727 13.855727] \n",
      "    Total time for epoch: 22.6328561306s\n",
      "\n",
      "Epoch 3:\n",
      "    9600: [0.506588 0.019530 0.023872 13.860289] \n",
      "    Total time for epoch: 22.7408738136s\n",
      "\n",
      "Epoch 4:\n",
      "    9600: [0.509312 0.019847 0.024200 13.859035] \n",
      "    Total time for epoch: 22.7504708767s\n",
      "\n",
      "Epoch 5:\n",
      "    9600: [0.508169 0.020356 0.024693 13.854108] \n",
      "    Total time for epoch: 22.7482681274s\n",
      "\n",
      "Epoch 6:\n",
      "    6400: [0.500404 0.019762 0.023993 13.861156]"
     ]
    },
    {
     "ename": "KeyboardInterrupt",
     "evalue": "",
     "output_type": "error",
     "traceback": [
      "\u001b[0;31m---------------------------------------------------------------------------\u001b[0m",
      "\u001b[0;31mKeyboardInterrupt\u001b[0m                         Traceback (most recent call last)",
      "\u001b[0;32m<ipython-input-179-6904fca6d20d>\u001b[0m in \u001b[0;36m<module>\u001b[0;34m()\u001b[0m\n\u001b[1;32m     19\u001b[0m         \u001b[0mnbatch\u001b[0m \u001b[0;34m=\u001b[0m \u001b[0mbatch\u001b[0m\u001b[0;34m.\u001b[0m\u001b[0mshape\u001b[0m\u001b[0;34m[\u001b[0m\u001b[0;36m0\u001b[0m\u001b[0;34m]\u001b[0m\u001b[0;34m\u001b[0m\u001b[0m\n\u001b[1;32m     20\u001b[0m \u001b[0;34m\u001b[0m\u001b[0m\n\u001b[0;32m---> 21\u001b[0;31m         \u001b[0mbatch_onehot\u001b[0m \u001b[0;34m=\u001b[0m \u001b[0mwindows_to_one_hot\u001b[0m\u001b[0;34m(\u001b[0m\u001b[0mbatch\u001b[0m\u001b[0;34m[\u001b[0m\u001b[0;34m:\u001b[0m\u001b[0;34m,\u001b[0m \u001b[0;34m:\u001b[0m\u001b[0;34m,\u001b[0m \u001b[0;36m0\u001b[0m\u001b[0;34m]\u001b[0m\u001b[0;34m,\u001b[0m \u001b[0mTrue\u001b[0m\u001b[0;34m)\u001b[0m\u001b[0;34m\u001b[0m\u001b[0m\n\u001b[0m\u001b[1;32m     22\u001b[0m \u001b[0;34m\u001b[0m\u001b[0m\n\u001b[1;32m     23\u001b[0m         \u001b[0mbatchLosses\u001b[0m \u001b[0;34m=\u001b[0m \u001b[0mmodel\u001b[0m\u001b[0;34m.\u001b[0m\u001b[0mtrain_on_batch\u001b[0m\u001b[0;34m(\u001b[0m\u001b[0mbatch\u001b[0m\u001b[0;34m,\u001b[0m \u001b[0;34m[\u001b[0m\u001b[0mbatch_onehot\u001b[0m\u001b[0;34m]\u001b[0m \u001b[0;34m*\u001b[0m \u001b[0mlen\u001b[0m\u001b[0;34m(\u001b[0m\u001b[0mlweights\u001b[0m\u001b[0;34m)\u001b[0m\u001b[0;34m)\u001b[0m\u001b[0;34m\u001b[0m\u001b[0m\n",
      "\u001b[0;32m<ipython-input-177-137db7030b03>\u001b[0m in \u001b[0;36mwindows_to_one_hot\u001b[0;34m(windows, soft, sz, std)\u001b[0m\n\u001b[1;32m      4\u001b[0m \u001b[0;31m#     (optimized function ;)\u001b[0m\u001b[0;34m\u001b[0m\u001b[0;34m\u001b[0m\u001b[0m\n\u001b[1;32m      5\u001b[0m \u001b[0;32mdef\u001b[0m \u001b[0mwindows_to_one_hot\u001b[0m\u001b[0;34m(\u001b[0m\u001b[0mwindows\u001b[0m\u001b[0;34m,\u001b[0m \u001b[0msoft\u001b[0m \u001b[0;34m=\u001b[0m \u001b[0mFalse\u001b[0m\u001b[0;34m,\u001b[0m \u001b[0msz\u001b[0m \u001b[0;34m=\u001b[0m \u001b[0;36m3\u001b[0m\u001b[0;34m,\u001b[0m \u001b[0mstd\u001b[0m \u001b[0;34m=\u001b[0m \u001b[0;36m0.5\u001b[0m\u001b[0;34m)\u001b[0m\u001b[0;34m:\u001b[0m\u001b[0;34m\u001b[0m\u001b[0m\n\u001b[0;32m----> 6\u001b[0;31m     \u001b[0mone_hot\u001b[0m \u001b[0;34m=\u001b[0m \u001b[0mnp\u001b[0m\u001b[0;34m.\u001b[0m\u001b[0mzeros\u001b[0m\u001b[0;34m(\u001b[0m\u001b[0;34m(\u001b[0m\u001b[0mwindows\u001b[0m\u001b[0;34m.\u001b[0m\u001b[0mshape\u001b[0m\u001b[0;34m[\u001b[0m\u001b[0;36m0\u001b[0m\u001b[0;34m]\u001b[0m\u001b[0;34m,\u001b[0m \u001b[0mwindows\u001b[0m\u001b[0;34m.\u001b[0m\u001b[0mshape\u001b[0m\u001b[0;34m[\u001b[0m\u001b[0;36m1\u001b[0m\u001b[0;34m]\u001b[0m\u001b[0;34m,\u001b[0m \u001b[0mNBINS\u001b[0m\u001b[0;34m)\u001b[0m\u001b[0;34m)\u001b[0m\u001b[0;34m\u001b[0m\u001b[0m\n\u001b[0m\u001b[1;32m      7\u001b[0m \u001b[0;34m\u001b[0m\u001b[0m\n\u001b[1;32m      8\u001b[0m     \u001b[0;32mif\u001b[0m \u001b[0;34m(\u001b[0m\u001b[0msoft\u001b[0m\u001b[0;34m)\u001b[0m\u001b[0;34m:\u001b[0m\u001b[0;34m\u001b[0m\u001b[0m\n",
      "\u001b[0;31mKeyboardInterrupt\u001b[0m: "
     ]
    }
   ],
   "source": [
    "NUM_BATCHES = ntrain / BATCH_SIZE\n",
    "NUM_EPOCHS = 300\n",
    "\n",
    "lead = \"    \"\n",
    "\n",
    "for epoch in range(NUM_EPOCHS):\n",
    "    print \"Epoch \" + str(epoch + 1) + \":\"\n",
    "\n",
    "    # present batches randomly each epoch\n",
    "    lis = range(0, ntrain, BATCH_SIZE)\n",
    "    random.shuffle(lis)\n",
    "    \n",
    "    # keep track of start time and current batch #\n",
    "    i = 0\n",
    "    startTime = time.time()\n",
    "    totalLosses = []\n",
    "    for idx in lis:\n",
    "        batch = X_train[idx:idx+BATCH_SIZE, :,  :]\n",
    "        nbatch = batch.shape[0]\n",
    "        \n",
    "        batch_onehot = windows_to_one_hot(batch[:, :, 0], True)\n",
    "        \n",
    "        batchLosses = model.train_on_batch(batch, [batch_onehot] * len(lweights))\n",
    "        if (len(lweights) > 1):\n",
    "            numMetrics = len(lweights) + len(all_metrics) + 1\n",
    "            batchLosses = batchLosses[:numMetrics]\n",
    "        \n",
    "        if (totalLosses == []):\n",
    "            totalLosses = np.array(batchLosses)\n",
    "        else:\n",
    "            totalLosses += np.array(batchLosses)\n",
    "        \n",
    "        avgLosses = totalLosses / (i + 1)\n",
    "        \n",
    "        # print statistics every 10 batches so we know stuff is still going down\n",
    "        if (i % 10 == 0):\n",
    "            printStr = \"        \\r\" + lead + str(i * BATCH_SIZE) + \": \" + str(avgLosses)\n",
    "            print printStr,\n",
    "            \n",
    "        i += 1\n",
    "    print \"\"\n",
    "    \n",
    "    # print elapsed time\n",
    "    elapsed = time.time() - startTime\n",
    "    print lead + \"Total time for epoch: \" + str(elapsed) + \"s\"\n",
    "    \n",
    "    print \"\""
   ]
  },
  {
   "cell_type": "code",
   "execution_count": 180,
   "metadata": {
    "collapsed": false,
    "scrolled": true
   },
   "outputs": [
    {
     "name": "stdout",
     "output_type": "stream",
     "text": [
      " (112, 512)\n",
      "112/112 [==============================] - 0s     \n",
      "(112, 512, 32)\n",
      "(112, 512)\n",
      "Max desired: 4899.0\n",
      "Min desired: -3885.76\n",
      "Max recons:  -4777.02\n",
      "Min recons:  -4899.0\n",
      "./SA1.WAV  mse:  2.41194e+07\n",
      "./SA1.WAV  avg err:  4895.15\n",
      "(93, 512)\n",
      "93/93 [==============================] - 0s     \n",
      "(93, 512, 32)\n",
      "(93, 512)\n",
      "Max desired: 3057.0\n",
      "Min desired: -3057.0\n",
      "Max recons:  -2980.88\n",
      "Min recons:  -3057.0\n",
      "./SX383.WAV  mse:  9.4274e+06\n",
      "./SX383.WAV  avg err:  3054.29\n",
      "(183, 512)\n",
      "183/183 [==============================] - 0s     \n",
      "(183, 512, 32)\n",
      "(183, 512)\n",
      "Max desired: 21275.0\n",
      "Min desired: -21275.0\n",
      "Max recons:  -20745.3\n",
      "Min recons:  -21275.0\n",
      "./fiveYears.wav  mse:  4.71369e+08\n",
      "./fiveYears.wav  avg err:  21254.1\n"
     ]
    }
   ],
   "source": [
    "autoencoderTest(\"./SA1.WAV\", \"SA1_aac_\", autoencoder)\n",
    "autoencoderTest(\"./SX383.WAV\", \"SX383_aac_\", autoencoder)\n",
    "autoencoderTest(\"./fiveYears.wav\", \"fy_aac_\", autoencoder)"
   ]
  },
  {
   "cell_type": "code",
   "execution_count": null,
   "metadata": {
    "collapsed": true
   },
   "outputs": [],
   "source": []
  },
  {
   "cell_type": "code",
   "execution_count": null,
   "metadata": {
    "collapsed": true
   },
   "outputs": [],
   "source": []
  },
  {
   "cell_type": "code",
   "execution_count": null,
   "metadata": {
    "collapsed": true
   },
   "outputs": [],
   "source": []
  }
 ],
 "metadata": {
  "kernelspec": {
   "display_name": "Python 2",
   "language": "python",
   "name": "python2"
  },
  "language_info": {
   "codemirror_mode": {
    "name": "ipython",
    "version": 2
   },
   "file_extension": ".py",
   "mimetype": "text/x-python",
   "name": "python",
   "nbconvert_exporter": "python",
   "pygments_lexer": "ipython2",
   "version": "2.7.12"
  }
 },
 "nbformat": 4,
 "nbformat_minor": 1
}
