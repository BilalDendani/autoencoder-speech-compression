{
 "cells": [
  {
   "cell_type": "code",
   "execution_count": 1,
   "metadata": {
    "collapsed": false
   },
   "outputs": [
    {
     "name": "stderr",
     "output_type": "stream",
     "text": [
      "Using Theano backend.\n",
      "Using gpu device 1: GeForce GTX 690 (CNMeM is disabled, cuDNN 5105)\n"
     ]
    }
   ],
   "source": [
    "import warnings\n",
    "warnings.filterwarnings('ignore')\n",
    "\n",
    "import numpy as np\n",
    "\n",
    "import random\n",
    "import h5py\n",
    "from keras.datasets import cifar10\n",
    "from keras.models import *\n",
    "from keras.layers import *\n",
    "from keras.layers.core import *\n",
    "from keras.layers.normalization import *\n",
    "from keras.optimizers import *\n",
    "from keras.callbacks import *\n",
    "from keras import backend as K\n",
    "from keras.regularizers import *\n",
    "import theano.tensor as T\n",
    "import theano\n",
    "from theano.tensor.shared_randomstreams import RandomStreams\n",
    "from sklearn import metrics\n",
    "from skimage.measure import compare_ssim\n",
    "from scipy.misc import toimage\n",
    "from sklearn.preprocessing import *\n",
    "\n",
    "import os\n",
    "import random\n",
    "import time\n",
    "from skimage import io, exposure, feature, color, transform\n",
    "import matplotlib\n",
    "import matplotlib.pyplot as plt\n",
    "import glob\n",
    "\n",
    "import scipy.signal as sig\n",
    "import operator\n",
    "import math\n",
    "\n",
    "# for reproducibility\n",
    "np.random.seed(1337) \n",
    "random.seed(1337)"
   ]
  },
  {
   "cell_type": "code",
   "execution_count": 2,
   "metadata": {
    "collapsed": false
   },
   "outputs": [],
   "source": [
    "# parameters for sliding window, and window function (Hann)\n",
    "STEP_SIZE = 480\n",
    "OVERLAP_SIZE = 32\n",
    "WINDOW_SIZE = STEP_SIZE + OVERLAP_SIZE\n",
    "OVERLAP_FUNC = sig.hann(OVERLAP_SIZE * 2)\n",
    "\n",
    "# directory that contains TIMIT files\n",
    "TIMIT_DIR = \"/home/sri/Desktop/timit\"\n",
    "\n",
    "# directory that contains .wav files to process\n",
    "NUM_EPOCHS = 1\n",
    "BATCH_SIZE = 64\n",
    "\n",
    "# randomly shuffle data before partitioning into training/validation?\n",
    "RANDOM_SHUFFLE = True\n",
    "\n",
    "# sample rate of input file (used in MFCC calculation)\n",
    "SAMPLE_RATE = 16000"
   ]
  },
  {
   "cell_type": "code",
   "execution_count": 3,
   "metadata": {
    "collapsed": false
   },
   "outputs": [],
   "source": [
    "from load_TIMIT import *\n",
    "from windowingFunctions import *\n",
    "from utility import *"
   ]
  },
  {
   "cell_type": "code",
   "execution_count": 4,
   "metadata": {
    "collapsed": false
   },
   "outputs": [
    {
     "name": "stdout",
     "output_type": "stream",
     "text": [
      "Reading in .wav files...\n"
     ]
    }
   ],
   "source": [
    "# read in 100 WAVs from TIMIT training set\n",
    "rawWaveforms = load_TIMIT_train(TIMIT_DIR, 2000)"
   ]
  },
  {
   "cell_type": "code",
   "execution_count": 5,
   "metadata": {
    "collapsed": false
   },
   "outputs": [
    {
     "name": "stdout",
     "output_type": "stream",
     "text": [
      "[[-1.    1.  ]\n",
      " [-0.75  1.  ]\n",
      " [-1.    0.5 ]]\n"
     ]
    }
   ],
   "source": [
    "s = np.array([[-2, 2], [-3, 4], [-12, 6]]).astype('float32')\n",
    "\n",
    "mn = np.min(s, axis = 1)\n",
    "mx = np.max(s, axis = 1)\n",
    "\n",
    "maxabs = np.maximum(np.abs(mn), np.abs(mx))\n",
    "\n",
    "for i in xrange(0, s.shape[0]):\n",
    "    s[i] /= maxabs[i]\n",
    "\n",
    "print s"
   ]
  },
  {
   "cell_type": "code",
   "execution_count": 6,
   "metadata": {
    "collapsed": false
   },
   "outputs": [],
   "source": [
    "# waveform preprocessing\n",
    "def preprocessWaveform(waveform):   \n",
    "    return waveform, ()\n",
    "   \n",
    "def unpreprocessWaveform(waveform, params):\n",
    "    return waveform\n",
    "\n",
    "\n",
    "\n",
    "# window preprocessing\n",
    "def preprocessWindows(windows):\n",
    "    # scale window between -1 and 1\n",
    "    processed = np.copy(windows)\n",
    "   \n",
    "    mn = np.min(processed, axis = 1)\n",
    "    mx = np.max(processed, axis = 1)\n",
    "\n",
    "    maxabs = np.maximum(np.abs(mn), np.abs(mx))\n",
    "\n",
    "    for i in xrange(0, processed.shape[0]):\n",
    "        processed[i] /= maxabs[i]\n",
    "    processed *= 0.98\n",
    "   \n",
    "    #processed = (processed + 1.0) / 2.0\n",
    "   \n",
    "    return processed, (maxabs,)\n",
    "\n",
    "def unpreprocessWindows(windows, params):\n",
    "    # scale window from [-1, 1] to [-32768, 32768]\n",
    "    scl = params[0]\n",
    "   \n",
    "    unprocessed = np.copy(windows)\n",
    "    unprocessed /= 0.98\n",
    "   \n",
    "    #nprocessed = (unprocessed * 2.0) - 1.0\n",
    "   \n",
    "    for i in xrange(0, unprocessed.shape[0]):\n",
    "        unprocessed[i] *= scl[i]\n",
    "\n",
    "    return unprocessed"
   ]
  },
  {
   "cell_type": "code",
   "execution_count": 7,
   "metadata": {
    "collapsed": false
   },
   "outputs": [],
   "source": [
    "# waveform preprocessing\n",
    "processedWaveforms = np.copy(rawWaveforms)\n",
    "\n",
    "# we maximize the volume of every waveform\n",
    "for i in xrange(0, len(processedWaveforms)):\n",
    "    processedWaveforms[i], _ = preprocessWaveform(processedWaveforms[i])"
   ]
  },
  {
   "cell_type": "code",
   "execution_count": 8,
   "metadata": {
    "collapsed": false
   },
   "outputs": [
    {
     "name": "stdout",
     "output_type": "stream",
     "text": [
      "Raw windows shape:  (203086, 512)\n",
      "Max:  17885.0\n",
      "Min:  -17139.0\n"
     ]
    }
   ],
   "source": [
    "# extract windows\n",
    "rawWindows = extractWindowsMultiple(processedWaveforms, STEP_SIZE, OVERLAP_SIZE,\n",
    "                                    collapse = True)\n",
    "\n",
    "# randomly shuffle data\n",
    "if (RANDOM_SHUFFLE):\n",
    "    rawWindows = np.random.permutation(rawWindows)\n",
    "\n",
    "print \"Raw windows shape: \", rawWindows.shape\n",
    "print \"Max: \", np.amax(rawWindows)\n",
    "print \"Min: \", np.amin(rawWindows)"
   ]
  },
  {
   "cell_type": "code",
   "execution_count": 9,
   "metadata": {
    "collapsed": false
   },
   "outputs": [
    {
     "name": "stdout",
     "output_type": "stream",
     "text": [
      "Aug windows shape:  (203086, 512)\n"
     ]
    }
   ],
   "source": [
    "# data augmentation goes here, at some point\n",
    "augWindows = np.copy(rawWindows)\n",
    "\n",
    "print \"Aug windows shape: \", augWindows.shape"
   ]
  },
  {
   "cell_type": "code",
   "execution_count": 10,
   "metadata": {
    "collapsed": false
   },
   "outputs": [],
   "source": [
    "processedWindows, pwParams = preprocessWindows(augWindows)"
   ]
  },
  {
   "cell_type": "code",
   "execution_count": 11,
   "metadata": {
    "collapsed": false
   },
   "outputs": [],
   "source": [
    "# reshape into vector form\n",
    "processedWindows = np.reshape(processedWindows, (processedWindows.shape[0], WINDOW_SIZE, 1))"
   ]
  },
  {
   "cell_type": "code",
   "execution_count": 12,
   "metadata": {
    "collapsed": false
   },
   "outputs": [
    {
     "name": "stdout",
     "output_type": "stream",
     "text": [
      "(203086, 512, 1)\n",
      "0.0184928\n",
      "0.28096\n",
      "-0.98\n",
      "0.98\n"
     ]
    }
   ],
   "source": [
    "print processedWindows.shape\n",
    "\n",
    "print np.mean(processedWindows, axis=None)\n",
    "print np.std(processedWindows, axis=None)\n",
    "print np.min(processedWindows, axis = None)\n",
    "print np.max(processedWindows, axis = None)"
   ]
  },
  {
   "cell_type": "code",
   "execution_count": 13,
   "metadata": {
    "collapsed": true
   },
   "outputs": [],
   "source": [
    "# operations for binarization layer (THEANO ONLY)\n",
    "\n",
    "class Binarize(T.Op):\n",
    "    # properties attribute\n",
    "    __props__ = ()\n",
    "    \n",
    "    def __init__(self):\n",
    "        super(Binarize, self).__init__()\n",
    "        \n",
    "    def make_node(self, x):\n",
    "        assert hasattr(self, '_props'), \"Your version of theano is too old to support __props__.\"\n",
    "        x = T.as_tensor_variable(x)\n",
    "        return theano.Apply(self, [x], [x.type()])\n",
    "    \n",
    "    def perform(self, node, inputs, output_storage):\n",
    "        x, = inputs\n",
    "        z, = output_storage\n",
    "        \n",
    "        # TODO: learn threshold per parameter?\n",
    "        z[0] = np.copy(x)\n",
    "        z[0][z[0] < 0] = -1\n",
    "        z[0][z[0] >= 0] = 1\n",
    "    \n",
    "    def grad(self, input, output_gradients):\n",
    "        # pass through gradients unchanged\n",
    "        # (i don't think there's a mathematical justification for this?)\n",
    "        return [output_gradients[0]]\n",
    "        \n",
    "    def infer_shape(self, node, i0_shapes):\n",
    "        # output shape is same as input shape\n",
    "        return i0_shapes\n",
    "\n",
    "    \n",
    "class BinarizeLayer(Layer):\n",
    "    \"\"\" Binarizes input \n",
    "    <feedforward> binarizes output of tanh to -1 and 1\n",
    "    <backward> returns delta unchanged\n",
    "    \"\"\"\n",
    "    def __init__(self, **kwargs):\n",
    "        super(BinarizeLayer, self).__init__(**kwargs)\n",
    "        self.op = Binarize()\n",
    "    \n",
    "    def build(self, input_shape):\n",
    "        # no trainable parameters\n",
    "        self.trainable_weights = []\n",
    "    \n",
    "    def call(self, x, mask=None):\n",
    "        return self.op(x)\n",
    "\n",
    "    #def get_output_shape_for(self, input_shape):\n",
    "    #    return input_shape\n",
    "    \n",
    "    def get_config(self):\n",
    "        config = {\"name\": self.__class__.__name__}\n",
    "        base_config = super(BinarizeLayer, self).get_config()\n",
    "        return dict(list(base_config.items()) + list(config.items()))\n"
   ]
  },
  {
   "cell_type": "code",
   "execution_count": 14,
   "metadata": {
    "collapsed": false
   },
   "outputs": [
    {
     "name": "stdout",
     "output_type": "stream",
     "text": [
      "[[ 0.33562362  0.70800918 -0.45822293  0.97265851 -0.90558368 -0.04970991]\n",
      " [ 0.2467512   0.95000362 -0.07283129 -0.57688671 -0.81897026 -0.55547291]\n",
      " [ 0.56578547  0.60103834  0.27596629 -0.21553239  0.42781109  0.67913371]\n",
      " [ 0.3511824  -0.78730786  0.11396207 -0.83441663 -0.26810172  0.28188729]\n",
      " [ 0.66800201 -0.26689175 -0.45890701 -0.97610581 -0.62344414  0.40166906]\n",
      " [ 0.96138102  0.81705546  0.84159112 -0.7941559   0.1064133  -0.62916756]]\n",
      "[[ 1.  1. -1.  1. -1. -1.]\n",
      " [ 1.  1. -1. -1. -1. -1.]\n",
      " [ 1.  1.  1. -1.  1.  1.]\n",
      " [ 1. -1.  1. -1. -1.  1.]\n",
      " [ 1. -1. -1. -1. -1.  1.]\n",
      " [ 1.  1.  1. -1.  1. -1.]]\n"
     ]
    }
   ],
   "source": [
    "# verify Binarize op works\n",
    "x = T.matrix()\n",
    "f = theano.function([x], Binarize()(x))\n",
    "inp = np.random.uniform(high = 1, low = -1, size = (6, 6)).astype('float32')\n",
    "out = f(inp)\n",
    "\n",
    "print(inp)\n",
    "print(out)"
   ]
  },
  {
   "cell_type": "code",
   "execution_count": 15,
   "metadata": {
    "collapsed": true
   },
   "outputs": [],
   "source": [
    "# operations for binarization layer (THEANO ONLY)\n",
    "\n",
    "class StochasticBinarize(T.Op):\n",
    "    # properties attribute\n",
    "    __props__ = ()\n",
    "    \n",
    "    def __init__(self):\n",
    "        super(StochasticBinarize, self).__init__()\n",
    "        \n",
    "    def make_node(self, x):\n",
    "        assert hasattr(self, '_props'), \"Your version of theano is too old to support __props__.\"\n",
    "        x = T.as_tensor_variable(x)\n",
    "        return theano.Apply(self, [x], [x.type()])\n",
    "    \n",
    "    def perform(self, node, inputs, output_storage):\n",
    "        x, = inputs\n",
    "        z, = output_storage\n",
    "        \n",
    "        prob_thresh = (x + 1.0) / 2.0\n",
    "        probs = np.random.random_sample(x.shape)\n",
    "        res = np.greater(probs, prob_thresh)\n",
    "        res = res.astype('float32') * 2.0 - 1.0\n",
    "        res = -res\n",
    "        \n",
    "        # TODO: learn threshold per parameter?\n",
    "        z[0] = np.copy(res)\n",
    "    \n",
    "    def grad(self, input, output_gradients):\n",
    "        # pass through gradients unchanged (since expected value\n",
    "        # is just x)\n",
    "        return [output_gradients[0]]\n",
    "        \n",
    "    def infer_shape(self, node, i0_shapes):\n",
    "        # output shape is same as input shape\n",
    "        return i0_shapes\n",
    "\n",
    "    \n",
    "class StochasticBinarizeLayer(Layer):\n",
    "    \"\"\" Binarizes input \n",
    "    <feedforward> binarizes output of tanh to -1 and 1\n",
    "    <backward> returns delta unchanged\n",
    "    \"\"\"\n",
    "    def __init__(self, **kwargs):\n",
    "        super(StochasticBinarizeLayer, self).__init__(**kwargs)\n",
    "        self.stc_op = StochasticBinarize()\n",
    "        self.det_op = Binarize()\n",
    "        self.uses_learning_phase = True\n",
    "    \n",
    "    def build(self, input_shape):\n",
    "        # no trainable parameters\n",
    "        self.trainable_weights = []\n",
    "    \n",
    "    def call(self, x, mask=None):\n",
    "        x = K.in_train_phase(self.stc_op(x), self.det_op(x))\n",
    "        return x\n",
    "    \n",
    "    def get_config(self):\n",
    "        config = {\"name\": self.__class__.__name__}\n",
    "        base_config = super(StochasticBinarizeLayer, self).get_config()\n",
    "        return dict(list(base_config.items()) + list(config.items()))\n"
   ]
  },
  {
   "cell_type": "code",
   "execution_count": 16,
   "metadata": {
    "collapsed": false
   },
   "outputs": [
    {
     "name": "stdout",
     "output_type": "stream",
     "text": [
      "[[-0.24983543 -0.32169777 -0.45486018 -0.53458315 -0.54013187  0.43364781]\n",
      " [ 0.29341388  0.0680304   0.76498973 -0.26087928  0.81113625  0.9299885 ]\n",
      " [ 0.28663173  0.83730376  0.21503422 -0.46073043 -0.91623557 -0.34287804]\n",
      " [ 0.89866322  0.66785192  0.75798982 -0.26086125  0.44924948  0.61334175]\n",
      " [ 0.73828876 -0.15296386 -0.6308285  -0.47280049  0.16119671 -0.39564225]\n",
      " [-0.50515342  0.88961512  0.795968   -0.29680789  0.16047063  0.02705537]]\n",
      "[[-1. -1. -1. -1. -1.  1.]\n",
      " [-1.  1.  1. -1.  1.  1.]\n",
      " [ 1.  1. -1.  1. -1.  1.]\n",
      " [ 1.  1.  1. -1. -1.  1.]\n",
      " [ 1.  1. -1.  1.  1. -1.]\n",
      " [ 1.  1.  1. -1.  1.  1.]]\n",
      "[[-0.24860001 -0.32659999 -0.46439999 -0.53140002 -0.54119998  0.44859999]\n",
      " [ 0.27860001  0.0698      0.75980002 -0.25920001  0.82059997  0.92979997]\n",
      " [ 0.29960001  0.83719999  0.20900001 -0.45879999 -0.9188     -0.324     ]\n",
      " [ 0.8962      0.6742      0.75379997 -0.2626      0.44440001  0.62      ]\n",
      " [ 0.7396     -0.142      -0.634      -0.47639999  0.1558     -0.38159999]\n",
      " [-0.48460001  0.89060003  0.80059999 -0.29359999  0.1672      0.0298    ]]\n"
     ]
    }
   ],
   "source": [
    "# verify Binarize op works\n",
    "x = T.matrix()\n",
    "f = theano.function([x], StochasticBinarize()(x))\n",
    "inp = np.random.uniform(high = 1, low = -1, size = (6, 6)).astype('float32')\n",
    "\n",
    "iters = 10000\n",
    "out = None\n",
    "for i in xrange(0, iters):\n",
    "    if (out is None):\n",
    "        out = f(inp)\n",
    "    else:\n",
    "        out += f(inp)\n",
    "out /= float(iters)\n",
    "\n",
    "print(inp)\n",
    "print(f(inp))\n",
    "print(out)"
   ]
  },
  {
   "cell_type": "code",
   "execution_count": 17,
   "metadata": {
    "collapsed": true
   },
   "outputs": [],
   "source": [
    "from scipy.fftpack import dct as scidct\n",
    "\n",
    "# ====================================================================\n",
    "#  DCT (Discrete Cosine Transform)\n",
    "# ====================================================================\n",
    "\n",
    "# generate square dct matrix\n",
    "#     how to use: generate n-by-n matrix M. then, if you have a signal w, then:\n",
    "#                 dct(w) = M * w\n",
    "#     where w must be n-by-1\n",
    "#\n",
    "#     backed by scipy\n",
    "def generate_dct_mat(n, norm = 'ortho'):\n",
    "    return (scidct(np.eye(n), norm = norm))\n",
    "\n",
    "# DCT matrix is precomputed at start of program\n",
    "dctMat = generate_dct_mat(WINDOW_SIZE)\n",
    "th_dctMat = K.variable(dctMat)\n",
    "\n",
    "# given a (symbolic Theano) array of size M x WINDOW_SIZE\n",
    "#     this returns an array M x WINDOW_SIZE where every one of the M samples has been independently\n",
    "#     filtered by the DCT\n",
    "def theano_dct(x, dctMat = None):\n",
    "    global th_dctMat\n",
    "    \n",
    "    if (dctMat is None):\n",
    "        dctMat = th_dctMat\n",
    "        \n",
    "    # reshape x into 2D array, and perform appropriate matrix operation\n",
    "    reshaped_x = x.reshape((1, x.shape[0], x.shape[1]))\n",
    "\n",
    "    result = T.tensordot(dctMat, reshaped_x, [[0], [2]])\n",
    "    result = result.reshape((result.shape[0], result.shape[2])).T\n",
    "\n",
    "    return result\n",
    "\n",
    "# M x WINDOW_SIZE x 1 => M x WINDOW_SIZE x 1\n",
    "def theano_batch_dct(x):\n",
    "    result = theano_dct(x)\n",
    "    reshaped_result = result.reshape((result.shape[0], result.shape[1], 1))\n",
    "\n",
    "    return reshaped_result"
   ]
  },
  {
   "cell_type": "code",
   "execution_count": 18,
   "metadata": {
    "collapsed": true
   },
   "outputs": [],
   "source": [
    "class PhaseShift1D(Layer):\n",
    "    \"\"\" PhaseShift1D\n",
    "    Takes vector of size: B x S x nF\n",
    "    And returns vector: B x nS x F\n",
    "    \"\"\"\n",
    "    def __init__(self, n, **kwargs):\n",
    "        super(PhaseShift1D, self).__init__(**kwargs)\n",
    "        self.n = n\n",
    "    \n",
    "    def build(self, input_shape):\n",
    "        # no trainable parameters\n",
    "        self.trainable_weights = []\n",
    "    \n",
    "    def call(self, x, mask=None):\n",
    "        r = T.reshape(x, (x.shape[0], x.shape[1], x.shape[2] / self.n, self.n))\n",
    "        r = T.transpose(r, (0, 1, 3, 2))\n",
    "        r = T.reshape(r, (x.shape[0], x.shape[1] * self.n, x.shape[2] / self.n))\n",
    "        return r\n",
    "\n",
    "    def get_output_shape_for(self, input_shape):\n",
    "        return (input_shape[0], input_shape[1] * self.n, input_shape[2] / self.n)\n",
    "    \n",
    "    def get_config(self):\n",
    "        config = {\"name\": self.__class__.__name__}\n",
    "        base_config = super(PhaseShift1D, self).get_config()\n",
    "        return dict(list(base_config.items()) + list(config.items()))"
   ]
  },
  {
   "cell_type": "code",
   "execution_count": 19,
   "metadata": {
    "collapsed": false
   },
   "outputs": [
    {
     "name": "stdout",
     "output_type": "stream",
     "text": [
      "[2 8 8]\n",
      "CudaNdarray([[[  0.   1.   2.   3.   4.   5.   6.   7.]\n",
      "  [  8.   9.  10.  11.  12.  13.  14.  15.]\n",
      "  [ 16.  17.  18.  19.  20.  21.  22.  23.]\n",
      "  [ 24.  25.  26.  27.  28.  29.  30.  31.]\n",
      "  [ 32.  33.  34.  35.  36.  37.  38.  39.]\n",
      "  [ 40.  41.  42.  43.  44.  45.  46.  47.]\n",
      "  [ 48.  49.  50.  51.  52.  53.  54.  55.]\n",
      "  [ 56.  57.  58.  59.  60.  61.  62.  63.]]\n",
      "\n",
      " [[ 32.  33.  34.  35.  36.  37.  38.  39.]\n",
      "  [ 40.  41.  42.  43.  44.  45.  46.  47.]\n",
      "  [ 48.  49.  50.  51.  52.  53.  54.  55.]\n",
      "  [ 56.  57.  58.  59.  60.  61.  62.  63.]\n",
      "  [ 64.  65.  66.  67.  68.  69.  70.  71.]\n",
      "  [ 72.  73.  74.  75.  76.  77.  78.  79.]\n",
      "  [ 80.  81.  82.  83.  84.  85.  86.  87.]\n",
      "  [ 88.  89.  90.  91.  92.  93.  94.  95.]]])\n",
      "[ 2 16  4]\n",
      "[[[  0.   2.   4.   6.]\n",
      "  [  1.   3.   5.   7.]\n",
      "  [  8.  10.  12.  14.]\n",
      "  [  9.  11.  13.  15.]\n",
      "  [ 16.  18.  20.  22.]\n",
      "  [ 17.  19.  21.  23.]\n",
      "  [ 24.  26.  28.  30.]\n",
      "  [ 25.  27.  29.  31.]\n",
      "  [ 32.  34.  36.  38.]\n",
      "  [ 33.  35.  37.  39.]\n",
      "  [ 40.  42.  44.  46.]\n",
      "  [ 41.  43.  45.  47.]\n",
      "  [ 48.  50.  52.  54.]\n",
      "  [ 49.  51.  53.  55.]\n",
      "  [ 56.  58.  60.  62.]\n",
      "  [ 57.  59.  61.  63.]]\n",
      "\n",
      " [[ 32.  34.  36.  38.]\n",
      "  [ 33.  35.  37.  39.]\n",
      "  [ 40.  42.  44.  46.]\n",
      "  [ 41.  43.  45.  47.]\n",
      "  [ 48.  50.  52.  54.]\n",
      "  [ 49.  51.  53.  55.]\n",
      "  [ 56.  58.  60.  62.]\n",
      "  [ 57.  59.  61.  63.]\n",
      "  [ 64.  66.  68.  70.]\n",
      "  [ 65.  67.  69.  71.]\n",
      "  [ 72.  74.  76.  78.]\n",
      "  [ 73.  75.  77.  79.]\n",
      "  [ 80.  82.  84.  86.]\n",
      "  [ 81.  83.  85.  87.]\n",
      "  [ 88.  90.  92.  94.]\n",
      "  [ 89.  91.  93.  95.]]]\n"
     ]
    }
   ],
   "source": [
    "# test phase shift operation from Shi et al. (2016) in 1D\n",
    "batch = []\n",
    "\n",
    "for i in xrange(0, 2):\n",
    "    n4 = []\n",
    "\n",
    "    for j in xrange(0, 8):\n",
    "        filt = []\n",
    "        for k in xrange(0, 8):\n",
    "            filt.append(i * 32 + j * 8 + k)\n",
    "        n4.append(filt)\n",
    "        \n",
    "    batch.append(n4)\n",
    "    \n",
    "batch = K.variable(np.array(batch))\n",
    "print batch.shape.eval()\n",
    "print batch.eval()\n",
    "\n",
    "n = 2\n",
    "x = T.reshape(batch, (batch.shape[0], batch.shape[1], batch.shape[2] / n, n))\n",
    "x = T.transpose(x, (0, 1, 3, 2))\n",
    "x = T.reshape(x, (batch.shape[0], batch.shape[1] * n, batch.shape[2] / n))\n",
    "print x.shape.eval()\n",
    "print x.eval()"
   ]
  },
  {
   "cell_type": "code",
   "execution_count": 20,
   "metadata": {
    "collapsed": false
   },
   "outputs": [
    {
     "name": "stdout",
     "output_type": "stream",
     "text": [
      "____________________________________________________________________________________________________\n",
      "Layer (type)                     Output Shape          Param #     Connected to                     \n",
      "====================================================================================================\n",
      "input_3 (InputLayer)             (None, 512, 1)        0                                            \n",
      "____________________________________________________________________________________________________\n",
      "lambda_1 (Lambda)                (None, 512, 1)        0           input_3[0][0]                    \n",
      "____________________________________________________________________________________________________\n",
      "sequential_5 (Sequential)        (None, 1)             421601      lambda_1[0][0]                   \n",
      "====================================================================================================\n",
      "Total params: 421601\n",
      "____________________________________________________________________________________________________\n",
      "____________________________________________________________________________________________________\n",
      "Layer (type)                     Output Shape          Param #     Connected to                     \n",
      "====================================================================================================\n",
      "input_2 (InputLayer)             (None, 512, 1)        0                                            \n",
      "____________________________________________________________________________________________________\n",
      "sequential_3 (Sequential)        (None, 64)            0           input_2[0][0]                    \n",
      "____________________________________________________________________________________________________\n",
      "sequential_4 (Sequential)        (None, 512, 1)        0           sequential_3[1][0]               \n",
      "====================================================================================================\n",
      "Total params: 1010050\n",
      "____________________________________________________________________________________________________\n",
      "____________________________________________________________________________________________________\n",
      "Layer (type)                     Output Shape          Param #     Connected to                     \n",
      "====================================================================================================\n",
      "input_2 (InputLayer)             (None, 512, 1)        0                                            \n",
      "____________________________________________________________________________________________________\n",
      "sequential_3 (Sequential)        (None, 64)            578817      input_2[0][0]                    \n",
      "____________________________________________________________________________________________________\n",
      "sequential_4 (Sequential)        (None, 512, 1)        431233      sequential_3[1][0]               \n",
      "____________________________________________________________________________________________________\n",
      "lambda_1 (Lambda)                (None, 512, 1)        0           sequential_4[1][0]               \n",
      "____________________________________________________________________________________________________\n",
      "sequential_5 (Sequential)        (None, 1)             0           lambda_1[1][0]                   \n",
      "====================================================================================================\n",
      "Total params: 1431651\n",
      "____________________________________________________________________________________________________\n"
     ]
    }
   ],
   "source": [
    "# lambda to compute MSE between 2 vectors\n",
    "def mse_lambda(vects):\n",
    "    x, y = vects\n",
    "    return K.mean(K.square(x - y))\n",
    "\n",
    "# freeze weights for stacked training\n",
    "def make_trainable(net, val):\n",
    "    net.trainable = val\n",
    "    for l in net.layers:\n",
    "        l.trainable = val\n",
    "\n",
    "# we generate a new optimizer of the same kind for every model\n",
    "# we train\n",
    "def opti():\n",
    "    return Adam()\n",
    "\n",
    "input_dim = (WINDOW_SIZE, 1)\n",
    "input_size = np.prod(input_dim)\n",
    "bottleneck_size = 64\n",
    "\n",
    "# ---------------------------------------------------------------------------\n",
    "# autoencoder: takes an audio window, compresses it, and tries to reconstruct it\n",
    "# ---------------------------------------------------------------------------\n",
    "def autoencoder_structure(dim):\n",
    "    enc = Sequential()\n",
    "    dec = Sequential()\n",
    "    \n",
    "    enc.add(GaussianDropout(0.05, input_shape = dim))\n",
    "    \n",
    "    # (512x1) => (256x256)\n",
    "    enc.add(Convolution1D(256, 9, border_mode = 'same',\n",
    "                          input_shape = dim, activation = 'linear',\n",
    "                          bias = True))\n",
    "    enc.add(LeakyReLU(0.2))\n",
    "    enc.add(MaxPooling1D(2))\n",
    "    \n",
    "    # (256x256) => (256x128)\n",
    "    enc.add(Convolution1D(128, 9, border_mode = 'same',\n",
    "                          input_shape = dim, activation = 'linear',\n",
    "                          bias = True))\n",
    "    enc.add(LeakyReLU(0.2))\n",
    "    \n",
    "    # (256x128) => (128x128)\n",
    "    enc.add(Convolution1D(128, 9, border_mode = 'same',\n",
    "                          input_shape = dim, activation = 'linear',\n",
    "                          bias = True))\n",
    "    enc.add(LeakyReLU(0.2))\n",
    "    enc.add(MaxPooling1D(2))\n",
    "    \n",
    "    # (128x128) => (128x64) [5]\n",
    "    enc.add(Convolution1D(64, 9, border_mode = 'same',\n",
    "                          input_shape = dim, activation = 'linear',\n",
    "                          bias = True))\n",
    "    enc.add(LeakyReLU(0.2))\n",
    "    \n",
    "    # (128x64) => (64x64) [5]\n",
    "    enc.add(Convolution1D(64, 9, border_mode = 'same',\n",
    "                          input_shape = dim, activation = 'linear',\n",
    "                          bias = True))\n",
    "    enc.add(LeakyReLU(0.2))\n",
    "    enc.add(MaxPooling1D(2))\n",
    "    \n",
    "    # (64x64) => (64x32) [5]\n",
    "    enc.add(Convolution1D(32, 9, border_mode = 'same',\n",
    "                          input_shape = dim, activation = 'linear',\n",
    "                          bias = True))\n",
    "    enc.add(LeakyReLU(0.2))\n",
    "    \n",
    "    # (32x16) => (32x1) [3]\n",
    "    enc.add(Convolution1D(1, 9, border_mode = 'same',\n",
    "                          activation = 'tanh',\n",
    "                          bias = True))\n",
    "    \n",
    "    # dense-encode and binarize\n",
    "    enc.add(Flatten())\n",
    "    enc.add(Dense(64, activation = 'tanh', init = 'identity'))\n",
    "    enc.add(Reshape((bottleneck_size,)))\n",
    "    \n",
    "    \n",
    "    dec.add(Dense(64, activation = 'tanh', init = 'identity',\n",
    "                  input_shape = (bottleneck_size,)))\n",
    "    dec.add(Reshape((64, 1,)))\n",
    "    \n",
    "    # (64x1) => (64x32)\n",
    "    dec.add(Convolution1D(32, 9, border_mode = 'same',\n",
    "                          activation = 'linear',\n",
    "                          bias = True))\n",
    "    dec.add(LeakyReLU(0.2))\n",
    "    \n",
    "    \n",
    "    # (64x32) => (64x64)\n",
    "    dec.add(Convolution1D(64, 9, border_mode = 'same',\n",
    "                          activation = 'linear',\n",
    "                          bias = True))\n",
    "    dec.add(LeakyReLU(0.2))\n",
    "    \n",
    "    # (64x64 => 128x64)\n",
    "    dec.add(UpSampling1D(2))\n",
    "    dec.add(Convolution1D(64 * 1, 9, border_mode = 'same',\n",
    "                          activation = 'linear',\n",
    "                          bias = True))\n",
    "    dec.add(LeakyReLU(0.2))\n",
    "    #dec.add(PhaseShift1D(2))\n",
    "    \n",
    "    # (128x128 => 256x128)\n",
    "    dec.add(UpSampling1D(2))\n",
    "    dec.add(Convolution1D(128 * 1, 9, border_mode = 'same',\n",
    "                          activation = 'linear',\n",
    "                          bias = True))\n",
    "    dec.add(LeakyReLU(0.2))\n",
    "    #dec.add(PhaseShift1D(2))\n",
    "    \n",
    "    # (256x256 => 512x256)\n",
    "    dec.add(UpSampling1D(2))\n",
    "    dec.add(Convolution1D(256 * 1, 9, border_mode = 'same',\n",
    "                          activation = 'linear',\n",
    "                          bias = True))\n",
    "    dec.add(LeakyReLU(0.2))\n",
    "    #dec.add(PhaseShift1D(2))\n",
    " \n",
    "    # (512x32) => (512x1)\n",
    "    dec.add(Convolution1D(1, 9, border_mode = 'same',\n",
    "                          activation = 'linear',\n",
    "                          bias = True))\n",
    "    dec.add(Activation('tanh'))\n",
    "    \n",
    "    return enc, dec\n",
    "\n",
    "\n",
    "# ---------------------------------------------------------------------------\n",
    "# discriminator: tries to differentiate between original and reconstructed samples\n",
    "# ---------------------------------------------------------------------------\n",
    "def discriminator_structure(dim):\n",
    "    dsc = Sequential()\n",
    "    \n",
    "    dsc.add(Convolution1D(48, 5, border_mode='same', input_shape = dim,\n",
    "                                    init = 'uniform',\n",
    "                                    subsample_length = 2, activation = 'linear'))\n",
    "    dsc.add(LeakyReLU(0.2))\n",
    "    \n",
    "    dsc.add(Convolution1D(48, 5, border_mode='same', input_shape = dim,\n",
    "                                    init = 'uniform',\n",
    "                                    activation = 'linear'))\n",
    "    dsc.add(LeakyReLU(0.2))\n",
    "\n",
    "    dsc.add(Convolution1D(48, 5, border_mode='valid', input_shape = dim,\n",
    "                                    init = 'uniform',\n",
    "                                    subsample_length = 2, activation = 'linear'))\n",
    "    dsc.add(LeakyReLU(0.2))\n",
    "    \n",
    "    dsc.add(Convolution1D(48, 5, border_mode='same', input_shape = dim,\n",
    "                                    init = 'uniform',\n",
    "                                    activation = 'linear'))\n",
    "    dsc.add(LeakyReLU(0.2))\n",
    "    \n",
    "    dsc.add(Convolution1D(48, 5, border_mode='valid', input_shape = dim,\n",
    "                                    init = 'uniform',\n",
    "                                    subsample_length = 2, activation = 'linear'))\n",
    "    dsc.add(LeakyReLU(0.2))\n",
    "    \n",
    "    dsc.add(Flatten())\n",
    "    \n",
    "    dsc.add(Dense(128, activation = 'linear'))\n",
    "    dsc.add(LeakyReLU(0.2))\n",
    "    dsc.add(Dense(1, activation = 'sigmoid'))\n",
    "    \n",
    "    return dsc\n",
    "\n",
    "\n",
    "# plain autoencoder\n",
    "plain_input = Input(shape = input_dim)\n",
    "plain_enc, plain_dec = autoencoder_structure(input_dim)\n",
    "plain_embedding = plain_enc(plain_input)\n",
    "plain_reconstructed = plain_dec(plain_embedding)\n",
    "plain_autoencoder = Model(input = [plain_input], output = [plain_reconstructed])\n",
    "plain_autoencoder.compile(loss = 'mean_squared_error', optimizer = opti())\n",
    "\n",
    "# construct autoencoder to be used in adversarial training (AAC - Adversarial AutoenCoder)\n",
    "# uhhhh... whoops i screwed up the acronym\n",
    "aac_input = Input(shape = input_dim)\n",
    "aac_enc, aac_dec = autoencoder_structure(input_dim)\n",
    "aac_embedding = aac_enc(aac_input)\n",
    "aac_reconstructed = aac_dec(aac_embedding)\n",
    "\n",
    "aac_autoencoder = Model(input = [aac_input], output = [aac_reconstructed])\n",
    "aac_autoencoder.compile(loss = 'mean_squared_error', optimizer = opti())\n",
    "\n",
    "\n",
    "\n",
    "# construct discriminator 1: fft-based\n",
    "'''\n",
    "fft_transform = Lambda(theano_batch_dft,\n",
    "                       output_shape = lambda x : (x[0], x[1] * 2, 1))\n",
    "\n",
    "fftdsc_input_dim = (WINDOW_SIZE * 2, 1)\n",
    "fftdsc_input = Input(shape = input_dim)\n",
    "fftdsc_struct = discriminator_structure(fftdsc_input_dim)\n",
    "\n",
    "fftdsc_label = fftdsc_struct(fft_transform(fftdsc_input))\n",
    "aac_fft_label = fftdsc_struct(fft_transform(aac_reconstructed))\n",
    "'''\n",
    "\n",
    "\n",
    "# construct discriminator 2: regular\n",
    "'''\n",
    "regdsc_input_dim = (WINDOW_SIZE, 1)\n",
    "regdsc_input = Input(shape = input_dim)\n",
    "regdsc_struct = discriminator_structure(regdsc_input_dim)\n",
    "\n",
    "regdsc_label = regdsc_struct(regdsc_input)\n",
    "aac_reg_label = regdsc_struct(aac_reconstructed)\n",
    "'''\n",
    "\n",
    "\n",
    "'''\n",
    "nlvls = 8\n",
    "haar_transform = Lambda(lambda x: haar_multilevel(x, nlvls, True),\n",
    "                        output_shape = lambda x : (x[0], x[1], nlvls + 1))\n",
    "regdsc_input_dim = (WINDOW_SIZE, nlvls + 1)\n",
    "regdsc_input = Input(shape = input_dim)\n",
    "regdsc_struct = discriminator_structure(regdsc_input_dim)\n",
    "\n",
    "regdsc_label = regdsc_struct(haar_transform(regdsc_input))\n",
    "aac_reg_label = regdsc_struct(haar_transform(aac_reconstructed))\n",
    "'''\n",
    "\n",
    "dct_transform = Lambda(theano_batch_dct,\n",
    "                       output_shape = lambda x : (x[0], x[1], 1))\n",
    "regdsc_input_dim = (WINDOW_SIZE, 1)\n",
    "regdsc_input = Input(shape = input_dim)\n",
    "regdsc_struct = discriminator_structure(regdsc_input_dim)\n",
    "\n",
    "regdsc_label = regdsc_struct(dct_transform(regdsc_input))\n",
    "aac_reg_label = regdsc_struct(dct_transform(aac_reconstructed))\n",
    "\n",
    "\n",
    "\n",
    "\n",
    "\n",
    "def upper_dct_loss(y_true, y_pred):\n",
    "    dct_true = theano_batch_dct(y_true)\n",
    "    dct_pred = theano_batch_dct(y_pred)\n",
    "    cutoff_idx = WINDOW_SIZE / 4\n",
    "    \n",
    "    # compute MSE in frequency domain\n",
    "    error = T.mean(T.sqr(dct_pred[:, cutoff_idx:] - dct_true[:, cutoff_idx:]), axis = 1)\n",
    "    return error\n",
    "\n",
    "\n",
    "# compile model\n",
    "loss_weights = [350.0, 300.0, 1.0]\n",
    "ndiscrim = 1\n",
    "lmult = len(loss_weights) - ndiscrim\n",
    "\n",
    "\n",
    "make_trainable(aac_autoencoder, False)\n",
    "\n",
    "aac_discrim_reg = Model(input = [regdsc_input], output = [regdsc_label])\n",
    "aac_discrim_reg.compile(loss = ['binary_crossentropy'], optimizer = opti())\n",
    "aac_discrim_reg.summary()\n",
    "\n",
    "aac_autoencoder.summary()\n",
    "\n",
    "make_trainable(aac_discrim_reg, False)\n",
    "make_trainable(aac_autoencoder, True)\n",
    "model = Model(input = [aac_input], output = [aac_reconstructed] * lmult + [aac_reg_label])\n",
    "model.compile(loss = ['mean_squared_error', upper_dct_loss, 'binary_crossentropy'],\n",
    "              loss_weights = loss_weights,\n",
    "              optimizer = opti())\n",
    "model.summary()\n",
    "\n",
    "X_train = np.copy(processedWindows)\n",
    "ntrain = X_train.shape[0]\n",
    "\n"
   ]
  },
  {
   "cell_type": "code",
   "execution_count": 21,
   "metadata": {
    "collapsed": false
   },
   "outputs": [
    {
     "data": {
      "text/plain": [
       "0"
      ]
     },
     "execution_count": 21,
     "metadata": {},
     "output_type": "execute_result"
    }
   ],
   "source": [
    "'''\n",
    "plain_autoencoder.fit(X_train, X_train, batch_size = 128, nb_epoch = 3)\n",
    "\n",
    "lead = \"\"\n",
    "startTime = time.time()\n",
    "print lead + \"Evaluating...\"\n",
    "metrics = autoencoderTest(\"./SA1.WAV\", \"SA1_reg_eval_\", plain_autoencoder, verbose = False)\n",
    "\n",
    "print lead + \"Max/min desired:\", metrics[0], metrics[1]\n",
    "print lead + \"Max/min recons: \", metrics[2], metrics[3]\n",
    "print lead + \"MSE:     \", metrics[4]\n",
    "print lead + \"Avg err: \", metrics[5]\n",
    "\n",
    "elapsed = time.time() - startTime\n",
    "print lead + \"Total time for evaluation: \" + str(elapsed) + \"s\"\n",
    "'''\n",
    "0"
   ]
  },
  {
   "cell_type": "code",
   "execution_count": 22,
   "metadata": {
    "collapsed": true
   },
   "outputs": [],
   "source": [
    "def test_discriminator(discriminator, autoencoder, X, y, verbose = True):\n",
    "    # verify discriminator was trained properly\n",
    "    y_hat = discriminator.predict(X)\n",
    "    y_hat[y_hat >= 0.5] = 1\n",
    "    y_hat[y_hat < 0.5] = 0\n",
    "\n",
    "    n_total = y.shape[0]\n",
    "    n_correct = np.sum(np.ravel(y_hat) == y)\n",
    "\n",
    "    acc = n_correct * 100.0 / n_total\n",
    "    if (verbose):\n",
    "        print \"Discriminator accuracy: %0.02f pct (%d of %d) right\"%(acc, n_correct, n_total)\n",
    "    return acc"
   ]
  },
  {
   "cell_type": "code",
   "execution_count": 23,
   "metadata": {
    "collapsed": false
   },
   "outputs": [],
   "source": [
    "def autoencoderTest(waveFilename, prefix, autoencoder, verbose = True):\n",
    "    [rate, data] = sciwav.read(waveFilename)\n",
    "    processedWave, wparams = preprocessWaveform(data)\n",
    "    windows = extractWindows(processedWave, STEP_SIZE, OVERLAP_SIZE)\n",
    "    \n",
    "\n",
    "    # first, write desired reconstruction\n",
    "    transformed, tparams = preprocessWindows(windows)\n",
    "    if (verbose):\n",
    "        print transformed.shape\n",
    "    \n",
    "    desired = unpreprocessWindows(transformed, tparams)\n",
    "    desired = reconstructFromWindows(desired, OVERLAP_SIZE, OVERLAP_FUNC)\n",
    "    desired = unpreprocessWaveform(desired, wparams)\n",
    "    #sciwav.write(prefix + \"desired.wav\", rate, desired.astype(np.int16))\n",
    "    \n",
    "    # then, run NN on transformed windows\n",
    "    transformed, tparams = preprocessWindows(windows)\n",
    "    \n",
    "    transformed = np.reshape(transformed, (transformed.shape[0], WINDOW_SIZE, 1))\n",
    "    autoencOutput = autoencoder.predict(transformed, batch_size = BATCH_SIZE, verbose = (1 if verbose else 0))\n",
    "    if (verbose):\n",
    "        print autoencOutput.shape\n",
    "    autoencOutput = np.reshape(autoencOutput, (autoencOutput.shape[0], WINDOW_SIZE))\n",
    "    \n",
    "    if (verbose):\n",
    "        print autoencOutput.shape\n",
    "    recons = unpreprocessWindows(autoencOutput, tparams)\n",
    "    recons = reconstructFromWindows(recons, OVERLAP_SIZE, OVERLAP_FUNC)\n",
    "    recons = unpreprocessWaveform(recons, wparams)\n",
    "    \n",
    "    sciwav.write(prefix + \"output.wav\", rate, recons.astype(np.int16))\n",
    "    \n",
    "    metrics = [\n",
    "        np.max(desired),\n",
    "        np.min(desired),\n",
    "        np.max(recons),\n",
    "        np.min(recons),\n",
    "        mse(recons, desired),\n",
    "        avgErr(recons, desired)\n",
    "    ]\n",
    "    \n",
    "    if (verbose):\n",
    "        print \"Max/min desired:\", metrics[0], metrics[1]\n",
    "        print \"Max/min recons: \", metrics[2], metrics[3]\n",
    "        print waveFilename, \" mse: \", metrics[4]\n",
    "        print waveFilename, \" avg err: \", metrics[5]\n",
    "        \n",
    "    return metrics"
   ]
  },
  {
   "cell_type": "code",
   "execution_count": 24,
   "metadata": {
    "collapsed": false
   },
   "outputs": [],
   "source": [
    "# interleave two numpy arrays of the same size along the first axis\n",
    "def interleave(a, b):    \n",
    "    r = np.empty(a.shape)\n",
    "    r = np.repeat(r, 2, axis = 0)\n",
    "    \n",
    "    r[::2] = a\n",
    "    r[1::2] = b\n",
    "    return r"
   ]
  },
  {
   "cell_type": "code",
   "execution_count": 25,
   "metadata": {
    "collapsed": false,
    "scrolled": false
   },
   "outputs": [
    {
     "name": "stdout",
     "output_type": "stream",
     "text": [
      "Epoch 1:\n",
      "    1280: 0.337589919567  ['autoencoder not training'] \n",
      "    Terminating epoch early (don't wanna overfit!)\n",
      "\n",
      "    Total time for epoch: 12.8346378803s\n",
      "    ----------------\n",
      "    Evaluated the discriminator: 100.0% d_acc\n",
      "    Total time for evaluation: 1.43146514893s\n",
      "    ----------------\n",
      "    Evaluating autoencoder...\n",
      "    Max/min desired: 4899.0 -4013.0\n",
      "    Max/min recons:  7.95375e-08 -3.14321e-08\n",
      "    MSE:      154618.0\n",
      "    Avg err:  210.222\n",
      "    Total time for evaluation: 0.251217126846s\n",
      "\n",
      "Epoch 2:\n",
      "    1280: 0.491309046745  [12.816845 0.018464 0.015059 1.836775] [12.816845 6.462516 4.517554 1.836775] \n",
      "    Total time for epoch: 1610.8296051s\n",
      "    ----------------\n",
      "    Evaluated the discriminator: 80.0% d_acc\n",
      "    Total time for evaluation: 0.468273878098s\n",
      "    ----------------\n",
      "    Evaluating autoencoder...\n",
      "    Max/min desired: 4899.0 -4013.0\n",
      "    Max/min recons:  3708.25 -2761.67\n",
      "    MSE:      17718.8\n",
      "    Avg err:  69.747\n",
      "    Total time for evaluation: 0.252481937408s\n",
      "\n",
      "Epoch 3:\n",
      "    1280: 0.368985325098  [14.134263 0.021026 0.016614 1.791013] [14.134263 7.359083 4.984167 1.791013] \n",
      "    Total time for epoch: 1598.41756582s\n",
      "    ----------------\n",
      "    Evaluated the discriminator: 83.0% d_acc\n",
      "    Total time for evaluation: 0.467888116837s\n",
      "    ----------------\n",
      "    Evaluating autoencoder...\n",
      "    Max/min desired: 4899.0 -4013.0\n",
      "    Max/min recons:  3878.11 -2411.06\n",
      "    MSE:      16756.6\n",
      "    Avg err:  67.6243\n",
      "    Total time for evaluation: 0.251470088959s\n",
      "\n",
      "Epoch 4:\n",
      "    1280: 0.348036050797  [14.055115 0.020404 0.016939 1.832109] [14.055115 7.141398 5.081607 1.832109] \n",
      "    Total time for epoch: 1594.907933s\n",
      "    ----------------\n",
      "    Evaluated the discriminator: 84.25% d_acc\n",
      "    Total time for evaluation: 0.476064920425s\n",
      "    ----------------\n",
      "    Evaluating autoencoder...\n",
      "    Max/min desired: 4899.0 -4013.0\n",
      "    Max/min recons:  4408.82 -3116.68\n",
      "    MSE:      12899.5\n",
      "    Avg err:  62.0774\n",
      "    Total time for evaluation: 0.257349014282s\n",
      "\n",
      "Epoch 5:\n",
      "    1280: 0.389402717352  [15.303147 0.021795 0.019586 1.799280] [15.303147 7.628125 5.875744 1.799280] \n",
      "    Total time for epoch: 1595.40330696s\n",
      "    ----------------\n",
      "    Evaluated the discriminator: 79.25% d_acc\n",
      "    Total time for evaluation: 0.466908216476s\n",
      "    ----------------\n",
      "    Evaluating autoencoder...\n",
      "    Max/min desired: 4899.0 -4013.0\n",
      "    Max/min recons:  4432.72 -3074.97\n",
      "    MSE:      14268.1\n",
      "    Avg err:  65.8802\n",
      "    Total time for evaluation: 0.250184059143s\n",
      "\n",
      "Epoch 6:\n",
      "    1280: 0.282153755426  [15.756221 0.022254 0.017810 2.624535] [15.756221 7.788790 5.342896 2.624535] \n",
      "    Total time for epoch: 1593.71416903s\n",
      "    ----------------\n",
      "    Evaluated the discriminator: 86.75% d_acc\n",
      "    Total time for evaluation: 0.466794967651s\n",
      "    ----------------\n",
      "    Evaluating autoencoder...\n",
      "    Max/min desired: 4899.0 -4013.0\n",
      "    Max/min recons:  4554.94 -3415.28\n",
      "    MSE:      17609.9\n",
      "    Avg err:  70.5426\n",
      "    Total time for evaluation: 0.25178194046s\n",
      "\n",
      "Epoch 7:\n",
      "    1280: 0.317949056625  [14.210786 0.020470 0.015025 2.538796] [14.210786 7.164373 4.507617 2.538796] \n",
      "    Total time for epoch: 1594.417377s\n",
      "    ----------------\n",
      "    Evaluated the discriminator: 83.75% d_acc\n",
      "    Total time for evaluation: 0.462568044662s\n",
      "    ----------------\n",
      "    Evaluating autoencoder...\n",
      "    Max/min desired: 4899.0 -4013.0\n",
      "    Max/min recons:  4455.31 -2812.63\n",
      "    MSE:      15825.1\n",
      "    Avg err:  67.3677\n",
      "    Total time for evaluation: 0.251450061798s\n",
      "\n",
      "Epoch 8:\n",
      "    1280: 0.213462173939  [16.153534 0.023494 0.018347 2.426548] [16.153534 8.222858 5.504127 2.426548]"
     ]
    },
    {
     "ename": "KeyboardInterrupt",
     "evalue": "",
     "output_type": "error",
     "traceback": [
      "\u001b[0;31m---------------------------------------------------------------------------\u001b[0m",
      "\u001b[0;31mKeyboardInterrupt\u001b[0m                         Traceback (most recent call last)",
      "\u001b[0;32m<ipython-input-25-c52e40f045a7>\u001b[0m in \u001b[0;36m<module>\u001b[0;34m()\u001b[0m\n\u001b[1;32m     38\u001b[0m \u001b[0;34m\u001b[0m\u001b[0m\n\u001b[1;32m     39\u001b[0m         \u001b[0;31m# train discriminator(s) on what the autoencoder now generates\u001b[0m\u001b[0;34m\u001b[0m\u001b[0;34m\u001b[0m\u001b[0m\n\u001b[0;32m---> 40\u001b[0;31m         \u001b[0mgenerated\u001b[0m \u001b[0;34m=\u001b[0m \u001b[0maac_autoencoder\u001b[0m\u001b[0;34m.\u001b[0m\u001b[0mpredict\u001b[0m\u001b[0;34m(\u001b[0m\u001b[0mbatch\u001b[0m\u001b[0;34m)\u001b[0m\u001b[0;34m\u001b[0m\u001b[0m\n\u001b[0m\u001b[1;32m     41\u001b[0m         \u001b[0mdiscrim_batch_X\u001b[0m \u001b[0;34m=\u001b[0m \u001b[0minterleave\u001b[0m\u001b[0;34m(\u001b[0m\u001b[0mbatch\u001b[0m\u001b[0;34m,\u001b[0m \u001b[0mgenerated\u001b[0m\u001b[0;34m)\u001b[0m\u001b[0;34m\u001b[0m\u001b[0m\n\u001b[1;32m     42\u001b[0m         \u001b[0mdiscrim_batch_y\u001b[0m \u001b[0;34m=\u001b[0m \u001b[0minterleave\u001b[0m\u001b[0;34m(\u001b[0m\u001b[0mnp\u001b[0m\u001b[0;34m.\u001b[0m\u001b[0mones\u001b[0m\u001b[0;34m(\u001b[0m\u001b[0mnbatch\u001b[0m\u001b[0;34m)\u001b[0m\u001b[0;34m,\u001b[0m \u001b[0mnp\u001b[0m\u001b[0;34m.\u001b[0m\u001b[0mzeros\u001b[0m\u001b[0;34m(\u001b[0m\u001b[0mnbatch\u001b[0m\u001b[0;34m)\u001b[0m\u001b[0;34m)\u001b[0m\u001b[0;34m\u001b[0m\u001b[0m\n",
      "\u001b[0;32m/usr/local/lib/python2.7/dist-packages/keras/engine/training.pyc\u001b[0m in \u001b[0;36mpredict\u001b[0;34m(self, x, batch_size, verbose)\u001b[0m\n\u001b[1;32m   1182\u001b[0m         \u001b[0mf\u001b[0m \u001b[0;34m=\u001b[0m \u001b[0mself\u001b[0m\u001b[0;34m.\u001b[0m\u001b[0mpredict_function\u001b[0m\u001b[0;34m\u001b[0m\u001b[0m\n\u001b[1;32m   1183\u001b[0m         return self._predict_loop(f, ins,\n\u001b[0;32m-> 1184\u001b[0;31m                                   batch_size=batch_size, verbose=verbose)\n\u001b[0m\u001b[1;32m   1185\u001b[0m \u001b[0;34m\u001b[0m\u001b[0m\n\u001b[1;32m   1186\u001b[0m     def train_on_batch(self, x, y,\n",
      "\u001b[0;32m/usr/local/lib/python2.7/dist-packages/keras/engine/training.pyc\u001b[0m in \u001b[0;36m_predict_loop\u001b[0;34m(self, f, ins, batch_size, verbose)\u001b[0m\n\u001b[1;32m    878\u001b[0m                 \u001b[0mins_batch\u001b[0m \u001b[0;34m=\u001b[0m \u001b[0mslice_X\u001b[0m\u001b[0;34m(\u001b[0m\u001b[0mins\u001b[0m\u001b[0;34m,\u001b[0m \u001b[0mbatch_ids\u001b[0m\u001b[0;34m)\u001b[0m\u001b[0;34m\u001b[0m\u001b[0m\n\u001b[1;32m    879\u001b[0m \u001b[0;34m\u001b[0m\u001b[0m\n\u001b[0;32m--> 880\u001b[0;31m             \u001b[0mbatch_outs\u001b[0m \u001b[0;34m=\u001b[0m \u001b[0mf\u001b[0m\u001b[0;34m(\u001b[0m\u001b[0mins_batch\u001b[0m\u001b[0;34m)\u001b[0m\u001b[0;34m\u001b[0m\u001b[0m\n\u001b[0m\u001b[1;32m    881\u001b[0m             \u001b[0;32mif\u001b[0m \u001b[0mtype\u001b[0m\u001b[0;34m(\u001b[0m\u001b[0mbatch_outs\u001b[0m\u001b[0;34m)\u001b[0m \u001b[0;34m!=\u001b[0m \u001b[0mlist\u001b[0m\u001b[0;34m:\u001b[0m\u001b[0;34m\u001b[0m\u001b[0m\n\u001b[1;32m    882\u001b[0m                 \u001b[0mbatch_outs\u001b[0m \u001b[0;34m=\u001b[0m \u001b[0;34m[\u001b[0m\u001b[0mbatch_outs\u001b[0m\u001b[0;34m]\u001b[0m\u001b[0;34m\u001b[0m\u001b[0m\n",
      "\u001b[0;32m/usr/local/lib/python2.7/dist-packages/keras/backend/theano_backend.pyc\u001b[0m in \u001b[0;36m__call__\u001b[0;34m(self, inputs)\u001b[0m\n\u001b[1;32m    809\u001b[0m     \u001b[0;32mdef\u001b[0m \u001b[0m__call__\u001b[0m\u001b[0;34m(\u001b[0m\u001b[0mself\u001b[0m\u001b[0;34m,\u001b[0m \u001b[0minputs\u001b[0m\u001b[0;34m)\u001b[0m\u001b[0;34m:\u001b[0m\u001b[0;34m\u001b[0m\u001b[0m\n\u001b[1;32m    810\u001b[0m         \u001b[0;32massert\u001b[0m \u001b[0mtype\u001b[0m\u001b[0;34m(\u001b[0m\u001b[0minputs\u001b[0m\u001b[0;34m)\u001b[0m \u001b[0;32min\u001b[0m \u001b[0;34m{\u001b[0m\u001b[0mlist\u001b[0m\u001b[0;34m,\u001b[0m \u001b[0mtuple\u001b[0m\u001b[0;34m}\u001b[0m\u001b[0;34m\u001b[0m\u001b[0m\n\u001b[0;32m--> 811\u001b[0;31m         \u001b[0;32mreturn\u001b[0m \u001b[0mself\u001b[0m\u001b[0;34m.\u001b[0m\u001b[0mfunction\u001b[0m\u001b[0;34m(\u001b[0m\u001b[0;34m*\u001b[0m\u001b[0minputs\u001b[0m\u001b[0;34m)\u001b[0m\u001b[0;34m\u001b[0m\u001b[0m\n\u001b[0m\u001b[1;32m    812\u001b[0m \u001b[0;34m\u001b[0m\u001b[0m\n\u001b[1;32m    813\u001b[0m \u001b[0;34m\u001b[0m\u001b[0m\n",
      "\u001b[0;32m/usr/local/lib/python2.7/dist-packages/theano/compile/function_module.pyc\u001b[0m in \u001b[0;36m__call__\u001b[0;34m(self, *args, **kwargs)\u001b[0m\n\u001b[1;32m    864\u001b[0m         \u001b[0;32mtry\u001b[0m\u001b[0;34m:\u001b[0m\u001b[0;34m\u001b[0m\u001b[0m\n\u001b[1;32m    865\u001b[0m             \u001b[0moutputs\u001b[0m \u001b[0;34m=\u001b[0m\u001b[0;31m\\\u001b[0m\u001b[0;34m\u001b[0m\u001b[0m\n\u001b[0;32m--> 866\u001b[0;31m                 \u001b[0mself\u001b[0m\u001b[0;34m.\u001b[0m\u001b[0mfn\u001b[0m\u001b[0;34m(\u001b[0m\u001b[0;34m)\u001b[0m \u001b[0;32mif\u001b[0m \u001b[0moutput_subset\u001b[0m \u001b[0;32mis\u001b[0m \u001b[0mNone\u001b[0m \u001b[0;32melse\u001b[0m\u001b[0;31m\\\u001b[0m\u001b[0;34m\u001b[0m\u001b[0m\n\u001b[0m\u001b[1;32m    867\u001b[0m                 \u001b[0mself\u001b[0m\u001b[0;34m.\u001b[0m\u001b[0mfn\u001b[0m\u001b[0;34m(\u001b[0m\u001b[0moutput_subset\u001b[0m\u001b[0;34m=\u001b[0m\u001b[0moutput_subset\u001b[0m\u001b[0;34m)\u001b[0m\u001b[0;34m\u001b[0m\u001b[0m\n\u001b[1;32m    868\u001b[0m         \u001b[0;32mexcept\u001b[0m \u001b[0mException\u001b[0m\u001b[0;34m:\u001b[0m\u001b[0;34m\u001b[0m\u001b[0m\n",
      "\u001b[0;31mKeyboardInterrupt\u001b[0m: "
     ]
    }
   ],
   "source": [
    "np.set_printoptions(formatter={'float_kind':'{:4f}'.format})\n",
    "\n",
    "BATCH_SIZE = 128\n",
    "NUM_BATCHES = ntrain / BATCH_SIZE\n",
    "NUM_EPOCHS = 10\n",
    "\n",
    "lead = \"    \"\n",
    "d_loss = 0.0\n",
    "a_losses = []\n",
    "d_acc = 0.0\n",
    "discrim_train_y = np.concatenate((np.ones(ntrain), np.zeros(ntrain)))\n",
    "\n",
    "\n",
    "for epoch in range(NUM_EPOCHS):\n",
    "    print \"Epoch \" + str(epoch + 1) + \":\"\n",
    "\n",
    "    # present batches randomly each epoch\n",
    "    lis = range(0, ntrain, BATCH_SIZE)\n",
    "    random.shuffle(lis)\n",
    "    \n",
    "    # keep track of start time and current batch #\n",
    "    i = 0\n",
    "    startTime = time.time()\n",
    "    for idx in lis:\n",
    "        batch = X_train[idx:idx+BATCH_SIZE, :,  :]\n",
    "        nbatch = batch.shape[0]\n",
    "        \n",
    "        a_losses = [\"autoencoder not training\"]\n",
    "        d_loss = \"discriminator not training\"\n",
    "        \n",
    "        # train autoencoder, if discriminator accuracy is greater than 70%\n",
    "        if (epoch > 0):\n",
    "            make_trainable(aac_autoencoder, True)\n",
    "            make_trainable(aac_discrim_reg, False)\n",
    "            \n",
    "            a_y = [batch] * lmult + [np.ones(nbatch)] * ndiscrim\n",
    "            a_losses = model.train_on_batch(batch, a_y)\n",
    "        \n",
    "        # train discriminator(s) on what the autoencoder now generates\n",
    "        generated = aac_autoencoder.predict(batch)\n",
    "        discrim_batch_X = interleave(batch, generated)\n",
    "        discrim_batch_y = interleave(np.ones(nbatch), np.zeros(nbatch))\n",
    "        \n",
    "        make_trainable(aac_autoencoder, False)\n",
    "        make_trainable(aac_discrim_reg, True)\n",
    "        d_loss = aac_discrim_reg.train_on_batch(discrim_batch_X, discrim_batch_y)\n",
    "        \n",
    "        if (epoch == 0 and d_loss < 0.2):\n",
    "            print \"\"\n",
    "            print lead + \"Terminating epoch early (don't wanna overfit!)\"\n",
    "            break\n",
    "        \n",
    "        # print statistics every 10 batches so we know stuff is still going down\n",
    "        if (i % 10 == 0):\n",
    "            printStr = \"        \\r\" + lead + str(i * BATCH_SIZE) + \": \" + str(d_loss) + \" \"\n",
    "            print printStr,\n",
    "            \n",
    "            loss_arr = np.asarray(a_losses)\n",
    "            print loss_arr,\n",
    "            \n",
    "            if (len(loss_arr) > 1):\n",
    "                for i in xrange(0, len(loss_weights)):\n",
    "                    loss_arr[i + 1] *= loss_weights[i]\n",
    "                print loss_arr,\n",
    "            \n",
    "        i += 1\n",
    "    print \"\"\n",
    "    \n",
    "    # print elapsed time for epoch\n",
    "    elapsed = time.time() - startTime\n",
    "    print lead + \"Total time for epoch: \" + str(elapsed) + \"s\"\n",
    "    \n",
    "    \n",
    "    # ---------------------------------------------------------\n",
    "    # evaluate discriminator on random samples every epoch\n",
    "    # ---------------------------------------------------------\n",
    "    startTime = time.time()\n",
    "    print lead + \"----------------\"\n",
    "\n",
    "    NUM = 200\n",
    "    rows = np.random.randint(X_train.shape[0], size = NUM)\n",
    "    generated = aac_autoencoder.predict(X_train[rows, :], verbose = 0)\n",
    "    d_X = np.concatenate((X_train[rows, :], generated))\n",
    "    d_y = np.concatenate((np.ones(NUM), np.zeros(NUM)))\n",
    "    d_acc = test_discriminator(aac_discrim_reg, aac_autoencoder,\n",
    "                               d_X, d_y, verbose = False)\n",
    "\n",
    "    print lead + \"Evaluated the discriminator: \" + str(d_acc) + \"% d_acc\"\n",
    "    elapsed = time.time() - startTime\n",
    "    print lead + \"Total time for evaluation: \" + str(elapsed) + \"s\"\n",
    "    \n",
    "    \n",
    "    # ---------------------------------------------------------\n",
    "    # evaluate autoencoder on real data every epoch\n",
    "    # ---------------------------------------------------------\n",
    "    startTime = time.time()\n",
    "    print lead + \"----------------\"\n",
    "    \n",
    "    print lead + \"Evaluating autoencoder...\"\n",
    "    metrics = autoencoderTest(\"./SA1.WAV\", \"SA1_nonres_train_epoch\" + str(epoch+1), aac_autoencoder, verbose = False)\n",
    "    \n",
    "    print lead + \"Max/min desired:\", metrics[0], metrics[1]\n",
    "    print lead + \"Max/min recons: \", metrics[2], metrics[3]\n",
    "    print lead + \"MSE:     \", metrics[4]\n",
    "    print lead + \"Avg err: \", metrics[5]\n",
    "    elapsed = time.time() - startTime\n",
    "    print lead + \"Total time for evaluation: \" + str(elapsed) + \"s\"\n",
    "        \n",
    "    print \"\""
   ]
  },
  {
   "cell_type": "code",
   "execution_count": 26,
   "metadata": {
    "collapsed": false
   },
   "outputs": [
    {
     "name": "stdout",
     "output_type": "stream",
     "text": [
      "\n"
     ]
    }
   ],
   "source": [
    "enc = model.layers[1].layers\n",
    "dec = model.layers[2].layers\n"
   ]
  },
  {
   "cell_type": "code",
   "execution_count": 27,
   "metadata": {
    "collapsed": false
   },
   "outputs": [
    {
     "name": "stdout",
     "output_type": "stream",
     "text": [
      "    Evaluated the discriminator: 89.0% d_acc\n"
     ]
    }
   ],
   "source": [
    "NUM = 400\n",
    "rows = np.random.randint(X_train.shape[0], size = NUM)\n",
    "generated = aac_autoencoder.predict(X_train[rows, :], verbose = 0)\n",
    "d_X = np.concatenate((X_train[rows, :], generated))\n",
    "d_y = np.concatenate((np.ones(NUM), np.zeros(NUM)))\n",
    "d_acc = test_discriminator(aac_discrim_reg, aac_autoencoder,\n",
    "                           d_X, d_y, verbose = False)\n",
    "\n",
    "print lead + \"Evaluated the discriminator: \" + str(d_acc) + \"% d_acc\""
   ]
  },
  {
   "cell_type": "code",
   "execution_count": 28,
   "metadata": {
    "collapsed": false,
    "scrolled": false
   },
   "outputs": [
    {
     "name": "stdout",
     "output_type": "stream",
     "text": [
      "(112, 512)\n",
      "112/112 [==============================] - 0s\n",
      "(112, 512, 1)\n",
      "(112, 512)\n",
      "Max/min desired: 4899.0 -4013.0\n",
      "Max/min recons:  4425.96 -2792.75\n",
      "./SA1.WAV  mse:  16127.1\n",
      "./SA1.WAV  avg err:  68.8939\n",
      "(93, 512)\n",
      "93/93 [==============================] - 0s\n",
      "(93, 512, 1)\n",
      "(93, 512)\n",
      "Max/min desired: 2961.0 -3057.0\n",
      "Max/min recons:  2755.95 -2428.49\n",
      "./SX383.WAV  mse:  8877.5\n",
      "./SX383.WAV  avg err:  52.6184\n",
      "(181, 512)\n",
      "181/181 [==============================] - 0s     \n",
      "(181, 512, 1)\n",
      "(181, 512)\n",
      "Max/min desired: 24636.0 -20122.0\n",
      "Max/min recons:  19493.1 -12632.2\n",
      "./fiveYears.wav  mse:  4.97808e+06\n",
      "./fiveYears.wav  avg err:  1585.14\n"
     ]
    },
    {
     "data": {
      "text/plain": [
       "[24636.0, -20122.0, 19493.061, -12632.202, 4978084.5, 1585.136]"
      ]
     },
     "execution_count": 28,
     "metadata": {},
     "output_type": "execute_result"
    }
   ],
   "source": [
    "autoencoderTest(\"./SA1.WAV\", \"SA1_aac_\", aac_autoencoder)\n",
    "autoencoderTest(\"./SX383.WAV\", \"SX383_aac_\", aac_autoencoder)\n",
    "autoencoderTest(\"./fiveYears.wav\", \"fy_aac_\", aac_autoencoder)"
   ]
  },
  {
   "cell_type": "code",
   "execution_count": 29,
   "metadata": {
    "collapsed": false
   },
   "outputs": [
    {
     "name": "stdout",
     "output_type": "stream",
     "text": [
      "(112, 512)\n",
      "112/112 [==============================] - 0s\n",
      "(112, 512, 1)\n",
      "(112, 512)\n"
     ]
    }
   ],
   "source": [
    "[rate, data] = sciwav.read(\"./SA1.WAV\")\n",
    "processedWave, wparams = preprocessWaveform(data)\n",
    "windows = extractWindows(processedWave, STEP_SIZE, OVERLAP_SIZE)\n",
    "\n",
    "\n",
    "# first, write desired reconstruction\n",
    "transformed, tparams = preprocessWindows(windows)\n",
    "print transformed.shape\n",
    "desired = unpreprocessWindows(transformed, tparams)\n",
    "\n",
    "# then, run NN on transformed windows\n",
    "transformed, tparams = preprocessWindows(windows)\n",
    "\n",
    "transformed = np.reshape(transformed, (transformed.shape[0], WINDOW_SIZE, 1))\n",
    "autoencOutput = aac_autoencoder.predict(transformed, batch_size = BATCH_SIZE, verbose = 1)\n",
    "print autoencOutput.shape\n",
    "autoencOutput = np.reshape(autoencOutput, (autoencOutput.shape[0], WINDOW_SIZE))\n",
    "\n",
    "print autoencOutput.shape\n",
    "recons = unpreprocessWindows(autoencOutput, tparams)"
   ]
  },
  {
   "cell_type": "code",
   "execution_count": 30,
   "metadata": {
    "collapsed": false,
    "scrolled": false
   },
   "outputs": [
    {
     "data": {
      "text/plain": [
       "<matplotlib.figure.Figure at 0x7f65024827d0>"
      ]
     },
     "metadata": {},
     "output_type": "display_data"
    },
    {
     "data": {
      "image/png": "[encoded data removed]",
      "text/plain": [
       "<matplotlib.figure.Figure at 0x7f64b01eef10>"
      ]
     },
     "metadata": {},
     "output_type": "display_data"
    },
    {
     "data": {
      "text/plain": [
       "<matplotlib.figure.Figure at 0x7f646d38ce50>"
      ]
     },
     "metadata": {},
     "output_type": "display_data"
    },
    {
     "data": {
      "image/png": "[encoded data removed]",
      "text/plain": [
       "<matplotlib.figure.Figure at 0x7f646d38cf50>"
      ]
     },
     "metadata": {},
     "output_type": "display_data"
    },
    {
     "data": {
      "text/plain": [
       "<matplotlib.figure.Figure at 0x7f646d29bc10>"
      ]
     },
     "metadata": {},
     "output_type": "display_data"
    },
    {
     "data": {
      "image/png": "[encoded data removed]",
      "text/plain": [
       "<matplotlib.figure.Figure at 0x7f646d29bd10>"
      ]
     },
     "metadata": {},
     "output_type": "display_data"
    }
   ],
   "source": [
    "from numpy.fft import fft\n",
    "\n",
    "%matplotlib inline\n",
    "x = np.arange(0, desired.shape[1])\n",
    "idx = 23\n",
    "\n",
    "# 45 is a high-freq thingy\n",
    "# 67 is a vowel\n",
    "\n",
    "desired_fft = fft(desired[idx])\n",
    "recons_fft = fft(recons[idx])\n",
    "\n",
    "desired_dct = scidct(desired[idx])\n",
    "recons_dct = scidct(recons[idx])\n",
    "\n",
    "'''\n",
    "desired_haar = desired[idx].reshape((1, WINDOW_SIZE, 1))\n",
    "desired_haar = haar_multilevel(desired_haar, 8)\n",
    "recons_haar = recons[idx].reshape((1, WINDOW_SIZE, 1))\n",
    "recons_haar = haar_multilevel(recons_haar, 8)\n",
    "print desired_haar[:, :4, :].eval()\n",
    "print recons_haar[:, :4, :].eval()\n",
    "'''\n",
    "\n",
    "plt.figure()\n",
    "fig, (ax1, ax2) = plt.subplots(2, sharex=True, sharey=True)\n",
    "ax1.plot(x, desired[idx])\n",
    "ax2.plot(x, recons[idx])\n",
    "\n",
    "plt.figure()\n",
    "fig, (ax1, ax2) = plt.subplots(2, sharex=True, sharey=True)\n",
    "ax1.plot(x, desired_fft)\n",
    "ax2.plot(x, recons_fft)\n",
    "\n",
    "plt.figure()\n",
    "fig, (ax1, ax2) = plt.subplots(2, sharex=True, sharey=True)\n",
    "ax1.plot(x, desired_dct)\n",
    "ax2.plot(x, recons_dct)\n",
    "\n",
    "\n",
    "plt.show()"
   ]
  },
  {
   "cell_type": "code",
   "execution_count": null,
   "metadata": {
    "collapsed": true
   },
   "outputs": [],
   "source": []
  },
  {
   "cell_type": "code",
   "execution_count": null,
   "metadata": {
    "collapsed": true
   },
   "outputs": [],
   "source": []
  },
  {
   "cell_type": "code",
   "execution_count": null,
   "metadata": {
    "collapsed": true
   },
   "outputs": [],
   "source": []
  },
  {
   "cell_type": "code",
   "execution_count": null,
   "metadata": {
    "collapsed": true
   },
   "outputs": [],
   "source": []
  }
 ],
 "metadata": {
  "kernelspec": {
   "display_name": "Python 2",
   "language": "python",
   "name": "python2"
  },
  "language_info": {
   "codemirror_mode": {
    "name": "ipython",
    "version": 2
   },
   "file_extension": ".py",
   "mimetype": "text/x-python",
   "name": "python",
   "nbconvert_exporter": "python",
   "pygments_lexer": "ipython2",
   "version": "2.7.12"
  }
 },
 "nbformat": 4,
 "nbformat_minor": 1
}
