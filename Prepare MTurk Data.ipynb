{
 "cells": [
  {
   "cell_type": "code",
   "execution_count": 1,
   "metadata": {
    "collapsed": true
   },
   "outputs": [],
   "source": [
    "import numpy as np\n",
    "import random\n",
    "import shutil"
   ]
  },
  {
   "cell_type": "code",
   "execution_count": 2,
   "metadata": {},
   "outputs": [
    {
     "name": "stderr",
     "output_type": "stream",
     "text": [
      "Using TensorFlow backend.\n"
     ]
    }
   ],
   "source": [
    "# external custom code I wrote\n",
    "from load_data import *"
   ]
  },
  {
   "cell_type": "code",
   "execution_count": 3,
   "metadata": {
    "collapsed": true
   },
   "outputs": [],
   "source": [
    "[train_paths, val_paths, test_paths], \\\n",
    "[train_waveforms, val_waveforms, test_waveforms], \\\n",
    "[train_procwave, val_procwave, test_procwave], \\\n",
    "[train_wparams, val_wparams, test_wparams], \\\n",
    "[train_windows, val_windows, test_windows] = load_data(TRAIN_SIZE, VAL_SIZE, TEST_SIZE)"
   ]
  },
  {
   "cell_type": "code",
   "execution_count": 8,
   "metadata": {
    "collapsed": true
   },
   "outputs": [],
   "source": [
    "NUM_SELECT = 20\n",
    "\n",
    "test_paths = test_paths[:NUM_SELECT]"
   ]
  },
  {
   "cell_type": "code",
   "execution_count": 9,
   "metadata": {
    "collapsed": true
   },
   "outputs": [],
   "source": [
    "base_dir = \"\"\n",
    "mturk_dir = base_dir + \"mturk-data/\"\n",
    "amr_rates = [8.85, 15.85, 19.85, 23.85]\n",
    "\n",
    "if not os.path.exists(mturk_dir):\n",
    "    os.makedirs(mturk_dir)"
   ]
  },
  {
   "cell_type": "code",
   "execution_count": 10,
   "metadata": {},
   "outputs": [
    {
     "name": "stdout",
     "output_type": "stream",
     "text": [
      "Preparing data from test set\n",
      "    Original files...\n",
      "    AMR-WB bitrate 8.85...\n",
      "    AMR-WB bitrate 15.85...\n",
      "    AMR-WB bitrate 19.85...\n",
      "    AMR-WB bitrate 23.85...\n"
     ]
    }
   ],
   "source": [
    "lead = \"    \"\n",
    "print \"Preparing data from test set\"\n",
    "\n",
    "# ------------------------------------------------------\n",
    "# no compression (just highest-quality MP3 conversion)\n",
    "# ------------------------------------------------------\n",
    "print lead + \"Original files...\"\n",
    "\n",
    "orig_dir = mturk_dir + \"orig/\"\n",
    "if not os.path.exists(orig_dir):\n",
    "    os.makedirs(orig_dir)\n",
    "\n",
    "for path in test_paths:\n",
    "    src_file = path\n",
    "\n",
    "    split = path.split(\"/\")\n",
    "    identifier = split[-3] + \"-\" + split[-2] + \"-\" + split[-1][:-4]\n",
    "    dest_file = orig_dir + identifier + \".wav\"\n",
    "\n",
    "    ffmpeg_command = \"ffmpeg -y -i \" + src_file + \" \" + dest_file\n",
    "    os.system(ffmpeg_command)\n",
    "\n",
    "# ------------------------------------------------------\n",
    "# compress using AMR-WB\n",
    "# ------------------------------------------------------\n",
    "for rate in amr_rates:\n",
    "    print lead + \"AMR-WB bitrate \" + str(rate) + \"...\"\n",
    "\n",
    "    amr_dir = mturk_dir + \"amr-\" + str(rate) + \"/\"\n",
    "    if not os.path.exists(amr_dir):\n",
    "        os.makedirs(amr_dir)\n",
    "\n",
    "    for path in test_paths:\n",
    "        src_file = path\n",
    "\n",
    "        split = path.split(\"/\")\n",
    "        identifier = split[-3] + \"-\" + split[-2] + \"-\" + split[-1][:-4]\n",
    "        dest_amr = amr_dir + identifier + \".amr\"\n",
    "        dest_wav = amr_dir + identifier + \".wav\"\n",
    "\n",
    "        command_encode = 'ffmpeg -y -i ' + src_file + ' -ar 16000 -ab ' + str(rate) + 'k ' + \\\n",
    "                         '-acodec libvo_amrwbenc ' + dest_amr\n",
    "        command_decode = 'ffmpeg -y -i ' + dest_amr + ' ' + dest_wav\n",
    "\n",
    "        os.system(command_encode)\n",
    "        os.system(command_decode)\n",
    "        os.system('rm ' + dest_amr)"
   ]
  },
  {
   "cell_type": "code",
   "execution_count": 12,
   "metadata": {
    "collapsed": true
   },
   "outputs": [],
   "source": [
    "# prepare input hit file in the format wanted by CrowdMOS\n",
    "hit = open(\"MOS.hit_input\", \"w\")\n",
    "hit.write(\"sentence\\talgorithm\\tURL\\n\")\n",
    "\n",
    "URL_BASE = \"http://srik.zamn.net/mturk-data/\"\n",
    "\n",
    "for path in test_paths:\n",
    "    src_file = path\n",
    "\n",
    "    split = path.split(\"/\")\n",
    "    identifier = split[-3] + \"-\" + split[-2] + \"-\" + split[-1][:-4]\n",
    "    \n",
    "    # write line for original file\n",
    "    algo = \"orig\"\n",
    "    orig_url = URL_BASE + algo + \"/\" + identifier + \".wav\"\n",
    "    line = identifier + \"\\t\" + algo + \"\\t\" + orig_url\n",
    "    hit.write(line + \"\\n\")\n",
    "    \n",
    "    # write line for all the AMR-WB rates\n",
    "    for rate in amr_rates:\n",
    "        algo = \"amr-\" + str(rate)\n",
    "        amr_url = URL_BASE + algo + \"/\" + identifier + \".wav\"\n",
    "        line = identifier + \"\\t\" + algo + \"\\t\" + amr_url\n",
    "        hit.write(line + \"\\n\")\n",
    "    \n",
    "hit.close()"
   ]
  },
  {
   "cell_type": "raw",
   "metadata": {
    "collapsed": true
   },
   "source": []
  },
  {
   "cell_type": "code",
   "execution_count": null,
   "metadata": {
    "collapsed": true
   },
   "outputs": [],
   "source": []
  },
  {
   "cell_type": "code",
   "execution_count": null,
   "metadata": {
    "collapsed": true
   },
   "outputs": [],
   "source": []
  }
 ],
 "metadata": {
  "kernelspec": {
   "display_name": "Python 2",
   "language": "python",
   "name": "python2"
  },
  "language_info": {
   "codemirror_mode": {
    "name": "ipython",
    "version": 2
   },
   "file_extension": ".py",
   "mimetype": "text/x-python",
   "name": "python",
   "nbconvert_exporter": "python",
   "pygments_lexer": "ipython2",
   "version": "2.7.12"
  }
 },
 "nbformat": 4,
 "nbformat_minor": 1
}
