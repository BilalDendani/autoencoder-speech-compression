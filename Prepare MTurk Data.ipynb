{
 "cells": [
  {
   "cell_type": "code",
   "execution_count": 1,
   "metadata": {
    "collapsed": true
   },
   "outputs": [],
   "source": [
    "import numpy as np\n",
    "import random\n",
    "import shutil"
   ]
  },
  {
   "cell_type": "code",
   "execution_count": 2,
   "metadata": {},
   "outputs": [
    {
     "name": "stderr",
     "output_type": "stream",
     "text": [
      "Using TensorFlow backend.\n"
     ]
    }
   ],
   "source": [
    "# external custom code I wrote\n",
    "from load_data import *\n",
    "from evaluation import *\n",
    "from nn_blocks import *\n",
    "import scipy.io.wavfile as sciwav"
   ]
  },
  {
   "cell_type": "code",
   "execution_count": 3,
   "metadata": {
    "collapsed": true
   },
   "outputs": [],
   "source": [
    "[train_paths, val_paths, test_paths], \\\n",
    "[train_waveforms, val_waveforms, test_waveforms], \\\n",
    "[train_procwave, val_procwave, test_procwave], \\\n",
    "[train_wparams, val_wparams, test_wparams], \\\n",
    "[train_windows, val_windows, test_windows] = load_data(TRAIN_SIZE, VAL_SIZE, TEST_SIZE)"
   ]
  },
  {
   "cell_type": "code",
   "execution_count": 4,
   "metadata": {
    "collapsed": true
   },
   "outputs": [],
   "source": [
    "NUM_SELECT = 20\n",
    "\n",
    "test_paths = test_paths[:NUM_SELECT]"
   ]
  },
  {
   "cell_type": "code",
   "execution_count": 5,
   "metadata": {
    "collapsed": true
   },
   "outputs": [],
   "source": [
    "base_dir = \"\"\n",
    "mturk_dir = base_dir + \"mturk-data/\"\n",
    "amr_rates = [8.85, 15.85, 19.85, 23.85]\n",
    "\n",
    "dnn_rates = [8.53, 15.56, 19.70, 23.71]\n",
    "dnn_folders = ['./8.53-3.523tst/',\n",
    "               './15.56-4.049tst/',\n",
    "               './19.70-4.172tst/',\n",
    "               './23.71-4.222tst/']\n",
    "\n",
    "if not os.path.exists(mturk_dir):\n",
    "    os.makedirs(mturk_dir)"
   ]
  },
  {
   "cell_type": "code",
   "execution_count": 6,
   "metadata": {},
   "outputs": [
    {
     "name": "stdout",
     "output_type": "stream",
     "text": [
      "Original files...\n"
     ]
    }
   ],
   "source": [
    "# ------------------------------------------------------\n",
    "# no compression\n",
    "# ------------------------------------------------------\n",
    "print \"Original files...\"\n",
    "\n",
    "orig_dir = mturk_dir + \"orig/\"\n",
    "if not os.path.exists(orig_dir):\n",
    "    os.makedirs(orig_dir)\n",
    "\n",
    "for path in test_paths:\n",
    "    # normalize volume of waveform to 75% of maximum\n",
    "    [rate, data] = sciwav.read(path)\n",
    "    data = data.astype(np.float32)\n",
    "    data = data / np.max(np.abs(data)) * 0.75 * 32767.0\n",
    "    data = np.clip(data, -32767, 32767)\n",
    "    data = data.astype(np.int16)\n",
    "\n",
    "    split = path.split(\"/\")\n",
    "    identifier = split[-3] + \"-\" + split[-2] + \"-\" + split[-1][:-4]\n",
    "    dest_file = orig_dir + identifier + \".wav\"\n",
    "    sciwav.write(dest_file, rate, data)"
   ]
  },
  {
   "cell_type": "code",
   "execution_count": 7,
   "metadata": {},
   "outputs": [
    {
     "name": "stdout",
     "output_type": "stream",
     "text": [
      "AMR-WB bitrate 8.85...\n",
      "AMR-WB bitrate 15.85...\n",
      "AMR-WB bitrate 19.85...\n",
      "AMR-WB bitrate 23.85...\n"
     ]
    }
   ],
   "source": [
    "# ------------------------------------------------------\n",
    "# compress using AMR-WB\n",
    "# ------------------------------------------------------\n",
    "for rate in amr_rates:\n",
    "    print \"AMR-WB bitrate \" + str(rate) + \"...\"\n",
    "\n",
    "    amr_dir = mturk_dir + \"amr-\" + str(rate) + \"/\"\n",
    "    if not os.path.exists(amr_dir):\n",
    "        os.makedirs(amr_dir)\n",
    "\n",
    "    for path in test_paths:\n",
    "        split = path.split(\"/\")\n",
    "        identifier = split[-3] + \"-\" + split[-2] + \"-\" + split[-1][:-4]\n",
    "        orig_wav = orig_dir + identifier + \".wav\"\n",
    "        dest_amr = amr_dir + identifier + \".amr\"\n",
    "        dest_wav = amr_dir + identifier + \".wav\"\n",
    "\n",
    "        command_encode = 'ffmpeg -y -i ' + orig_wav + ' -ar 16000 -ab ' + str(rate) + 'k ' + \\\n",
    "                         '-acodec libvo_amrwbenc ' + dest_amr\n",
    "        command_decode = 'ffmpeg -y -i ' + dest_amr + ' ' + dest_wav\n",
    "\n",
    "        os.system(command_encode)\n",
    "        os.system(command_decode)\n",
    "        os.system('rm ' + dest_amr)"
   ]
  },
  {
   "cell_type": "code",
   "execution_count": null,
   "metadata": {},
   "outputs": [
    {
     "name": "stdout",
     "output_type": "stream",
     "text": [
      "DNN bitrate 8.53...\n",
      "    Loading model...\n"
     ]
    },
    {
     "name": "stderr",
     "output_type": "stream",
     "text": [
      "/usr/local/lib/python2.7/dist-packages/keras/models.py:258: UserWarning: No training configuration found in save file: the model was *not* compiled. Compile it manually.\n",
      "  warnings.warn('No training configuration found in save file: '\n"
     ]
    },
    {
     "name": "stdout",
     "output_type": "stream",
     "text": [
      "    Processing files...\n",
      "DNN bitrate 15.56...\n",
      "    Loading model...\n",
      "    Processing files...\n",
      "DNN bitrate 19.7...\n",
      "    Loading model...\n",
      "    Processing files...\n"
     ]
    }
   ],
   "source": [
    "KERAS_LOAD_MAP = {'PhaseShiftUp1D' : PhaseShiftUp1D,\n",
    "                  'SoftmaxQuantization' : SoftmaxQuantization,\n",
    "                  'SoftmaxDequantization' : SoftmaxDequantization}\n",
    "\n",
    "for i in xrange(0, len(dnn_rates)):\n",
    "    rate = dnn_rates[i]\n",
    "    dnn_path = dnn_folders[i] + 'best_coder.h5'\n",
    "    \n",
    "    print \"DNN bitrate \" + str(rate) + \"...\"\n",
    "    \n",
    "    dnn_dir = mturk_dir + \"dnn-\" + str(rate) + \"/\"\n",
    "    if not os.path.exists(dnn_dir):\n",
    "        os.makedirs(dnn_dir)\n",
    "    \n",
    "    print \"    Loading model...\"\n",
    "    autoencoder = load_model(dnn_path, KERAS_LOAD_MAP)\n",
    "    K.set_value(QUANTIZATION_ON, True)\n",
    "    \n",
    "    print \"    Processing files...\"\n",
    "    for path in test_paths:\n",
    "        split = path.split(\"/\")\n",
    "        identifier = split[-3] + \"-\" + split[-2] + \"-\" + split[-1][:-4]\n",
    "        orig_wav = orig_dir + identifier + \".wav\"\n",
    "        dest_wav = dnn_dir + identifier + \".wav\"\n",
    "        \n",
    "        _, processed = run_model_on_wav(orig_wav, autoencoder, argmax = True)\n",
    "        sciwav.write(dest_wav, 16000, processed.astype(np.int16))"
   ]
  },
  {
   "cell_type": "code",
   "execution_count": null,
   "metadata": {
    "collapsed": true
   },
   "outputs": [],
   "source": [
    "# prepare input hit file in the format wanted by CrowdMOS\n",
    "hit = open(\"MOS.hit_input\", \"w\")\n",
    "hit.write(\"sentence\\talgorithm\\tURL\\n\")\n",
    "\n",
    "URL_BASE = \"http://srik.zamn.net/mturk-data/\"\n",
    "\n",
    "for path in test_paths:\n",
    "    src_file = path\n",
    "\n",
    "    split = path.split(\"/\")\n",
    "    identifier = split[-3] + \"-\" + split[-2] + \"-\" + split[-1][:-4]\n",
    "    \n",
    "    # write line for original file\n",
    "    algo = \"orig\"\n",
    "    orig_url = URL_BASE + algo + \"/\" + identifier + \".wav\"\n",
    "    line = identifier + \"\\t\" + \"REF\" + \"\\t\" + orig_url\n",
    "    hit.write(line + \"\\n\")\n",
    "    \n",
    "    # write line for all the AMR-WB rates\n",
    "    for rate in amr_rates:\n",
    "        algo = \"amr-\" + str(rate)\n",
    "        amr_url = URL_BASE + algo + \"/\" + identifier + \".wav\"\n",
    "        line = identifier + \"\\t\" + algo + \"\\t\" + amr_url\n",
    "        hit.write(line + \"\\n\")\n",
    "        \n",
    "    # write line for all the ANN rates\n",
    "    for rate in dnn_rates:\n",
    "        algo = \"dnn-\" + str(rate)\n",
    "        amr_url = URL_BASE + algo + \"/\" + identifier + \".wav\"\n",
    "        line = identifier + \"\\t\" + algo + \"\\t\" + amr_url\n",
    "        hit.write(line + \"\\n\")\n",
    "    \n",
    "hit.close()"
   ]
  },
  {
   "cell_type": "raw",
   "metadata": {
    "collapsed": true
   },
   "source": []
  },
  {
   "cell_type": "code",
   "execution_count": null,
   "metadata": {
    "collapsed": true
   },
   "outputs": [],
   "source": []
  },
  {
   "cell_type": "code",
   "execution_count": null,
   "metadata": {
    "collapsed": true
   },
   "outputs": [],
   "source": []
  }
 ],
 "metadata": {
  "kernelspec": {
   "display_name": "Python 2",
   "language": "python",
   "name": "python2"
  },
  "language_info": {
   "codemirror_mode": {
    "name": "ipython",
    "version": 2
   },
   "file_extension": ".py",
   "mimetype": "text/x-python",
   "name": "python",
   "nbconvert_exporter": "python",
   "pygments_lexer": "ipython2",
   "version": "2.7.12"
  }
 },
 "nbformat": 4,
 "nbformat_minor": 1
}
