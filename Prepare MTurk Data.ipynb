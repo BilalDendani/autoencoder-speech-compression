{
 "cells": [
  {
   "cell_type": "code",
   "execution_count": 1,
   "metadata": {
    "collapsed": true
   },
   "outputs": [],
   "source": [
    "import numpy as np\n",
    "import random\n",
    "import shutil"
   ]
  },
  {
   "cell_type": "code",
   "execution_count": 2,
   "metadata": {},
   "outputs": [
    {
     "name": "stderr",
     "output_type": "stream",
     "text": [
      "Using TensorFlow backend.\n"
     ]
    }
   ],
   "source": [
    "# external custom code I wrote\n",
    "from load_data import *\n",
    "from evaluation import *\n",
    "from nn_blocks import *\n",
    "import scipy.io.wavfile as sciwav"
   ]
  },
  {
   "cell_type": "code",
   "execution_count": 3,
   "metadata": {
    "collapsed": true
   },
   "outputs": [],
   "source": [
    "[train_paths, val_paths, test_paths], \\\n",
    "[train_waveforms, val_waveforms, test_waveforms], \\\n",
    "[train_procwave, val_procwave, test_procwave], \\\n",
    "[train_wparams, val_wparams, test_wparams], \\\n",
    "[train_windows, val_windows, test_windows] = load_data(TRAIN_SIZE, VAL_SIZE, TEST_SIZE)"
   ]
  },
  {
   "cell_type": "code",
   "execution_count": 4,
   "metadata": {
    "collapsed": true
   },
   "outputs": [],
   "source": [
    "NUM_SELECT = 20\n",
    "\n",
    "# for reproducibility\n",
    "np.random.seed(42) \n",
    "random.seed(42)\n",
    "test_paths = random.sample(test_paths, NUM_SELECT)"
   ]
  },
  {
   "cell_type": "code",
   "execution_count": 5,
   "metadata": {
    "collapsed": true
   },
   "outputs": [],
   "source": [
    "base_dir = \"\"\n",
    "mturk_dir = base_dir + \"mturk-data/\"\n",
    "\n",
    "amr_bitrates = [8.85, 15.85, 19.85, 23.85]\n",
    "speex_bitrates = [9.00, 16.00, 20.00, 24.00, 32.00]\n",
    "opus_bitrates = [9.00, 16.00, 20.00, 24.00, 32.00]\n",
    "\n",
    "codec_names = [\"amr\", \"speex\", \"opus\"]\n",
    "codec_bitrates = [amr_bitrates, speex_bitrates, opus_bitrates]\n",
    "codec_exts = [\".amr\", \".spx\", \".opus\"]\n",
    "codec_libs = [\"libvo_amrwbenc\", \"libspeex\", \"libopus\"]\n",
    "codec_options = [\"\", \"-abr 1\", \"-vbr off -application voip\"]"
   ]
  },
  {
   "cell_type": "code",
   "execution_count": 6,
   "metadata": {
    "collapsed": true
   },
   "outputs": [],
   "source": [
    "dnn_rates = [9.02, 16.24, 20.06, 24.06, 32.25]\n",
    "dnn_folders = ['./9.02kbps/',\n",
    "               './16.24kbps/',\n",
    "               './20.06kbps/',\n",
    "               './24.06kbps/',\n",
    "               './32.25kbps/']\n",
    "\n",
    "if not os.path.exists(mturk_dir):\n",
    "    os.makedirs(mturk_dir)"
   ]
  },
  {
   "cell_type": "code",
   "execution_count": 7,
   "metadata": {},
   "outputs": [
    {
     "name": "stdout",
     "output_type": "stream",
     "text": [
      "Original files...\n"
     ]
    }
   ],
   "source": [
    "# ------------------------------------------------------\n",
    "# no compression\n",
    "# ------------------------------------------------------\n",
    "print \"Original files...\"\n",
    "\n",
    "orig_dir = mturk_dir + \"orig/\"\n",
    "if not os.path.exists(orig_dir):\n",
    "    os.makedirs(orig_dir)\n",
    "\n",
    "for path in test_paths:\n",
    "    # normalize volume of waveform to 50% of maximum\n",
    "    [rate, data] = sciwav.read(path)\n",
    "\n",
    "    split = path.split(\"/\")\n",
    "    identifier = split[-3] + \"-\" + split[-2] + \"-\" + split[-1][:-4]\n",
    "    dest_file = orig_dir + identifier + \".wav\"\n",
    "    sciwav.write(dest_file, rate, data)"
   ]
  },
  {
   "cell_type": "code",
   "execution_count": 8,
   "metadata": {},
   "outputs": [
    {
     "name": "stdout",
     "output_type": "stream",
     "text": [
      "amr bitrate 8.85...\n",
      "amr bitrate 15.85...\n",
      "amr bitrate 19.85...\n",
      "amr bitrate 23.85...\n",
      "speex bitrate 9.0...\n",
      "speex bitrate 16.0...\n",
      "speex bitrate 20.0...\n",
      "speex bitrate 24.0...\n",
      "speex bitrate 32.0...\n",
      "opus bitrate 9.0...\n",
      "opus bitrate 16.0...\n",
      "opus bitrate 20.0...\n",
      "opus bitrate 24.0...\n",
      "opus bitrate 32.0...\n"
     ]
    }
   ],
   "source": [
    "# ------------------------------------------------------\n",
    "# compress with ffmpeg codecs\n",
    "# ------------------------------------------------------\n",
    "for i in xrange(0, len(codec_names)):\n",
    "    c_name = codec_names[i]\n",
    "    c_rates = codec_bitrates[i]\n",
    "    c_ext = codec_exts[i]\n",
    "    c_lib = codec_libs[i]\n",
    "    c_opt = codec_options[i]\n",
    "    \n",
    "    for rate in c_rates:\n",
    "        print c_name + \" bitrate \" + str(rate) + \"...\"\n",
    "\n",
    "        curr_dir = mturk_dir + c_name + \"-\" + str(rate) + \"/\"\n",
    "        if not os.path.exists(curr_dir):\n",
    "            os.makedirs(curr_dir)\n",
    "\n",
    "        for path in test_paths:\n",
    "            split = path.split(\"/\")\n",
    "            identifier = split[-3] + \"-\" + split[-2] + \"-\" + split[-1][:-4]\n",
    "            orig_wav = orig_dir + identifier + \".wav\"\n",
    "            dest_enc = curr_dir + identifier + c_ext\n",
    "            dest_wav = curr_dir + identifier + \".wav\"\n",
    "\n",
    "            command_encode = 'ffmpeg -hide_banner ' + \\\n",
    "                             '-i ' + orig_wav + ' -ar 16000 -ab ' + str(rate) + 'k ' + \\\n",
    "                             '-acodec ' + c_lib + ' ' + c_opt + ' ' + dest_enc\n",
    "            command_decode = 'ffmpeg -hide_banner ' + \\\n",
    "                             '-i ' + dest_enc + ' -ar 16000 ' + dest_wav\n",
    "\n",
    "            os.system(command_encode)\n",
    "            os.system(command_decode)\n",
    "            os.system('rm ' + dest_enc)"
   ]
  },
  {
   "cell_type": "code",
   "execution_count": 9,
   "metadata": {},
   "outputs": [
    {
     "name": "stdout",
     "output_type": "stream",
     "text": [
      "DNN bitrate 9.02...\n",
      "    Loading model...\n"
     ]
    },
    {
     "name": "stderr",
     "output_type": "stream",
     "text": [
      "/usr/local/lib/python2.7/dist-packages/keras/models.py:258: UserWarning: No training configuration found in save file: the model was *not* compiled. Compile it manually.\n",
      "  warnings.warn('No training configuration found in save file: '\n"
     ]
    },
    {
     "name": "stdout",
     "output_type": "stream",
     "text": [
      "    Processing files...\n",
      "DNN bitrate 16.24...\n",
      "    Loading model...\n",
      "    Processing files...\n",
      "DNN bitrate 20.06...\n",
      "    Loading model...\n",
      "    Processing files...\n",
      "DNN bitrate 24.06...\n",
      "    Loading model...\n",
      "    Processing files...\n",
      "DNN bitrate 32.25...\n",
      "    Loading model...\n",
      "    Processing files...\n"
     ]
    }
   ],
   "source": [
    "# ------------------------------------------------------\n",
    "# compress with DNN\n",
    "# ------------------------------------------------------\n",
    "KERAS_LOAD_MAP = {'PhaseShiftUp1D' : PhaseShiftUp1D,\n",
    "                  'SoftmaxQuantization' : SoftmaxQuantization,\n",
    "                  'SoftmaxDequantization' : SoftmaxDequantization}\n",
    "\n",
    "for i in xrange(0, len(dnn_rates)):\n",
    "    rate = dnn_rates[i]\n",
    "    dnn_path = dnn_folders[i] + 'best_coder.h5'\n",
    "    \n",
    "    print \"DNN bitrate \" + str(rate) + \"...\"\n",
    "    \n",
    "    dnn_dir = mturk_dir + \"dnn-\" + str(rate) + \"/\"\n",
    "    if not os.path.exists(dnn_dir):\n",
    "        os.makedirs(dnn_dir)\n",
    "    \n",
    "    print \"    Loading model...\"\n",
    "    autoencoder = load_model(dnn_path, KERAS_LOAD_MAP)\n",
    "    K.set_value(QUANTIZATION_ON, True)\n",
    "    \n",
    "    print \"    Processing files...\"\n",
    "    for path in test_paths:\n",
    "        split = path.split(\"/\")\n",
    "        identifier = split[-3] + \"-\" + split[-2] + \"-\" + split[-1][:-4]\n",
    "        orig_wav = orig_dir + identifier + \".wav\"\n",
    "        dest_wav = dnn_dir + identifier + \".wav\"\n",
    "        \n",
    "        _, processed = run_model_on_wav(orig_wav, autoencoder, argmax = True)\n",
    "        sciwav.write(dest_wav, 16000, processed.astype(np.int16))"
   ]
  },
  {
   "cell_type": "code",
   "execution_count": 24,
   "metadata": {},
   "outputs": [],
   "source": [
    "# prepare metadata file for MTurk processing\n",
    "hit = open(\"hit_data.csv\", \"w\")\n",
    "SEP = \",\"\n",
    "\n",
    "# URL needs to be HTTPS to play well with MTurk's embeds\n",
    "URL_BASE = \"http://steelassault.com/mturk-data/\"\n",
    "\n",
    "# format of each line:\n",
    "#     identifier, codec name, DNN bitrate, corresponding codec bitrate, orig URL, dnn URL, codec URL\n",
    "\n",
    "for path in test_paths:\n",
    "    src_file = path\n",
    "\n",
    "    split = path.split(\"/\")\n",
    "    identifier = split[-3] + \"-\" + split[-2] + \"-\" + split[-1][:-4]\n",
    "    \n",
    "    # form URL of original file\n",
    "    orig_url = URL_BASE + \"orig/\" + identifier + \".wav\"\n",
    "    \n",
    "    # loop through the possible dnn rates, and match them up to codec rates\n",
    "    for i in xrange(0, len(dnn_rates)):\n",
    "        dnn_rate = dnn_rates[i]\n",
    "        dnn_url = URL_BASE + \"dnn-\" + str(dnn_rate) + \"/\" + identifier + \".wav\"\n",
    "        \n",
    "        for j in xrange(0, len(codec_names)):\n",
    "            c_name = codec_names[j]\n",
    "            c_rates = codec_bitrates[j]\n",
    "            \n",
    "            if (i < len(c_rates)):\n",
    "                codec_rate = c_rates[i]\n",
    "                codec_url = URL_BASE + c_name + \"-\" + str(codec_rate) + \"/\" + identifier + \".wav\"\n",
    "                \n",
    "                \n",
    "                line = identifier + SEP + c_name + SEP + str(dnn_rate) + SEP + str(codec_rate) + SEP \\\n",
    "                                        + orig_url + SEP + dnn_url + SEP + codec_url + \"\\n\"\n",
    "                hit.write(line)\n",
    "    \n",
    "hit.close()"
   ]
  },
  {
   "cell_type": "code",
   "execution_count": null,
   "metadata": {
    "collapsed": true
   },
   "outputs": [],
   "source": []
  },
  {
   "cell_type": "code",
   "execution_count": null,
   "metadata": {
    "collapsed": true
   },
   "outputs": [],
   "source": []
  }
 ],
 "metadata": {
  "kernelspec": {
   "display_name": "Python 2",
   "language": "python",
   "name": "python2"
  },
  "language_info": {
   "codemirror_mode": {
    "name": "ipython",
    "version": 2
   },
   "file_extension": ".py",
   "mimetype": "text/x-python",
   "name": "python",
   "nbconvert_exporter": "python",
   "pygments_lexer": "ipython2",
   "version": "2.7.12"
  }
 },
 "nbformat": 4,
 "nbformat_minor": 1
}
