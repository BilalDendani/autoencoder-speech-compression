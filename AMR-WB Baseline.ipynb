{
 "cells": [
  {
   "cell_type": "code",
   "execution_count": 1,
   "metadata": {
    "collapsed": true
   },
   "outputs": [],
   "source": [
    "import numpy as np\n",
    "import random"
   ]
  },
  {
   "cell_type": "code",
   "execution_count": 2,
   "metadata": {},
   "outputs": [
    {
     "name": "stderr",
     "output_type": "stream",
     "text": [
      "Using TensorFlow backend.\n"
     ]
    }
   ],
   "source": [
    "# external custom code I wrote\n",
    "from load_data import *\n",
    "from windowing import *\n",
    "from pesq import *\n",
    "from consts import *"
   ]
  },
  {
   "cell_type": "code",
   "execution_count": 3,
   "metadata": {},
   "outputs": [],
   "source": [
    "[train_paths, val_paths, test_paths], \\\n",
    "[train_waveforms, val_waveforms, test_waveforms], \\\n",
    "[train_procwave, val_procwave, test_procwave], \\\n",
    "[train_wparams, val_wparams, test_wparams], \\\n",
    "[train_windows, val_windows, test_windows] = load_data(TRAIN_SIZE, VAL_SIZE, TEST_SIZE)"
   ]
  },
  {
   "cell_type": "code",
   "execution_count": null,
   "metadata": {
    "collapsed": true
   },
   "outputs": [],
   "source": [
    "amr_rates = [6.60, 8.85, 12.65, 14.25, 15.85, 18.25, 19.85, 23.05, 23.85]\n",
    "\n",
    "def test_amr_on_wav(wave_filename, rate, delete = True):\n",
    "    if (rate not in amr_rates):\n",
    "        print \"INVALID RATE!\"\n",
    "        return None\n",
    "    \n",
    "    amr_fname = wave_filename + '.amr'\n",
    "    out_fname = wave_filename + '_amr.wav'\n",
    "    command_encode = 'ffmpeg -i ' + wave_filename + ' -ar 16000 -ab ' + str(rate) + 'k ' + \\\n",
    "                         '-acodec libvo_amrwbenc ' + amr_fname\n",
    "    command_decode = 'ffmpeg -i ' + amr_fname + ' ' + out_fname\n",
    "    \n",
    "    os.system(command_encode)\n",
    "    os.system(command_decode)\n",
    "    \n",
    "    pesq = run_pesq_filenames(wave_filename, out_fname)\n",
    "    if (delete):\n",
    "        os.system('rm ' + amr_fname)\n",
    "        os.system('rm ' + out_fname)\n",
    "    \n",
    "    return pesq"
   ]
  },
  {
   "cell_type": "code",
   "execution_count": null,
   "metadata": {},
   "outputs": [
    {
     "name": "stdout",
     "output_type": "stream",
     "text": [
      "---- AMR-WB RATE 6.6 ----\n",
      "    AMR baseline (training)\n",
      "        Mean: 3.043351\n",
      "        Max:  3.844\n",
      "        Min:  1.753\n",
      "    \n",
      "    AMR baseline (validation)\n",
      "        Mean: 3.20061\n",
      "        Max:  3.976\n",
      "        Min:  1.943\n",
      "    \n",
      "    AMR baseline (test)\n",
      "        Mean: 3.079216\n",
      "        Max:  3.913\n",
      "        Min:  1.618\n",
      "    \n",
      "---- AMR-WB RATE 8.85 ----\n",
      "    AMR baseline (training)\n"
     ]
    }
   ],
   "source": [
    "captions = [\"training\", \"validation\", \"test\"]\n",
    "datasets = [train_paths, val_paths, test_paths]\n",
    "\n",
    "for rate in amr_rates:\n",
    "    print \"----\", \"AMR-WB RATE\", rate, \"----\"\n",
    "    \n",
    "    for i in xrange(0, 3):\n",
    "        print \"    AMR baseline (\" + captions[i] + \")\"\n",
    "        \n",
    "        base_scores = []\n",
    "        for path in datasets[i]:\n",
    "            pesq = test_amr_on_wav(path, rate)\n",
    "            base_scores.append(pesq)\n",
    "        \n",
    "        print \"        Mean:\", np.mean(base_scores)\n",
    "        print \"        Max: \", np.max(base_scores)\n",
    "        print \"        Min: \", np.min(base_scores)\n",
    "        print \"    \""
   ]
  },
  {
   "cell_type": "code",
   "execution_count": null,
   "metadata": {
    "collapsed": true
   },
   "outputs": [],
   "source": []
  },
  {
   "cell_type": "code",
   "execution_count": null,
   "metadata": {
    "collapsed": true
   },
   "outputs": [],
   "source": []
  },
  {
   "cell_type": "code",
   "execution_count": null,
   "metadata": {
    "collapsed": true
   },
   "outputs": [],
   "source": []
  },
  {
   "cell_type": "code",
   "execution_count": null,
   "metadata": {
    "collapsed": true
   },
   "outputs": [],
   "source": []
  }
 ],
 "metadata": {
  "kernelspec": {
   "display_name": "Python 2",
   "language": "python",
   "name": "python2"
  },
  "language_info": {
   "codemirror_mode": {
    "name": "ipython",
    "version": 2
   },
   "file_extension": ".py",
   "mimetype": "text/x-python",
   "name": "python",
   "nbconvert_exporter": "python",
   "pygments_lexer": "ipython2",
   "version": "2.7.12"
  }
 },
 "nbformat": 4,
 "nbformat_minor": 1
}
