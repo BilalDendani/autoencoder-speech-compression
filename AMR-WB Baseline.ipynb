{
 "cells": [
  {
   "cell_type": "code",
   "execution_count": 1,
   "metadata": {
    "collapsed": true
   },
   "outputs": [],
   "source": [
    "import numpy as np\n",
    "import random"
   ]
  },
  {
   "cell_type": "code",
   "execution_count": 2,
   "metadata": {},
   "outputs": [
    {
     "name": "stderr",
     "output_type": "stream",
     "text": [
      "Using TensorFlow backend.\n"
     ]
    }
   ],
   "source": [
    "# external custom code I wrote\n",
    "from load_data import *\n",
    "from windowing import *\n",
    "from pesq import *\n",
    "from consts import *"
   ]
  },
  {
   "cell_type": "code",
   "execution_count": 3,
   "metadata": {},
   "outputs": [],
   "source": [
    "[train_paths, val_paths, test_paths], \\\n",
    "[train_waveforms, val_waveforms, test_waveforms], \\\n",
    "[train_procwave, val_procwave, test_procwave], \\\n",
    "[train_wparams, val_wparams, test_wparams], \\\n",
    "[train_windows, val_windows, test_windows] = load_data(TRAIN_SIZE, VAL_SIZE, TEST_SIZE)"
   ]
  },
  {
   "cell_type": "code",
   "execution_count": null,
   "metadata": {
    "collapsed": true
   },
   "outputs": [],
   "source": [
    "amr_rates = [6.60, 8.85, 12.65, 14.25, 15.85, 18.25, 19.85, 23.05, 23.85]\n",
    "\n",
    "def test_amr_on_wav(wave_filename, rate, delete = True):\n",
    "    if (rate not in amr_rates):\n",
    "        print \"INVALID RATE!\"\n",
    "        return None\n",
    "    \n",
    "    amr_fname = wave_filename + '.amr'\n",
    "    out_fname = wave_filename + '_amr.wav'\n",
    "    command_encode = 'ffmpeg -i ' + wave_filename + ' -ar 16000 -ab ' + str(rate) + 'k ' + \\\n",
    "                         '-acodec libvo_amrwbenc ' + amr_fname\n",
    "    command_decode = 'ffmpeg -i ' + amr_fname + ' ' + out_fname\n",
    "    \n",
    "    os.system(command_encode)\n",
    "    os.system(command_decode)\n",
    "    \n",
    "    pesq = run_pesq_filenames(wave_filename, out_fname)\n",
    "    if (delete):\n",
    "        os.system('rm ' + amr_fname)\n",
    "        os.system('rm ' + out_fname)\n",
    "    \n",
    "    return pesq"
   ]
  },
  {
   "cell_type": "code",
   "execution_count": null,
   "metadata": {},
   "outputs": [
    {
     "name": "stdout",
     "output_type": "stream",
     "text": [
      "---- AMR-WB RATE 6.6 ----\n",
      "    AMR baseline (training)\n",
      "        Mean: 3.043351\n",
      "        Max:  3.844\n",
      "        Min:  1.753\n",
      "    \n",
      "    AMR baseline (validation)\n",
      "        Mean: 3.20061\n",
      "        Max:  3.976\n",
      "        Min:  1.943\n",
      "    \n",
      "    AMR baseline (test)\n",
      "        Mean: 3.079216\n",
      "        Max:  3.913\n",
      "        Min:  1.618\n",
      "    \n",
      "---- AMR-WB RATE 8.85 ----\n",
      "    AMR baseline (training)\n",
      "        Mean: 3.452098\n",
      "        Max:  4.12\n",
      "        Min:  0.0\n",
      "    \n",
      "    AMR baseline (validation)\n",
      "        Mean: 3.65753\n",
      "        Max:  4.3\n",
      "        Min:  2.773\n",
      "    \n",
      "    AMR baseline (test)\n",
      "        Mean: 3.535822\n",
      "        Max:  4.277\n",
      "        Min:  2.234\n",
      "    \n",
      "---- AMR-WB RATE 12.65 ----\n",
      "    AMR baseline (training)\n",
      "        Mean: 3.883082\n",
      "        Max:  4.38\n",
      "        Min:  0.0\n",
      "    \n",
      "    AMR baseline (validation)\n",
      "        Mean: 4.06967\n",
      "        Max:  4.432\n",
      "        Min:  3.201\n",
      "    \n",
      "    AMR baseline (test)\n",
      "        Mean: 3.955396\n",
      "        Max:  4.38\n",
      "        Min:  2.941\n",
      "    \n",
      "---- AMR-WB RATE 14.25 ----\n",
      "    AMR baseline (training)\n",
      "        Mean: 3.947191\n",
      "        Max:  4.421\n",
      "        Min:  0.0\n",
      "    \n",
      "    AMR baseline (validation)\n",
      "        Mean: 4.1285\n",
      "        Max:  4.434\n",
      "        Min:  3.371\n",
      "    \n",
      "    AMR baseline (test)\n",
      "        Mean: 4.013872\n",
      "        Max:  4.444\n",
      "        Min:  3.03\n",
      "    \n",
      "---- AMR-WB RATE 15.85 ----\n",
      "    AMR baseline (training)\n",
      "        Mean: 3.993408\n",
      "        Max:  4.446\n",
      "        Min:  0.0\n",
      "    \n",
      "    AMR baseline (validation)\n",
      "        Mean: 4.16782\n",
      "        Max:  4.436\n",
      "        Min:  3.722\n",
      "    \n",
      "    AMR baseline (test)\n",
      "        Mean: 4.065296\n",
      "        Max:  4.45\n",
      "        Min:  3.247\n",
      "    \n",
      "---- AMR-WB RATE 18.25 ----\n",
      "    AMR baseline (training)\n",
      "        Mean: 4.061578\n",
      "        Max:  4.478\n",
      "        Min:  0.0\n",
      "    \n",
      "    AMR baseline (validation)\n",
      "        Mean: 4.22109\n",
      "        Max:  4.461\n",
      "        Min:  3.795\n",
      "    \n",
      "    AMR baseline (test)\n",
      "        Mean: 4.128098\n",
      "        Max:  4.451\n",
      "        Min:  3.186\n",
      "    \n",
      "---- AMR-WB RATE 19.85 ----\n",
      "    AMR baseline (training)\n"
     ]
    }
   ],
   "source": [
    "captions = [\"training\", \"validation\", \"test\"]\n",
    "datasets = [train_paths, val_paths, test_paths]\n",
    "\n",
    "for rate in amr_rates:\n",
    "    print \"----\", \"AMR-WB RATE\", rate, \"----\"\n",
    "    \n",
    "    for i in xrange(0, 3):\n",
    "        print \"    AMR baseline (\" + captions[i] + \")\"\n",
    "        \n",
    "        base_scores = []\n",
    "        for path in datasets[i]:\n",
    "            pesq = test_amr_on_wav(path, rate)\n",
    "            base_scores.append(pesq)\n",
    "        \n",
    "        print \"        Mean:\", np.mean(base_scores)\n",
    "        print \"        Max: \", np.max(base_scores)\n",
    "        print \"        Min: \", np.min(base_scores)\n",
    "        print \"    \""
   ]
  },
  {
   "cell_type": "code",
   "execution_count": null,
   "metadata": {
    "collapsed": true
   },
   "outputs": [],
   "source": []
  },
  {
   "cell_type": "code",
   "execution_count": null,
   "metadata": {
    "collapsed": true
   },
   "outputs": [],
   "source": []
  },
  {
   "cell_type": "code",
   "execution_count": null,
   "metadata": {
    "collapsed": true
   },
   "outputs": [],
   "source": []
  },
  {
   "cell_type": "code",
   "execution_count": null,
   "metadata": {
    "collapsed": true
   },
   "outputs": [],
   "source": []
  }
 ],
 "metadata": {
  "kernelspec": {
   "display_name": "Python 2",
   "language": "python",
   "name": "python2"
  },
  "language_info": {
   "codemirror_mode": {
    "name": "ipython",
    "version": 2
   },
   "file_extension": ".py",
   "mimetype": "text/x-python",
   "name": "python",
   "nbconvert_exporter": "python",
   "pygments_lexer": "ipython2",
   "version": "2.7.12"
  }
 },
 "nbformat": 4,
 "nbformat_minor": 1
}
