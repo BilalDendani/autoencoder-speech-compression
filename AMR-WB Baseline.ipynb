{
 "cells": [
  {
   "cell_type": "code",
   "execution_count": 1,
   "metadata": {
    "collapsed": true
   },
   "outputs": [],
   "source": [
    "import numpy as np\n",
    "import random"
   ]
  },
  {
   "cell_type": "code",
   "execution_count": 2,
   "metadata": {},
   "outputs": [
    {
     "name": "stderr",
     "output_type": "stream",
     "text": [
      "Using TensorFlow backend.\n"
     ]
    }
   ],
   "source": [
    "# external custom code I wrote\n",
    "from load_data import *\n",
    "from windowing import *\n",
    "from pesq import *\n",
    "from consts import *"
   ]
  },
  {
   "cell_type": "code",
   "execution_count": 3,
   "metadata": {
    "collapsed": true
   },
   "outputs": [],
   "source": [
    "[train_paths, val_paths, test_paths], \\\n",
    "[train_waveforms, val_waveforms, test_waveforms], \\\n",
    "[train_procwave, val_procwave, test_procwave], \\\n",
    "[train_wparams, val_wparams, test_wparams], \\\n",
    "[train_windows, val_windows, test_windows] = load_data(TRAIN_SIZE, VAL_SIZE, TEST_SIZE)"
   ]
  },
  {
   "cell_type": "code",
   "execution_count": 6,
   "metadata": {
    "collapsed": true
   },
   "outputs": [],
   "source": [
    "amr_rates = [6.60, 8.85, 12.65, 14.25, 15.85, 18.25, 19.85, 23.05, 23.85]\n",
    "#amr_rates = [8.85, 15.85, 19.85, 23.85]\n",
    "\n",
    "def test_amr_on_wav(wave_filename, rate, delete = True):\n",
    "    if (rate not in amr_rates):\n",
    "        print \"INVALID RATE!\"\n",
    "        return None\n",
    "    \n",
    "    amr_fname = wave_filename + '.amr'\n",
    "    out_fname = wave_filename + '_amr.wav'\n",
    "    command_encode = 'ffmpeg -i ' + wave_filename + ' -ar 16000 -ab ' + str(rate) + 'k ' + \\\n",
    "                         '-acodec libvo_amrwbenc ' + amr_fname\n",
    "    command_decode = 'ffmpeg -i ' + amr_fname + ' ' + out_fname\n",
    "    \n",
    "    os.system(command_encode)\n",
    "    os.system(command_decode)\n",
    "    \n",
    "    pesq = run_pesq_filenames(wave_filename, out_fname)\n",
    "    if (delete):\n",
    "        os.system('rm ' + amr_fname)\n",
    "        os.system('rm ' + out_fname)\n",
    "    \n",
    "    return pesq"
   ]
  },
  {
   "cell_type": "code",
   "execution_count": 7,
   "metadata": {
    "scrolled": false
   },
   "outputs": [
    {
     "name": "stdout",
     "output_type": "stream",
     "text": [
      "---- AMR-WB RATE 6.6 ----\n",
      "    AMR baseline (training)\n",
      "        Mean: 3.039967\n",
      "        Max:  3.951\n",
      "        Min:  0.0\n",
      "    \n",
      "    AMR baseline (validation)\n",
      "        Mean: 3.20105\n",
      "        Max:  3.976\n",
      "        Min:  1.943\n",
      "    \n",
      "    AMR baseline (test)\n",
      "        Mean: 3.078306\n",
      "        Max:  3.913\n",
      "        Min:  1.682\n",
      "    \n",
      "---- AMR-WB RATE 8.85 ----\n",
      "    AMR baseline (training)\n",
      "        Mean: 3.444543\n",
      "        Max:  4.24\n",
      "        Min:  0.0\n",
      "    \n",
      "    AMR baseline (validation)\n",
      "        Mean: 3.6579\n",
      "        Max:  4.3\n",
      "        Min:  2.774\n",
      "    \n",
      "    AMR baseline (test)\n",
      "        Mean: 3.52156\n",
      "        Max:  4.153\n",
      "        Min:  2.234\n",
      "    \n",
      "---- AMR-WB RATE 12.65 ----\n",
      "    AMR baseline (training)\n",
      "        Mean: 3.877646\n",
      "        Max:  4.414\n",
      "        Min:  0.0\n",
      "    \n",
      "    AMR baseline (validation)\n",
      "        Mean: 4.0698\n",
      "        Max:  4.432\n",
      "        Min:  3.201\n",
      "    \n",
      "    AMR baseline (test)\n",
      "        Mean: 3.947706\n",
      "        Max:  4.38\n",
      "        Min:  2.455\n",
      "    \n",
      "---- AMR-WB RATE 14.25 ----\n",
      "    AMR baseline (training)\n",
      "        Mean: 3.943042\n",
      "        Max:  4.464\n",
      "        Min:  0.0\n",
      "    \n",
      "    AMR baseline (validation)\n",
      "        Mean: 4.12863\n",
      "        Max:  4.434\n",
      "        Min:  3.372\n",
      "    \n",
      "    AMR baseline (test)\n",
      "        Mean: 4.0095\n",
      "        Max:  4.396\n",
      "        Min:  2.802\n",
      "    \n",
      "---- AMR-WB RATE 15.85 ----\n",
      "    AMR baseline (training)\n",
      "        Mean: 3.991765\n",
      "        Max:  4.47\n",
      "        Min:  0.0\n",
      "    \n",
      "    AMR baseline (validation)\n",
      "        Mean: 4.16798\n",
      "        Max:  4.436\n",
      "        Min:  3.723\n",
      "    \n",
      "    AMR baseline (test)\n",
      "        Mean: 4.063794\n",
      "        Max:  4.45\n",
      "        Min:  3.065\n",
      "    \n",
      "---- AMR-WB RATE 18.25 ----\n",
      "    AMR baseline (training)\n",
      "        Mean: 4.05782\n",
      "        Max:  4.497\n",
      "        Min:  0.0\n",
      "    \n",
      "    AMR baseline (validation)\n",
      "        Mean: 4.22122\n",
      "        Max:  4.461\n",
      "        Min:  3.796\n",
      "    \n",
      "    AMR baseline (test)\n",
      "        Mean: 4.124588\n",
      "        Max:  4.451\n",
      "        Min:  3.186\n",
      "    \n",
      "---- AMR-WB RATE 19.85 ----\n",
      "    AMR baseline (training)\n",
      "        Mean: 4.077848\n",
      "        Max:  4.523\n",
      "        Min:  0.0\n",
      "    \n",
      "    AMR baseline (validation)\n",
      "        Mean: 4.23299\n",
      "        Max:  4.471\n",
      "        Min:  3.842\n",
      "    \n",
      "    AMR baseline (test)\n",
      "        Mean: 4.145188\n",
      "        Max:  4.471\n",
      "        Min:  3.244\n",
      "    \n",
      "---- AMR-WB RATE 23.05 ----\n",
      "    AMR baseline (training)\n",
      "        Mean: 4.125916\n",
      "        Max:  4.547\n",
      "        Min:  0.0\n",
      "    \n",
      "    AMR baseline (validation)\n",
      "        Mean: 4.27389\n",
      "        Max:  4.488\n",
      "        Min:  3.657\n",
      "    \n",
      "    AMR baseline (test)\n",
      "        Mean: 4.187256\n",
      "        Max:  4.487\n",
      "        Min:  3.296\n",
      "    \n",
      "---- AMR-WB RATE 23.85 ----\n",
      "    AMR baseline (training)\n",
      "        Mean: 4.111386\n",
      "        Max:  4.543\n",
      "        Min:  0.0\n",
      "    \n",
      "    AMR baseline (validation)\n",
      "        Mean: 4.29115\n",
      "        Max:  4.515\n",
      "        Min:  3.858\n",
      "    \n",
      "    AMR baseline (test)\n",
      "        Mean: 4.178502\n",
      "        Max:  4.536\n",
      "        Min:  3.04\n",
      "    \n"
     ]
    }
   ],
   "source": [
    "captions = [\"training\", \"validation\", \"test\"]\n",
    "datasets = [train_paths, val_paths, test_paths]\n",
    "\n",
    "for rate in amr_rates:\n",
    "    print \"----\", \"AMR-WB RATE\", rate, \"----\"\n",
    "    \n",
    "    for i in xrange(0, 3):\n",
    "        print \"    AMR baseline (\" + captions[i] + \")\"\n",
    "        \n",
    "        base_scores = []\n",
    "        for path in datasets[i]:\n",
    "            pesq = test_amr_on_wav(path, rate)\n",
    "            base_scores.append(pesq)\n",
    "        \n",
    "        print \"        Mean:\", np.mean(base_scores)\n",
    "        print \"        Max: \", np.max(base_scores)\n",
    "        print \"        Min: \", np.min(base_scores)\n",
    "        print \"    \""
   ]
  },
  {
   "cell_type": "code",
   "execution_count": null,
   "metadata": {
    "collapsed": true
   },
   "outputs": [],
   "source": []
  },
  {
   "cell_type": "code",
   "execution_count": null,
   "metadata": {
    "collapsed": true
   },
   "outputs": [],
   "source": []
  },
  {
   "cell_type": "code",
   "execution_count": null,
   "metadata": {
    "collapsed": true
   },
   "outputs": [],
   "source": []
  }
 ],
 "metadata": {
  "kernelspec": {
   "display_name": "Python 2",
   "language": "python",
   "name": "python2"
  },
  "language_info": {
   "codemirror_mode": {
    "name": "ipython",
    "version": 2
   },
   "file_extension": ".py",
   "mimetype": "text/x-python",
   "name": "python",
   "nbconvert_exporter": "python",
   "pygments_lexer": "ipython2",
   "version": "2.7.12"
  }
 },
 "nbformat": 4,
 "nbformat_minor": 1
}
