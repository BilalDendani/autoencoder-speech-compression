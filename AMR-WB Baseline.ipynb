{
 "cells": [
  {
   "cell_type": "code",
   "execution_count": 2,
   "metadata": {
    "collapsed": true
   },
   "outputs": [],
   "source": [
    "import numpy as np\n",
    "import random"
   ]
  },
  {
   "cell_type": "code",
   "execution_count": 3,
   "metadata": {
    "collapsed": true
   },
   "outputs": [],
   "source": [
    "# external custom code I wrote\n",
    "from load_data import *\n",
    "from windowing import *\n",
    "from pesq import *\n",
    "from consts import *"
   ]
  },
  {
   "cell_type": "code",
   "execution_count": 4,
   "metadata": {
    "collapsed": true
   },
   "outputs": [],
   "source": [
    "[train_paths, val_paths, test_paths], \\\n",
    "[train_waveforms, val_waveforms, test_waveforms], \\\n",
    "[train_procwave, val_procwave, test_procwave], \\\n",
    "[train_wparams, val_wparams, test_wparams], \\\n",
    "[train_windows, val_windows, test_windows] = load_data(TRAIN_SIZE, VAL_SIZE, TEST_SIZE)"
   ]
  },
  {
   "cell_type": "code",
   "execution_count": 5,
   "metadata": {
    "collapsed": true
   },
   "outputs": [],
   "source": [
    "# general codec test function, thru ffmpeg\n",
    "def test_codec_on_wav(wave_filename, codec, fmt_ext, rate,\n",
    "                      delete = True, extra_enc_options = \"\"):    \n",
    "    cdc_fname = wave_filename + fmt_ext\n",
    "    out_fname = wave_filename + fmt_ext + '.wav'\n",
    "    command_encode = 'ffmpeg -hide_banner -loglevel panic -i ' + wave_filename + ' -ar 16000 -ab ' + str(rate) + 'k ' + \\\n",
    "                         '-acodec ' + codec + ' ' + extra_enc_options + ' ' + cdc_fname\n",
    "    command_decode = 'ffmpeg -hide_banner -loglevel panic -i ' + cdc_fname + ' -ar 16000 ' + out_fname\n",
    "    \n",
    "    os.system(command_encode)\n",
    "    os.system(command_decode)\n",
    "    \n",
    "    pesq = run_pesq_filenames(wave_filename, out_fname)\n",
    "    if (delete):\n",
    "        os.system('rm ' + cdc_fname)\n",
    "        os.system('rm ' + out_fname)\n",
    "    \n",
    "    return pesq"
   ]
  },
  {
   "cell_type": "code",
   "execution_count": 6,
   "metadata": {
    "collapsed": true
   },
   "outputs": [],
   "source": [
    "captions = [\"training\", \"validation\", \"test\"]\n",
    "datasets = [train_paths, val_paths, test_paths]"
   ]
  },
  {
   "cell_type": "markdown",
   "metadata": {},
   "source": [
    "# AMR-WB"
   ]
  },
  {
   "cell_type": "code",
   "execution_count": null,
   "metadata": {
    "collapsed": true,
    "scrolled": false
   },
   "outputs": [],
   "source": [
    "amr_rates = [8.85, 15.85, 19.85, 23.85]\n",
    "\n",
    "for rate in amr_rates:\n",
    "    print \"----\", \"AMR-WB RATE\", rate, \"----\"\n",
    "    \n",
    "    for i in xrange(0, 3):\n",
    "        print \"    AMR baseline (\" + captions[i] + \")\"\n",
    "        \n",
    "        base_scores = []\n",
    "        for path in datasets[i]:\n",
    "            pesq = test_codec_on_wav(path, \"libvo_amrwbenc\", \".amr\", rate)\n",
    "            base_scores.append(pesq)\n",
    "        \n",
    "        print \"        Mean:\", np.mean(base_scores)\n",
    "        print \"        Max: \", np.max(base_scores)\n",
    "        print \"        Min: \", np.min(base_scores)\n",
    "        print \"    \""
   ]
  },
  {
   "cell_type": "code",
   "execution_count": 7,
   "metadata": {},
   "outputs": [
    {
     "name": "stdout",
     "output_type": "stream",
     "text": [
      "---- SPEEX RATE 9.0 ----\n",
      "    Speex baseline (training)\n",
      "        Mean: 3.23369433333\n",
      "        Max:  4.026\n",
      "        Min:  1.576\n",
      "    \n",
      "    Speex baseline (validation)\n",
      "        Mean: 3.328975\n",
      "        Max:  3.839\n",
      "        Min:  1.971\n",
      "    \n",
      "    Speex baseline (test)\n",
      "        Mean: 3.250172\n",
      "        Max:  4.029\n",
      "        Min:  1.617\n",
      "    \n",
      "---- SPEEX RATE 16.0 ----\n",
      "    Speex baseline (training)\n",
      "        Mean: 3.716756\n",
      "        Max:  4.279\n",
      "        Min:  1.67\n",
      "    \n",
      "    Speex baseline (validation)\n",
      "        Mean: 3.80108\n",
      "        Max:  4.183\n",
      "        Min:  2.628\n",
      "    \n",
      "    Speex baseline (test)\n",
      "        Mean: 3.71717\n",
      "        Max:  4.256\n",
      "        Min:  1.812\n",
      "    \n",
      "---- SPEEX RATE 20.0 ----\n",
      "    Speex baseline (training)\n",
      "        Mean: 3.88530566667\n",
      "        Max:  4.329\n",
      "        Min:  2.191\n",
      "    \n",
      "    Speex baseline (validation)\n",
      "        Mean: 3.963895\n",
      "        Max:  4.362\n",
      "        Min:  2.737\n",
      "    \n",
      "    Speex baseline (test)\n",
      "        Mean: 3.880572\n",
      "        Max:  4.313\n",
      "        Min:  1.982\n",
      "    \n",
      "---- SPEEX RATE 24.0 ----\n",
      "    Speex baseline (training)\n",
      "        Mean: 4.09048766667\n",
      "        Max:  4.469\n",
      "        Min:  2.546\n",
      "    \n",
      "    Speex baseline (validation)\n",
      "        Mean: 4.151015\n",
      "        Max:  4.417\n",
      "        Min:  3.82\n",
      "    \n",
      "    Speex baseline (test)\n",
      "        Mean: 4.097722\n",
      "        Max:  4.414\n",
      "        Min:  1.938\n",
      "    \n",
      "---- SPEEX RATE 32.0 ----\n",
      "    Speex baseline (training)\n",
      "        Mean: 4.19003166667\n",
      "        Max:  4.489\n",
      "        Min:  2.824\n",
      "    \n",
      "    Speex baseline (validation)\n",
      "        Mean: 4.236465\n",
      "        Max:  4.452\n",
      "        Min:  3.859\n",
      "    \n",
      "    Speex baseline (test)\n",
      "        Mean: 4.197282\n",
      "        Max:  4.47\n",
      "        Min:  2.63\n",
      "    \n"
     ]
    }
   ],
   "source": [
    "speex_rates = [9.00, 16.00, 20.00, 24.00, 32.00]\n",
    "\n",
    "for rate in speex_rates:\n",
    "    print \"----\", \"SPEEX RATE\", rate, \"----\"\n",
    "    \n",
    "    for i in xrange(0, 3):\n",
    "        print \"    Speex baseline (\" + captions[i] + \")\"\n",
    "        \n",
    "        base_scores = []\n",
    "        for path in datasets[i]:\n",
    "            pesq = test_codec_on_wav(path, \"libspeex\", \".spx\", rate,\n",
    "                                     extra_enc_options = \"-abr 1\")\n",
    "            base_scores.append(pesq)\n",
    "        \n",
    "        print \"        Mean:\", np.mean(base_scores)\n",
    "        print \"        Max: \", np.max(base_scores)\n",
    "        print \"        Min: \", np.min(base_scores)\n",
    "        print \"    \""
   ]
  },
  {
   "cell_type": "code",
   "execution_count": 7,
   "metadata": {},
   "outputs": [
    {
     "name": "stdout",
     "output_type": "stream",
     "text": [
      "---- OPUS RATE 9.0 ----\n",
      "    Opus baseline (training)\n",
      "        Mean: 3.24620166667\n",
      "        Max:  4.265\n",
      "        Min:  1.216\n",
      "    \n",
      "    Opus baseline (validation)\n",
      "        Mean: 3.37602\n",
      "        Max:  4.269\n",
      "        Min:  2.085\n",
      "    \n",
      "    Opus baseline (test)\n",
      "        Mean: 3.27212\n",
      "        Max:  4.134\n",
      "        Min:  1.479\n",
      "    \n",
      "---- OPUS RATE 16.0 ----\n",
      "    Opus baseline (training)\n",
      "        Mean: 4.19233733333\n",
      "        Max:  4.526\n",
      "        Min:  3.22\n",
      "    \n",
      "    Opus baseline (validation)\n",
      "        Mean: 4.31564\n",
      "        Max:  4.484\n",
      "        Min:  4.008\n",
      "    \n",
      "    Opus baseline (test)\n",
      "        Mean: 4.221094\n",
      "        Max:  4.509\n",
      "        Min:  3.161\n",
      "    \n",
      "---- OPUS RATE 20.0 ----\n",
      "    Opus baseline (training)\n",
      "        Mean: 4.33553333333\n",
      "        Max:  4.588\n",
      "        Min:  3.516\n",
      "    \n",
      "    Opus baseline (validation)\n",
      "        Mean: 4.419865\n",
      "        Max:  4.532\n",
      "        Min:  4.011\n",
      "    \n",
      "    Opus baseline (test)\n",
      "        Mean: 4.357102\n",
      "        Max:  4.551\n",
      "        Min:  3.549\n",
      "    \n",
      "---- OPUS RATE 24.0 ----\n",
      "    Opus baseline (training)\n",
      "        Mean: 4.41681333333\n",
      "        Max:  4.586\n",
      "        Min:  3.711\n",
      "    \n",
      "    Opus baseline (validation)\n",
      "        Mean: 4.476675\n",
      "        Max:  4.567\n",
      "        Min:  4.102\n",
      "    \n",
      "    Opus baseline (test)\n",
      "        Mean: 4.432928\n",
      "        Max:  4.578\n",
      "        Min:  3.83\n",
      "    \n",
      "---- OPUS RATE 32.0 ----\n",
      "    Opus baseline (training)\n",
      "        Mean: 4.50135566667\n",
      "        Max:  4.609\n",
      "        Min:  4.041\n",
      "    \n",
      "    Opus baseline (validation)\n",
      "        Mean: 4.5285\n",
      "        Max:  4.594\n",
      "        Min:  4.075\n",
      "    \n",
      "    Opus baseline (test)\n",
      "        Mean: 4.510196\n",
      "        Max:  4.604\n",
      "        Min:  4.117\n",
      "    \n"
     ]
    }
   ],
   "source": [
    "opus_rates = [9.00, 16.00, 20.00, 24.00, 32.00]\n",
    "\n",
    "for rate in opus_rates:\n",
    "    print \"----\", \"OPUS RATE\", rate, \"----\"\n",
    "    \n",
    "    for i in xrange(0, 3):\n",
    "        print \"    Opus baseline (\" + captions[i] + \")\"\n",
    "        \n",
    "        base_scores = []\n",
    "        for path in datasets[i]:\n",
    "            pesq = test_codec_on_wav(path, \"libopus\", \".opus\", rate,\n",
    "                                     extra_enc_options = \"-vbr off -application voip\")\n",
    "            base_scores.append(pesq)\n",
    "        \n",
    "        print \"        Mean:\", np.mean(base_scores)\n",
    "        print \"        Max: \", np.max(base_scores)\n",
    "        print \"        Min: \", np.min(base_scores)\n",
    "        print \"    \""
   ]
  },
  {
   "cell_type": "code",
   "execution_count": null,
   "metadata": {
    "collapsed": true
   },
   "outputs": [],
   "source": []
  },
  {
   "cell_type": "code",
   "execution_count": null,
   "metadata": {
    "collapsed": true
   },
   "outputs": [],
   "source": []
  },
  {
   "cell_type": "code",
   "execution_count": null,
   "metadata": {
    "collapsed": true
   },
   "outputs": [],
   "source": []
  },
  {
   "cell_type": "code",
   "execution_count": null,
   "metadata": {
    "collapsed": true
   },
   "outputs": [],
   "source": []
  },
  {
   "cell_type": "code",
   "execution_count": null,
   "metadata": {
    "collapsed": true
   },
   "outputs": [],
   "source": []
  },
  {
   "cell_type": "code",
   "execution_count": null,
   "metadata": {
    "collapsed": true
   },
   "outputs": [],
   "source": []
  },
  {
   "cell_type": "code",
   "execution_count": null,
   "metadata": {
    "collapsed": true
   },
   "outputs": [],
   "source": []
  }
 ],
 "metadata": {
  "kernelspec": {
   "display_name": "Python 2",
   "language": "python",
   "name": "python2"
  },
  "language_info": {
   "codemirror_mode": {
    "name": "ipython",
    "version": 2
   },
   "file_extension": ".py",
   "mimetype": "text/x-python",
   "name": "python",
   "nbconvert_exporter": "python",
   "pygments_lexer": "ipython2",
   "version": "2.7.12"
  }
 },
 "nbformat": 4,
 "nbformat_minor": 1
}
