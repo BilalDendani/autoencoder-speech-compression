{
 "cells": [
  {
   "cell_type": "code",
   "execution_count": 1,
   "metadata": {},
   "outputs": [
    {
     "name": "stderr",
     "output_type": "stream",
     "text": [
      "Using TensorFlow backend.\n"
     ]
    }
   ],
   "source": [
    "import numpy as np\n",
    "\n",
    "import random\n",
    "import h5py\n",
    "from keras.models import *\n",
    "from keras.layers import *\n",
    "from keras.layers.core import *\n",
    "from keras.layers.normalization import *\n",
    "from keras.optimizers import *\n",
    "from keras.callbacks import *\n",
    "from keras import backend as K\n",
    "from keras.regularizers import *\n",
    "from keras.initializers import *\n",
    "from keras.models import load_model\n",
    "from keras.losses import *\n",
    "from sklearn import metrics\n",
    "from sklearn.preprocessing import *\n",
    "from scipy.fftpack import dct, idct\n",
    "from keras.activations import softmax\n",
    "from sklearn.cluster import KMeans, MiniBatchKMeans\n",
    "import scipy.io.wavfile as sciwav\n",
    "\n",
    "import os\n",
    "import random\n",
    "import time\n",
    "import matplotlib\n",
    "import matplotlib.pyplot as plt\n",
    "import glob\n",
    "\n",
    "import operator\n",
    "import math\n",
    "import re\n",
    "\n",
    "# for reproducibility\n",
    "np.random.seed(1337) \n",
    "random.seed(1337)\n",
    "\n",
    "# increase recursion limit for adaptive VQ\n",
    "import sys\n",
    "sys.setrecursionlimit(40000)"
   ]
  },
  {
   "cell_type": "code",
   "execution_count": 2,
   "metadata": {
    "collapsed": true
   },
   "outputs": [],
   "source": [
    "# control amount of GPU memory used\n",
    "import tensorflow as tf\n",
    "from keras.backend.tensorflow_backend import set_session\n",
    "config = tf.ConfigProto()\n",
    "config.gpu_options.allow_growth=True\n",
    "set_session(tf.Session(config=config))"
   ]
  },
  {
   "cell_type": "code",
   "execution_count": 3,
   "metadata": {
    "collapsed": true
   },
   "outputs": [],
   "source": [
    "# external custom code I wrote\n",
    "from load_data import *\n",
    "from windowing import *\n",
    "from nn_util import *\n",
    "from pesq import *\n",
    "from consts import *\n",
    "from nn_blocks import *\n",
    "from nn_experimental import *\n",
    "from perceptual_loss import *\n",
    "from evaluation import *"
   ]
  },
  {
   "cell_type": "code",
   "execution_count": 4,
   "metadata": {
    "collapsed": true
   },
   "outputs": [],
   "source": [
    "# number of speech files for train, val, and test\n",
    "TRAIN_SIZE = 1000\n",
    "VAL_SIZE = 100\n",
    "TEST_SIZE = 500\n",
    "\n",
    "[train_paths, val_paths, test_paths], \\\n",
    "[train_waveforms, val_waveforms, test_waveforms], \\\n",
    "[train_procwave, val_procwave, test_procwave], \\\n",
    "[train_wparams, val_wparams, test_wparams], \\\n",
    "[train_windows, val_windows, test_windows] = load_data(TRAIN_SIZE, VAL_SIZE, TEST_SIZE)"
   ]
  },
  {
   "cell_type": "code",
   "execution_count": 5,
   "metadata": {},
   "outputs": [
    {
     "name": "stderr",
     "output_type": "stream",
     "text": [
      "/usr/local/lib/python2.7/dist-packages/keras/models.py:258: UserWarning: No training configuration found in save file: the model was *not* compiled. Compile it manually.\n",
      "  warnings.warn('No training configuration found in save file: '\n"
     ]
    }
   ],
   "source": [
    "KERAS_LOAD_MAP = {'PhaseShiftUp1D' : PhaseShiftUp1D,\n",
    "                  'SoftmaxQuantization' : SoftmaxQuantization,\n",
    "                  'SoftmaxDequantization' : SoftmaxDequantization,\n",
    "                  'ChannelResize1D' : ChannelResize1D,\n",
    "                  'LinearUpSampling1D' : LinearUpSampling1D,\n",
    "                  'BlockTransformQuantization' : BlockTransformQuantization,\n",
    "                  'BlockTransformDequantization' : BlockTransformDequantization}\n",
    "\n",
    "autoencoder = load_model('best_auto.h5', KERAS_LOAD_MAP)\n",
    "K.set_value(QUANTIZATION_ON, True)"
   ]
  },
  {
   "cell_type": "code",
   "execution_count": 6,
   "metadata": {},
   "outputs": [
    {
     "name": "stdout",
     "output_type": "stream",
     "text": [
      "MSE:         4271.82\n",
      "Avg err:     41.1999\n",
      "PESQ:        3.65835881233\n",
      "MSE:         4353.78\n",
      "Avg err:     41.6096\n",
      "PESQ:        3.62624454498\n",
      "MSE:         3811.44\n",
      "Avg err:     31.6304\n",
      "PESQ:        3.66667699814\n",
      "MSE:         3848.33\n",
      "Avg err:     31.9467\n",
      "PESQ:        3.62347102165\n",
      "MSE:         1.37806e+06\n",
      "Avg err:     867.844\n",
      "PESQ:        3.58791279793\n",
      "MSE:         1.38588e+06\n",
      "Avg err:     870.704\n",
      "PESQ:        3.57933425903\n"
     ]
    },
    {
     "data": {
      "text/plain": [
       "[1385878.1, 870.70416, 3.579334259033203]"
      ]
     },
     "execution_count": 6,
     "metadata": {},
     "output_type": "execute_result"
    }
   ],
   "source": [
    "test_model_on_wav(\"./SA1.wav\", \"SA1_final\", autoencoder)\n",
    "test_model_on_wav(\"./SA1.wav\", \"SA1_final\", autoencoder, argmax = True)\n",
    "\n",
    "test_model_on_wav(\"./SX383.wav\", \"SX383_final\", autoencoder)\n",
    "test_model_on_wav(\"./SX383.wav\", \"SX383_final\", autoencoder, argmax = True)\n",
    "\n",
    "test_model_on_wav(\"./fiveYears.wav\", \"fy_final\", autoencoder)\n",
    "test_model_on_wav(\"./fiveYears.wav\", \"fy_final\", autoencoder, argmax = True) "
   ]
  },
  {
   "cell_type": "code",
   "execution_count": 7,
   "metadata": {},
   "outputs": [
    {
     "name": "stdout",
     "output_type": "stream",
     "text": [
      "Model evaluation (training)\n",
      "Mean: 3.89115548444\n",
      "Max:  4.40554761887\n",
      "Min:  2.06632852554\n",
      "\n",
      "Model evaluation (validation)\n",
      "Mean: 4.0310305953\n",
      "Max:  4.35776567459\n",
      "Min:  3.2840154171\n",
      "\n",
      "Model evaluation (test)\n",
      "Mean: 3.88377727842\n",
      "Max:  4.33562660217\n",
      "Min:  2.63093304634\n",
      "\n"
     ]
    }
   ],
   "source": [
    "captions = [\"training\", \"validation\", \"test\"]\n",
    "datasets = [train_paths, val_paths, test_paths]\n",
    "\n",
    "for i in xrange(0, 3):\n",
    "    print \"Model evaluation (\" + captions[i] + \")\"\n",
    "\n",
    "    base_scores = []\n",
    "    for path in datasets[i]:\n",
    "        pesq = test_model_on_wav(path, \"\", autoencoder,\n",
    "                                 save_recons = False,\n",
    "                                 verbose = False,\n",
    "                                 argmax = True)[2]\n",
    "        base_scores.append(pesq)\n",
    "\n",
    "    print \"Mean:\", np.mean(base_scores)\n",
    "    print \"Max: \", np.max(base_scores)\n",
    "    print \"Min: \", np.min(base_scores)\n",
    "    print \"\""
   ]
  },
  {
   "cell_type": "code",
   "execution_count": null,
   "metadata": {
    "collapsed": true
   },
   "outputs": [],
   "source": []
  },
  {
   "cell_type": "code",
   "execution_count": null,
   "metadata": {
    "collapsed": true
   },
   "outputs": [],
   "source": []
  },
  {
   "cell_type": "code",
   "execution_count": null,
   "metadata": {
    "collapsed": true
   },
   "outputs": [],
   "source": []
  },
  {
   "cell_type": "code",
   "execution_count": null,
   "metadata": {
    "collapsed": true
   },
   "outputs": [],
   "source": []
  }
 ],
 "metadata": {
  "kernelspec": {
   "display_name": "Python 2",
   "language": "python",
   "name": "python2"
  },
  "language_info": {
   "codemirror_mode": {
    "name": "ipython",
    "version": 2
   },
   "file_extension": ".py",
   "mimetype": "text/x-python",
   "name": "python",
   "nbconvert_exporter": "python",
   "pygments_lexer": "ipython2",
   "version": "2.7.12"
  }
 },
 "nbformat": 4,
 "nbformat_minor": 1
}
