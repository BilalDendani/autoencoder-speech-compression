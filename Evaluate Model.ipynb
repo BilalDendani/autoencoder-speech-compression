{
 "cells": [
  {
   "cell_type": "code",
   "execution_count": 1,
   "metadata": {},
   "outputs": [
    {
     "name": "stderr",
     "output_type": "stream",
     "text": [
      "Using TensorFlow backend.\n"
     ]
    }
   ],
   "source": [
    "import numpy as np\n",
    "\n",
    "import random\n",
    "import h5py\n",
    "from keras.models import load_model\n",
    "\n",
    "import os\n",
    "import random\n",
    "import time\n",
    "\n",
    "# for reproducibility\n",
    "np.random.seed(1337) \n",
    "random.seed(1337)"
   ]
  },
  {
   "cell_type": "code",
   "execution_count": 2,
   "metadata": {},
   "outputs": [],
   "source": [
    "# control amount of GPU memory used\n",
    "import tensorflow as tf\n",
    "from keras.backend.tensorflow_backend import set_session\n",
    "config = tf.ConfigProto()\n",
    "config.gpu_options.allow_growth=True\n",
    "set_session(tf.Session(config=config))"
   ]
  },
  {
   "cell_type": "code",
   "execution_count": 3,
   "metadata": {
    "collapsed": true
   },
   "outputs": [],
   "source": [
    "# external custom code I wrote\n",
    "from load_data import *\n",
    "from windowing import *\n",
    "from nn_util import *\n",
    "from pesq import *\n",
    "from consts import *\n",
    "from nn_blocks import *\n",
    "from perceptual_loss import *\n",
    "from evaluation import *"
   ]
  },
  {
   "cell_type": "code",
   "execution_count": 4,
   "metadata": {
    "collapsed": true
   },
   "outputs": [],
   "source": [
    "[train_paths, val_paths, test_paths], \\\n",
    "[train_waveforms, val_waveforms, test_waveforms], \\\n",
    "[train_procwave, val_procwave, test_procwave], \\\n",
    "[train_wparams, val_wparams, test_wparams], \\\n",
    "[train_windows, val_windows, test_windows] = load_data(TRAIN_SIZE, VAL_SIZE, TEST_SIZE)"
   ]
  },
  {
   "cell_type": "code",
   "execution_count": 5,
   "metadata": {},
   "outputs": [
    {
     "name": "stderr",
     "output_type": "stream",
     "text": [
      "/usr/local/lib/python2.7/dist-packages/keras/models.py:258: UserWarning: No training configuration found in save file: the model was *not* compiled. Compile it manually.\n",
      "  warnings.warn('No training configuration found in save file: '\n"
     ]
    }
   ],
   "source": [
    "KERAS_LOAD_MAP = {'PhaseShiftUp1D' : PhaseShiftUp1D,\n",
    "                  'SoftmaxQuantization' : SoftmaxQuantization,\n",
    "                  'SoftmaxDequantization' : SoftmaxDequantization}\n",
    "\n",
    "autoencoder = load_model('best_auto.h5', KERAS_LOAD_MAP)\n",
    "K.set_value(QUANTIZATION_ON, True)"
   ]
  },
  {
   "cell_type": "code",
   "execution_count": 6,
   "metadata": {
    "collapsed": true
   },
   "outputs": [],
   "source": [
    "encoder = autoencoder.layers[1]\n",
    "decoder = autoencoder.layers[2]"
   ]
  },
  {
   "cell_type": "markdown",
   "metadata": {},
   "source": [
    "# Test speech coder speed"
   ]
  },
  {
   "cell_type": "code",
   "execution_count": 7,
   "metadata": {},
   "outputs": [
    {
     "name": "stdout",
     "output_type": "stream",
     "text": [
      "Encoder: Averaged 4.1894197464 ms per window\n",
      "Decoder: Averaged 2.86569436391 ms per window\n"
     ]
    }
   ],
   "source": [
    "windows = np.random.uniform(-1.0, 1.0, (150, WINDOW_SIZE))\n",
    "\n",
    "# test encoder\n",
    "start = time.time()\n",
    "encoded = encoder.predict(windows, batch_size = 1, verbose = 0)\n",
    "end = time.time()\n",
    "\n",
    "averageMs = (end - start) / encoded.shape[0] * 1000.0\n",
    "print \"Encoder: Averaged\", averageMs, \"ms per window\"\n",
    "\n",
    "# test encoder\n",
    "start = time.time()\n",
    "decoded = decoder.predict(encoded, batch_size = 1, verbose = 0)\n",
    "end = time.time()\n",
    "\n",
    "averageMs = (end - start) / decoded.shape[0] * 1000.0\n",
    "print \"Decoder: Averaged\", averageMs, \"ms per window\""
   ]
  },
  {
   "cell_type": "markdown",
   "metadata": {},
   "source": [
    "# Test speech coder quality"
   ]
  },
  {
   "cell_type": "code",
   "execution_count": 8,
   "metadata": {},
   "outputs": [
    {
     "name": "stdout",
     "output_type": "stream",
     "text": [
      "MSE:         2905.23\n",
      "Avg err:     33.7247\n",
      "PESQ:        3.89142799377\n",
      "MSE:         2957.77\n",
      "Avg err:     34.0851\n",
      "PESQ:        3.85853695869\n",
      "MSE:         2510.51\n",
      "Avg err:     25.8492\n",
      "PESQ:        3.95614433289\n",
      "MSE:         2525.63\n",
      "Avg err:     26.0233\n",
      "PESQ:        3.93742275238\n",
      "MSE:         1.09881e+06\n",
      "Avg err:     767.414\n",
      "PESQ:        3.83553242683\n",
      "MSE:         1.10356e+06\n",
      "Avg err:     769.528\n",
      "PESQ:        3.82843208313\n"
     ]
    },
    {
     "data": {
      "text/plain": [
       "[1103563.1, 769.5282, 3.828432083129883]"
      ]
     },
     "execution_count": 8,
     "metadata": {},
     "output_type": "execute_result"
    }
   ],
   "source": [
    "test_model_on_wav(\"./SA1.wav\", \"SA1_final\", autoencoder)\n",
    "test_model_on_wav(\"./SA1.wav\", \"SA1_final\", autoencoder, argmax = True)\n",
    "\n",
    "test_model_on_wav(\"./SX383.wav\", \"SX383_final\", autoencoder)\n",
    "test_model_on_wav(\"./SX383.wav\", \"SX383_final\", autoencoder, argmax = True)\n",
    "\n",
    "test_model_on_wav(\"./fiveYears.wav\", \"fy_final\", autoencoder)\n",
    "test_model_on_wav(\"./fiveYears.wav\", \"fy_final\", autoencoder, argmax = True) "
   ]
  },
  {
   "cell_type": "code",
   "execution_count": 9,
   "metadata": {},
   "outputs": [
    {
     "name": "stdout",
     "output_type": "stream",
     "text": [
      "Model evaluation (training)\n",
      "Mean: 4.16111077881\n",
      "Max:  4.51238441467\n",
      "Min:  2.31207442284\n",
      "\n",
      "Model evaluation (validation)\n",
      "Mean: 4.27203153372\n",
      "Max:  4.48932218552\n",
      "Min:  3.47763538361\n",
      "\n",
      "Model evaluation (test)\n",
      "Mean: 4.15086880255\n",
      "Max:  4.49495267868\n",
      "Min:  2.33864164352\n",
      "\n"
     ]
    }
   ],
   "source": [
    "captions = [\"training\", \"validation\", \"test\"]\n",
    "datasets = [train_paths, val_paths, test_paths]\n",
    "\n",
    "for i in xrange(0, 3):\n",
    "    print \"Model evaluation (\" + captions[i] + \")\"\n",
    "\n",
    "    base_scores = []\n",
    "    for path in datasets[i]:\n",
    "        pesq = test_model_on_wav(path, \"\", autoencoder,\n",
    "                                 save_recons = False,\n",
    "                                 verbose = False,\n",
    "                                 argmax = True)[2]\n",
    "        base_scores.append(pesq)\n",
    "\n",
    "    print \"Mean:\", np.mean(base_scores)\n",
    "    print \"Max: \", np.max(base_scores)\n",
    "    print \"Min: \", np.min(base_scores)\n",
    "    print \"\""
   ]
  },
  {
   "cell_type": "code",
   "execution_count": null,
   "metadata": {
    "collapsed": true
   },
   "outputs": [],
   "source": []
  },
  {
   "cell_type": "code",
   "execution_count": null,
   "metadata": {
    "collapsed": true
   },
   "outputs": [],
   "source": []
  },
  {
   "cell_type": "code",
   "execution_count": null,
   "metadata": {
    "collapsed": true
   },
   "outputs": [],
   "source": []
  },
  {
   "cell_type": "code",
   "execution_count": null,
   "metadata": {
    "collapsed": true
   },
   "outputs": [],
   "source": []
  }
 ],
 "metadata": {
  "kernelspec": {
   "display_name": "Python 2",
   "language": "python",
   "name": "python2"
  },
  "language_info": {
   "codemirror_mode": {
    "name": "ipython",
    "version": 2
   },
   "file_extension": ".py",
   "mimetype": "text/x-python",
   "name": "python",
   "nbconvert_exporter": "python",
   "pygments_lexer": "ipython2",
   "version": "2.7.12"
  }
 },
 "nbformat": 4,
 "nbformat_minor": 1
}
