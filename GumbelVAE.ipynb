{
 "cells": [
  {
   "cell_type": "code",
   "execution_count": 1,
   "metadata": {
    "collapsed": false
   },
   "outputs": [
    {
     "name": "stdout",
     "output_type": "stream",
     "text": [
      "Populating the interactive namespace from numpy and matplotlib\n"
     ]
    }
   ],
   "source": [
    "%pylab inline"
   ]
  },
  {
   "cell_type": "code",
   "execution_count": 2,
   "metadata": {
    "collapsed": false
   },
   "outputs": [
    {
     "name": "stderr",
     "output_type": "stream",
     "text": [
      "Using Theano backend.\n",
      "Using gpu device 0: GeForce GTX 690 (CNMeM is disabled, cuDNN 5105)\n"
     ]
    }
   ],
   "source": [
    "import numpy as np\n",
    "import matplotlib.pyplot as plt\n",
    "\n",
    "from keras.models import Model, Sequential\n",
    "from keras import backend as K\n",
    "from keras import objectives\n",
    "from keras.datasets import mnist\n",
    "from keras.activations import softmax, sigmoid\n",
    "from keras.objectives import binary_crossentropy as bce\n",
    "from keras.layers import *\n",
    "from keras.layers.core import *\n",
    "\n",
    "import theano\n",
    "import theano.tensor as T\n",
    "\n",
    "np.set_printoptions(formatter={'float_kind':'{:4f}'.format})"
   ]
  },
  {
   "cell_type": "code",
   "execution_count": 3,
   "metadata": {
    "collapsed": false
   },
   "outputs": [
    {
     "name": "stdout",
     "output_type": "stream",
     "text": [
      "CudaNdarray([[0.900000 0.250000]\n",
      " [0.330000 0.860000]])\n",
      "[[0.000334 0.457108]\n",
      " [0.215285 0.121852]]\n"
     ]
    },
    {
     "data": {
      "text/plain": [
       "'\\nw = np.zeros(s.shape.eval())\\nfor i in xrange(0, 100):\\n    expected = T.dot(probs, discrete_values)\\n    w += expected.eval()\\nprint w\\n'"
      ]
     },
     "execution_count": 3,
     "metadata": {},
     "output_type": "execute_result"
    }
   ],
   "source": [
    "s = K.variable(np.array([[0.9, 0.25], [0.33, 0.86]]))\n",
    "print s.eval()\n",
    "\n",
    "# turn sigmoid \"probabilities\" into class probabilities, then take the log\n",
    "log_vec = K.log(s)\n",
    "\n",
    "\n",
    "u = K.random_uniform(K.shape(log_vec), 0, 1)\n",
    "gumbel_noise = -K.log(-K.log(u + 1e-20) + 1e-20)\n",
    "\n",
    "temp = 0.2\n",
    "probs = K.sigmoid((gumbel_noise + log_vec) / temp)\n",
    "\n",
    "print probs.eval()\n",
    "\n",
    "\n",
    "'''\n",
    "w = np.zeros(s.shape.eval())\n",
    "for i in xrange(0, 100):\n",
    "    expected = T.dot(probs, discrete_values)\n",
    "    w += expected.eval()\n",
    "print w\n",
    "'''\n"
   ]
  },
  {
   "cell_type": "code",
   "execution_count": 103,
   "metadata": {
    "collapsed": false
   },
   "outputs": [
    {
     "name": "stdout",
     "output_type": "stream",
     "text": [
      "[0.499250 0.500750]\n",
      "[0.498500 0.501500]\n",
      "[0.497000 0.503000]\n",
      "[0.492501 0.507499]\n",
      "[0.485004 0.514996]\n",
      "[0.425557 0.574443]\n",
      "[0.231475 0.768525]\n",
      "[0.047426 0.952574]\n",
      "[0.000000 1.000000]\n"
     ]
    },
    {
     "data": {
      "text/plain": [
       "'\\nfor curr_temp in temps:\\n    samples = []\\n    \\n    for i in xrange(0, 1000):\\n        u = np.random.uniform(0.0, 1.0, log_vec.shape)\\n        gumbel_noise = -np.log(-np.log(u + 1e-10) + 1e-10)\\n        final_probs = np_softmax((log_vec + gumbel_noise) / curr_temp)\\n        expected = np.dot(final_probs, discrete_values)\\n        \\n        samples.append(expected)\\n    \\n    binspace = np.linspace(0, 1, 21)\\n    \\n    plt.hist(samples, bins = binspace)\\n    plt.xlim([0, 1.01])\\n    plt.show()\\n'"
      ]
     },
     "execution_count": 103,
     "metadata": {},
     "output_type": "execute_result"
    }
   ],
   "source": [
    "def np_softmax(x):\n",
    "    e_x = np.exp(x - np.max(x))\n",
    "    return e_x / e_x.sum(axis=0)\n",
    "\n",
    "discrete_values = np.array([0.0, 1.0])\n",
    "#probs_y = np.array([[0.9, 0.25], [0.33, 0.86]])\n",
    "\n",
    "# turn sigmoid \"probabilities\" into class probabilities, then take the log\n",
    "#probs = np.reshape(probs_y, (probs_y.shape[0], probs_y.shape[1], 1))\n",
    "#inv_probs = 1.0 - probs\n",
    "#vec = np.concatenate([inv_probs, probs], axis = 2)\n",
    "#log_vec = np.log(vec)\n",
    "\n",
    "#log_vec = np.log([0.499, 0.501])\n",
    "\n",
    "log_vec = np.array([-0.001, 0.002])\n",
    "\n",
    "temps = [2.0, 1.5, 1.0, 0.5, 0.25, 0.1, 0.05]\n",
    "\n",
    "print np_softmax(log_vec / 1.0)\n",
    "print np_softmax(log_vec / 0.5)\n",
    "print np_softmax(log_vec / 0.25)\n",
    "print np_softmax(log_vec / 0.1)\n",
    "print np_softmax(log_vec / 0.05)\n",
    "print np_softmax(log_vec / 0.01)\n",
    "print np_softmax(log_vec / 0.0025)\n",
    "print np_softmax(log_vec / 0.001)\n",
    "print np_softmax(log_vec / 0.0001)\n",
    "\n",
    "'''\n",
    "for curr_temp in temps:\n",
    "    samples = []\n",
    "    \n",
    "    for i in xrange(0, 1000):\n",
    "        u = np.random.uniform(0.0, 1.0, log_vec.shape)\n",
    "        gumbel_noise = -np.log(-np.log(u + 1e-10) + 1e-10)\n",
    "        final_probs = np_softmax((log_vec + gumbel_noise) / curr_temp)\n",
    "        expected = np.dot(final_probs, discrete_values)\n",
    "        \n",
    "        samples.append(expected)\n",
    "    \n",
    "    binspace = np.linspace(0, 1, 21)\n",
    "    \n",
    "    plt.hist(samples, bins = binspace)\n",
    "    plt.xlim([0, 1.01])\n",
    "    plt.show()\n",
    "'''"
   ]
  },
  {
   "cell_type": "code",
   "execution_count": 69,
   "metadata": {
    "collapsed": false
   },
   "outputs": [
    {
     "data": {
      "image/png": "[encoded data removed]",
      "text/plain": [
       "<matplotlib.figure.Figure at 0x7f6636414d50>"
      ]
     },
     "metadata": {},
     "output_type": "display_data"
    },
    {
     "data": {
      "image/png": "[encoded data removed]",
      "text/plain": [
       "<matplotlib.figure.Figure at 0x7f66371a4390>"
      ]
     },
     "metadata": {},
     "output_type": "display_data"
    },
    {
     "data": {
      "image/png": "[encoded data removed]",
      "text/plain": [
       "<matplotlib.figure.Figure at 0x7f6636986810>"
      ]
     },
     "metadata": {},
     "output_type": "display_data"
    },
    {
     "data": {
      "image/png": "[encoded data removed]",
      "text/plain": [
       "<matplotlib.figure.Figure at 0x7f66350c1150>"
      ]
     },
     "metadata": {},
     "output_type": "display_data"
    },
    {
     "data": {
      "image/png": "[encoded data removed]",
      "text/plain": [
       "<matplotlib.figure.Figure at 0x7f66342c8d90>"
      ]
     },
     "metadata": {},
     "output_type": "display_data"
    },
    {
     "data": {
      "image/png": "[encoded data removed]",
      "text/plain": [
       "<matplotlib.figure.Figure at 0x7f6636099490>"
      ]
     },
     "metadata": {},
     "output_type": "display_data"
    },
    {
     "data": {
      "image/png": "[encoded data removed]",
      "text/plain": [
       "<matplotlib.figure.Figure at 0x7f6636a49d50>"
      ]
     },
     "metadata": {},
     "output_type": "display_data"
    }
   ],
   "source": [
    "def sigmoid(x):\n",
    "    return np.clip((x + 1.0) / 2.0, 0.0, 1.0)\n",
    "    #return np.max(0, np.min(1, (x + 1)/2))\n",
    "    #return 1 / (1 + np.exp(-x))\n",
    "\n",
    "log_p = -1\n",
    "\n",
    "temps = [2.0, 1.5, 1.0, 0.5, 0.25, 0.1, 0.05]\n",
    "\n",
    "for curr_temp in temps:\n",
    "    samples = []\n",
    "    \n",
    "    for i in xrange(0, 1000):\n",
    "        u = random.uniform(0.0, 1.0)\n",
    "        gumbel_noise = -np.log(-np.log(u + 1e-10) + 1e-10)\n",
    "        prob = sigmoid((gumbel_noise + log_p) / curr_temp)\n",
    "        \n",
    "        samples.append(prob)\n",
    "    \n",
    "    binspace = np.linspace(0, 1, 21)\n",
    "    \n",
    "    plt.hist(samples, bins = binspace)\n",
    "    plt.xlim([0, 1.01])\n",
    "    plt.show()"
   ]
  },
  {
   "cell_type": "code",
   "execution_count": 206,
   "metadata": {
    "collapsed": false
   },
   "outputs": [
    {
     "name": "stdout",
     "output_type": "stream",
     "text": [
      "compiled\n",
      "Train on 60000 samples, validate on 10000 samples\n",
      "Epoch 1/1\n",
      "60000/60000 [==============================] - 2s - loss: 0.0506 - val_loss: 0.0346\n",
      "1.0\n",
      "Train on 60000 samples, validate on 10000 samples\n",
      "Epoch 1/1\n",
      "60000/60000 [==============================] - 2s - loss: 0.0296 - val_loss: 0.0256\n",
      "0.99004983902\n",
      "Train on 60000 samples, validate on 10000 samples\n",
      "Epoch 1/1\n",
      "60000/60000 [==============================] - 2s - loss: 0.0243 - val_loss: 0.0225\n",
      "0.970445513725\n",
      "Train on 60000 samples, validate on 10000 samples\n",
      "Epoch 1/1\n",
      "60000/60000 [==============================] - 2s - loss: 0.0221 - val_loss: 0.0209\n",
      "0.94176453352\n",
      "Train on 60000 samples, validate on 10000 samples\n",
      "Epoch 1/1\n",
      "60000/60000 [==============================] - 2s - loss: 0.0209 - val_loss: 0.0200\n",
      "0.904837429523\n",
      "Train on 60000 samples, validate on 10000 samples\n",
      "Epoch 1/1\n",
      "60000/60000 [==============================] - 2s - loss: 0.0201 - val_loss: 0.0195\n",
      "0.860707998276\n",
      "Train on 60000 samples, validate on 10000 samples\n",
      "Epoch 1/1\n",
      "60000/60000 [==============================] - 2s - loss: 0.0196 - val_loss: 0.0191\n",
      "0.810584247112\n",
      "Train on 60000 samples, validate on 10000 samples\n",
      "Epoch 1/1\n",
      "60000/60000 [==============================] - 2s - loss: 0.0194 - val_loss: 0.0190\n",
      "0.755783736706\n",
      "Train on 60000 samples, validate on 10000 samples\n",
      "Epoch 1/1\n",
      "60000/60000 [==============================] - 2s - loss: 0.0192 - val_loss: 0.0189\n",
      "0.697676301003\n",
      "Train on 60000 samples, validate on 10000 samples\n",
      "Epoch 1/1\n",
      "60000/60000 [==============================] - 2s - loss: 0.0192 - val_loss: 0.0189\n",
      "0.637628138065\n",
      "Train on 60000 samples, validate on 10000 samples\n",
      "Epoch 1/1\n",
      "60000/60000 [==============================] - 2s - loss: 0.0193 - val_loss: 0.0189\n",
      "0.576949775219\n",
      "Train on 60000 samples, validate on 10000 samples\n",
      "Epoch 1/1\n",
      "60000/60000 [==============================] - 2s - loss: 0.0191 - val_loss: 0.0188\n",
      "0.516851305962\n",
      "Train on 60000 samples, validate on 10000 samples\n",
      "Epoch 1/1\n",
      "60000/60000 [==============================] - 2s - loss: 0.0190 - val_loss: 0.0187\n",
      "0.458405971527\n",
      "Train on 60000 samples, validate on 10000 samples\n",
      "Epoch 1/1\n",
      "60000/60000 [==============================] - 2s - loss: 0.0189 - val_loss: 0.0188\n",
      "0.402524203062\n",
      "Train on 60000 samples, validate on 10000 samples\n",
      "Epoch 1/1\n",
      "60000/60000 [==============================] - 2s - loss: 0.0189 - val_loss: 0.0189\n",
      "0.349937736988\n",
      "Train on 60000 samples, validate on 10000 samples\n",
      "Epoch 1/1\n",
      "60000/60000 [==============================] - 2s - loss: 0.0190 - val_loss: 0.0190\n",
      "0.301194190979\n",
      "Train on 60000 samples, validate on 10000 samples\n",
      "Epoch 1/1\n",
      "60000/60000 [==============================] - 2s - loss: 0.0191 - val_loss: 0.0191\n",
      "0.256660759449\n",
      "Train on 60000 samples, validate on 10000 samples\n",
      "Epoch 1/1\n",
      "60000/60000 [==============================] - 2s - loss: 0.0192 - val_loss: 0.0193\n",
      "0.216535657644\n",
      "Train on 60000 samples, validate on 10000 samples\n",
      "Epoch 1/1\n",
      "60000/60000 [==============================] - 2s - loss: 0.0192 - val_loss: 0.0192\n",
      "0.180865779519\n",
      "Train on 60000 samples, validate on 10000 samples\n",
      "Epoch 1/1\n",
      "60000/60000 [==============================] - 2s - loss: 0.0192 - val_loss: 0.0193\n",
      "0.149568602443\n",
      "Train on 60000 samples, validate on 10000 samples\n",
      "Epoch 1/1\n",
      "60000/60000 [==============================] - 2s - loss: 0.0192 - val_loss: 0.0193\n",
      "0.122456416488\n",
      "Train on 60000 samples, validate on 10000 samples\n",
      "Epoch 1/1\n",
      "60000/60000 [==============================] - 2s - loss: 0.0192 - val_loss: 0.0194\n",
      "0.099261239171\n",
      "Train on 60000 samples, validate on 10000 samples\n",
      "Epoch 1/1\n",
      "60000/60000 [==============================] - 2s - loss: 0.0193 - val_loss: 0.0195\n",
      "0.0796590074897\n",
      "Train on 60000 samples, validate on 10000 samples\n",
      "Epoch 1/1\n",
      "60000/60000 [==============================] - 2s - loss: 0.0194 - val_loss: 0.0195\n",
      "0.0632917582989\n",
      "Train on 60000 samples, validate on 10000 samples\n",
      "Epoch 1/1\n",
      "60000/60000 [==============================] - 2s - loss: 0.0195 - val_loss: 0.0198\n",
      "0.0497870594263\n",
      "Train on 60000 samples, validate on 10000 samples\n",
      "Epoch 1/1\n",
      "60000/60000 [==============================] - 2s - loss: 0.0195 - val_loss: 0.0197\n",
      "0.0387741997838\n",
      "Train on 60000 samples, validate on 10000 samples\n",
      "Epoch 1/1\n",
      " 9600/60000 [===>..........................] - ETA: 2s - loss: 0.0195"
     ]
    },
    {
     "ename": "KeyboardInterrupt",
     "evalue": "",
     "output_type": "error",
     "traceback": [
      "\u001b[0;31m---------------------------------------------------------------------------\u001b[0m",
      "\u001b[0;31mKeyboardInterrupt\u001b[0m                         Traceback (most recent call last)",
      "\u001b[0;32m<ipython-input-206-155066f84ea3>\u001b[0m in \u001b[0;36m<module>\u001b[0;34m()\u001b[0m\n\u001b[1;32m     85\u001b[0m         \u001b[0mbatch_size\u001b[0m\u001b[0;34m=\u001b[0m\u001b[0mbatch_size\u001b[0m\u001b[0;34m,\u001b[0m\u001b[0;34m\u001b[0m\u001b[0m\n\u001b[1;32m     86\u001b[0m         \u001b[0mvalidation_data\u001b[0m\u001b[0;34m=\u001b[0m\u001b[0;34m(\u001b[0m\u001b[0mx_test\u001b[0m\u001b[0;34m,\u001b[0m \u001b[0mx_test\u001b[0m\u001b[0;34m)\u001b[0m\u001b[0;34m,\u001b[0m\u001b[0;34m\u001b[0m\u001b[0m\n\u001b[0;32m---> 87\u001b[0;31m         verbose = 1)\n\u001b[0m\u001b[1;32m     88\u001b[0m     \u001b[0mK\u001b[0m\u001b[0;34m.\u001b[0m\u001b[0mset_value\u001b[0m\u001b[0;34m(\u001b[0m\u001b[0mtau\u001b[0m\u001b[0;34m,\u001b[0m \u001b[0mnp\u001b[0m\u001b[0;34m.\u001b[0m\u001b[0mmax\u001b[0m\u001b[0;34m(\u001b[0m\u001b[0;34m[\u001b[0m\u001b[0mK\u001b[0m\u001b[0;34m.\u001b[0m\u001b[0mget_value\u001b[0m\u001b[0;34m(\u001b[0m\u001b[0mtau\u001b[0m\u001b[0;34m)\u001b[0m \u001b[0;34m*\u001b[0m \u001b[0mnp\u001b[0m\u001b[0;34m.\u001b[0m\u001b[0mexp\u001b[0m\u001b[0;34m(\u001b[0m\u001b[0;34m-\u001b[0m \u001b[0manneal_rate\u001b[0m \u001b[0;34m*\u001b[0m \u001b[0mepoch\u001b[0m\u001b[0;34m)\u001b[0m\u001b[0;34m,\u001b[0m \u001b[0mmin_temperature\u001b[0m\u001b[0;34m]\u001b[0m\u001b[0;34m)\u001b[0m\u001b[0;34m)\u001b[0m\u001b[0;34m\u001b[0m\u001b[0m\n\u001b[1;32m     89\u001b[0m     \u001b[0;32mprint\u001b[0m \u001b[0mK\u001b[0m\u001b[0;34m.\u001b[0m\u001b[0mget_value\u001b[0m\u001b[0;34m(\u001b[0m\u001b[0mtau\u001b[0m\u001b[0;34m)\u001b[0m\u001b[0;34m\u001b[0m\u001b[0m\n",
      "\u001b[0;32m/usr/local/lib/python2.7/dist-packages/keras/engine/training.pyc\u001b[0m in \u001b[0;36mfit\u001b[0;34m(self, x, y, batch_size, nb_epoch, verbose, callbacks, validation_split, validation_data, shuffle, class_weight, sample_weight, initial_epoch)\u001b[0m\n\u001b[1;32m   1109\u001b[0m                               \u001b[0mval_f\u001b[0m\u001b[0;34m=\u001b[0m\u001b[0mval_f\u001b[0m\u001b[0;34m,\u001b[0m \u001b[0mval_ins\u001b[0m\u001b[0;34m=\u001b[0m\u001b[0mval_ins\u001b[0m\u001b[0;34m,\u001b[0m \u001b[0mshuffle\u001b[0m\u001b[0;34m=\u001b[0m\u001b[0mshuffle\u001b[0m\u001b[0;34m,\u001b[0m\u001b[0;34m\u001b[0m\u001b[0m\n\u001b[1;32m   1110\u001b[0m                               \u001b[0mcallback_metrics\u001b[0m\u001b[0;34m=\u001b[0m\u001b[0mcallback_metrics\u001b[0m\u001b[0;34m,\u001b[0m\u001b[0;34m\u001b[0m\u001b[0m\n\u001b[0;32m-> 1111\u001b[0;31m                               initial_epoch=initial_epoch)\n\u001b[0m\u001b[1;32m   1112\u001b[0m \u001b[0;34m\u001b[0m\u001b[0m\n\u001b[1;32m   1113\u001b[0m     \u001b[0;32mdef\u001b[0m \u001b[0mevaluate\u001b[0m\u001b[0;34m(\u001b[0m\u001b[0mself\u001b[0m\u001b[0;34m,\u001b[0m \u001b[0mx\u001b[0m\u001b[0;34m,\u001b[0m \u001b[0my\u001b[0m\u001b[0;34m,\u001b[0m \u001b[0mbatch_size\u001b[0m\u001b[0;34m=\u001b[0m\u001b[0;36m32\u001b[0m\u001b[0;34m,\u001b[0m \u001b[0mverbose\u001b[0m\u001b[0;34m=\u001b[0m\u001b[0;36m1\u001b[0m\u001b[0;34m,\u001b[0m \u001b[0msample_weight\u001b[0m\u001b[0;34m=\u001b[0m\u001b[0mNone\u001b[0m\u001b[0;34m)\u001b[0m\u001b[0;34m:\u001b[0m\u001b[0;34m\u001b[0m\u001b[0m\n",
      "\u001b[0;32m/usr/local/lib/python2.7/dist-packages/keras/engine/training.pyc\u001b[0m in \u001b[0;36m_fit_loop\u001b[0;34m(self, f, ins, out_labels, batch_size, nb_epoch, verbose, callbacks, val_f, val_ins, shuffle, callback_metrics, initial_epoch)\u001b[0m\n\u001b[1;32m    815\u001b[0m                         \u001b[0mins_batch\u001b[0m \u001b[0;34m=\u001b[0m \u001b[0mslice_X\u001b[0m\u001b[0;34m(\u001b[0m\u001b[0mins\u001b[0m\u001b[0;34m[\u001b[0m\u001b[0;34m:\u001b[0m\u001b[0;34m-\u001b[0m\u001b[0;36m1\u001b[0m\u001b[0;34m]\u001b[0m\u001b[0;34m,\u001b[0m \u001b[0mbatch_ids\u001b[0m\u001b[0;34m)\u001b[0m \u001b[0;34m+\u001b[0m \u001b[0;34m[\u001b[0m\u001b[0mins\u001b[0m\u001b[0;34m[\u001b[0m\u001b[0;34m-\u001b[0m\u001b[0;36m1\u001b[0m\u001b[0;34m]\u001b[0m\u001b[0;34m]\u001b[0m\u001b[0;34m\u001b[0m\u001b[0m\n\u001b[1;32m    816\u001b[0m                     \u001b[0;32melse\u001b[0m\u001b[0;34m:\u001b[0m\u001b[0;34m\u001b[0m\u001b[0m\n\u001b[0;32m--> 817\u001b[0;31m                         \u001b[0mins_batch\u001b[0m \u001b[0;34m=\u001b[0m \u001b[0mslice_X\u001b[0m\u001b[0;34m(\u001b[0m\u001b[0mins\u001b[0m\u001b[0;34m,\u001b[0m \u001b[0mbatch_ids\u001b[0m\u001b[0;34m)\u001b[0m\u001b[0;34m\u001b[0m\u001b[0m\n\u001b[0m\u001b[1;32m    818\u001b[0m                 \u001b[0;32mexcept\u001b[0m \u001b[0mTypeError\u001b[0m\u001b[0;34m:\u001b[0m\u001b[0;34m\u001b[0m\u001b[0m\n\u001b[1;32m    819\u001b[0m                     raise Exception('TypeError while preparing batch. '\n",
      "\u001b[0;32m/usr/local/lib/python2.7/dist-packages/keras/engine/training.pyc\u001b[0m in \u001b[0;36mslice_X\u001b[0;34m(X, start, stop)\u001b[0m\n\u001b[1;32m    281\u001b[0m             \u001b[0;31m# hdf5 datasets only support list objects as indices\u001b[0m\u001b[0;34m\u001b[0m\u001b[0;34m\u001b[0m\u001b[0m\n\u001b[1;32m    282\u001b[0m             \u001b[0;32mif\u001b[0m \u001b[0mhasattr\u001b[0m\u001b[0;34m(\u001b[0m\u001b[0mstart\u001b[0m\u001b[0;34m,\u001b[0m \u001b[0;34m'shape'\u001b[0m\u001b[0;34m)\u001b[0m\u001b[0;34m:\u001b[0m\u001b[0;34m\u001b[0m\u001b[0m\n\u001b[0;32m--> 283\u001b[0;31m                 \u001b[0mstart\u001b[0m \u001b[0;34m=\u001b[0m \u001b[0mstart\u001b[0m\u001b[0;34m.\u001b[0m\u001b[0mtolist\u001b[0m\u001b[0;34m(\u001b[0m\u001b[0;34m)\u001b[0m\u001b[0;34m\u001b[0m\u001b[0m\n\u001b[0m\u001b[1;32m    284\u001b[0m             \u001b[0;32mreturn\u001b[0m \u001b[0;34m[\u001b[0m\u001b[0mx\u001b[0m\u001b[0;34m[\u001b[0m\u001b[0mstart\u001b[0m\u001b[0;34m]\u001b[0m \u001b[0;32mfor\u001b[0m \u001b[0mx\u001b[0m \u001b[0;32min\u001b[0m \u001b[0mX\u001b[0m\u001b[0;34m]\u001b[0m\u001b[0;34m\u001b[0m\u001b[0m\n\u001b[1;32m    285\u001b[0m         \u001b[0;32melse\u001b[0m\u001b[0;34m:\u001b[0m\u001b[0;34m\u001b[0m\u001b[0m\n",
      "\u001b[0;31mKeyboardInterrupt\u001b[0m: "
     ]
    }
   ],
   "source": [
    "\n",
    "\n",
    "batch_size = 128\n",
    "data_dim = 784\n",
    "N = 32\n",
    "nb_epoch = 100\n",
    "epsilon_std = 0.01\n",
    "\n",
    "tau = K.variable(1.0, name=\"temperature\")\n",
    "anneal_rate = 0.01\n",
    "min_temperature = 0.01\n",
    "\n",
    "# encoder => code\n",
    "x = Input(batch_shape=(batch_size, data_dim))\n",
    "h = Dense(512, activation = 'linear')(x)\n",
    "h = LeakyReLU(0.3)(h)\n",
    "h = Dense(256, activation = 'linear')(x)\n",
    "h = LeakyReLU(0.3)(h)\n",
    "logits_y = Dense(N, activation = 'linear')(h)\n",
    "#logits_y = Lambda(lambda x : 4.0 * K.tanh(x))(logits_y)\n",
    "\n",
    "def sampling(logits_y):\n",
    "    u = K.random_uniform(K.shape(logits_y), 0, 1)\n",
    "    gumbel_noise = -K.log(-K.log(u + 1e-20) + 1e-20)\n",
    "\n",
    "    probs = K.sigmoid((gumbel_noise + logits_y) / tau)\n",
    "    return probs\n",
    "    \n",
    "    '''\n",
    "    # turn sigmoid \"probabilities\" into class probabilities, then take the log\n",
    "    probs = K.reshape(probs_y, (probs_y.shape[0], probs_y.shape[1], 1))\n",
    "    inv_probs = 1.0 - probs\n",
    "    vec = K.concatenate([inv_probs, probs], axis = 2)\n",
    "    log_vec = K.log(vec)\n",
    "    \n",
    "    # gumbel noise\n",
    "    u = K.random_uniform(K.shape(probs_y), 1e-5, 1)\n",
    "    gumbel_noise = -K.log(-K.log(u + 1e-20) + 1e-20)\n",
    "    \n",
    "    # calculated probabilities and retrieve expected value\n",
    "    final_probs = softmax((log_vec + gumbel_noise) / tau)\n",
    "    expected = T.dot(final_probs, discrete_values)\n",
    "    '''\n",
    "\n",
    "    # final output is expected value\n",
    "    #return probs\n",
    "\n",
    "z = Lambda(sampling, output_shape=(N,))(logits_y)\n",
    "generator = Sequential()\n",
    "generator.add(Dense(256, input_shape=(N, )))\n",
    "generator.add(LeakyReLU(0.3))\n",
    "generator.add(Dense(512))\n",
    "generator.add(LeakyReLU(0.3))\n",
    "generator.add(Dense(data_dim, activation='sigmoid'))\n",
    "x_hat = generator(z)\n",
    "\n",
    "# x_hat = Dense(data_dim, activation='softmax')(Dense(512, activation='relu')(Dense(256, activation='relu')(z)))\n",
    "'''\n",
    "def gumbel_loss(x, x_hat):\n",
    "    q_y = K.reshape(logits_y, (-1, N, M))\n",
    "    q_y = softmax(q_y)\n",
    "    log_q_y = K.log(q_y + 1e-20)\n",
    "    kl_tmp = q_y * (log_q_y - K.log(1.0/M))\n",
    "    KL = K.sum(kl_tmp, axis=(1, 2))\n",
    "    elbo = data_dim * bce(x, x_hat) - KL \n",
    "    return elbo\n",
    "'''\n",
    "\n",
    "vae = Model(x, x_hat)\n",
    "vae.compile(optimizer='adam', loss='mean_squared_error')\n",
    "print \"compiled\"\n",
    "\n",
    "# train the VAE on MNIST digits\n",
    "(x_train, y_train), (x_test, y_test) = mnist.load_data()\n",
    "\n",
    "x_train = x_train.astype('float32') / 255.\n",
    "x_test = x_test.astype('float32') / 255.\n",
    "x_train = x_train.reshape((len(x_train), np.prod(x_train.shape[1:])))\n",
    "x_test = x_test.reshape((len(x_test), np.prod(x_test.shape[1:])))\n",
    "\n",
    "for epoch in range(nb_epoch):\n",
    "    vae.fit(x_train, x_train,\n",
    "        shuffle=True,\n",
    "        nb_epoch=1,\n",
    "        batch_size=batch_size,\n",
    "        validation_data=(x_test, x_test),\n",
    "        verbose = 1)\n",
    "    K.set_value(tau, np.max([K.get_value(tau) * np.exp(- anneal_rate * epoch), min_temperature]))\n",
    "    print K.get_value(tau)"
   ]
  },
  {
   "cell_type": "markdown",
   "metadata": {},
   "source": [
    "# Visualize results"
   ]
  },
  {
   "cell_type": "code",
   "execution_count": 207,
   "metadata": {
    "collapsed": false
   },
   "outputs": [],
   "source": [
    "argmax_y = K.round(z)\n",
    "encoder = K.function([x], [argmax_y, x_hat])"
   ]
  },
  {
   "cell_type": "code",
   "execution_count": 208,
   "metadata": {
    "collapsed": false
   },
   "outputs": [
    {
     "data": {
      "text/plain": [
       "(<matplotlib.image.AxesImage at 0x7fe83a306cd0>, (-0.5, 27.5, 27.5, -0.5))"
      ]
     },
     "execution_count": 208,
     "metadata": {},
     "output_type": "execute_result"
    },
    {
     "data": {
      "image/png": "[encoded data removed]",
      "text/plain": [
       "<matplotlib.figure.Figure at 0x7fe829440c90>"
      ]
     },
     "metadata": {},
     "output_type": "display_data"
    }
   ],
   "source": [
    "idx = 67\n",
    "\n",
    "code, x_hat_test = encoder([x_test[idx:idx+1]])\n",
    "subplot(131)\n",
    "imshow(x_test[idx:idx+1].reshape(28, 28), cmap='gray', interpolation=\"nearest\"), axis('off')\n",
    "subplot(132)\n",
    "imshow(code[:1].reshape(N,1), cmap='gray', interpolation=\"nearest\"), axis('off')\n",
    "subplot(133)\n",
    "imshow(x_hat_test[:1].reshape(28, 28), cmap='gray', interpolation=\"nearest\"), axis('off')"
   ]
  },
  {
   "cell_type": "code",
   "execution_count": 209,
   "metadata": {
    "collapsed": false
   },
   "outputs": [
    {
     "data": {
      "text/plain": [
       "(<matplotlib.image.AxesImage at 0x7fe8287b20d0>, (-0.5, 27.5, 27.5, -0.5))"
      ]
     },
     "execution_count": 209,
     "metadata": {},
     "output_type": "execute_result"
    },
    {
     "data": {
      "image/png": "[encoded data removed]",
      "text/plain": [
       "<matplotlib.figure.Figure at 0x7fe82d44e350>"
      ]
     },
     "metadata": {},
     "output_type": "display_data"
    }
   ],
   "source": [
    "idx = 45\n",
    "img = [x_test[idx:idx+1]]\n",
    "x_hat_test = vae.predict(img)\n",
    "\n",
    "subplot(131)\n",
    "imshow(img[0].reshape(28, 28), cmap='gray'), axis('off')\n",
    "subplot(132)\n",
    "imshow(x_hat_test[0].reshape(28, 28), cmap='gray'), axis('off')"
   ]
  },
  {
   "cell_type": "code",
   "execution_count": 82,
   "metadata": {
    "collapsed": false
   },
   "outputs": [
    {
     "name": "stdout",
     "output_type": "stream",
     "text": [
      "[[[1 0]\n",
      "  [1 0]\n",
      "  [0 1]\n",
      "  [1 0]\n",
      "  [1 0]\n",
      "  [1 0]\n",
      "  [0 1]\n",
      "  [0 1]\n",
      "  [0 1]\n",
      "  [0 1]\n",
      "  [0 1]\n",
      "  [0 1]\n",
      "  [0 1]\n",
      "  [0 1]\n",
      "  [1 0]\n",
      "  [0 1]\n",
      "  [1 0]\n",
      "  [1 0]\n",
      "  [1 0]\n",
      "  [0 1]\n",
      "  [1 0]\n",
      "  [0 1]\n",
      "  [0 1]\n",
      "  [1 0]\n",
      "  [1 0]\n",
      "  [1 0]\n",
      "  [0 1]\n",
      "  [1 0]\n",
      "  [1 0]\n",
      "  [1 0]\n",
      "  [0 1]\n",
      "  [0 1]]]\n",
      "[[[1 1 0 1 1 1 0 0 0 0 0 0 0 0 1 0 1 1 1 0 1 0 0 1 1 1 0 1 1 1 0 0]\n",
      "  [0 0 1 0 0 0 1 1 1 1 1 1 1 1 0 1 0 0 0 1 0 1 1 0 0 0 1 0 0 0 1 1]]]\n"
     ]
    }
   ],
   "source": [
    "print code\n",
    "\n",
    "print np.transpose(code, (0, 2, 1))"
   ]
  },
  {
   "cell_type": "code",
   "execution_count": 79,
   "metadata": {
    "collapsed": false
   },
   "outputs": [
    {
     "name": "stdout",
     "output_type": "stream",
     "text": [
      "(1, 32, 2)\n"
     ]
    },
    {
     "data": {
      "text/plain": [
       "(<matplotlib.image.AxesImage at 0x7f9c78863c10>, (-0.5, 27.5, 27.5, -0.5))"
      ]
     },
     "execution_count": 79,
     "metadata": {},
     "output_type": "execute_result"
    },
    {
     "data": {
      "image/png": "[encoded data removed]",
      "text/plain": [
       "<matplotlib.figure.Figure at 0x7f9c89a54d90>"
      ]
     },
     "metadata": {},
     "output_type": "display_data"
    }
   ],
   "source": [
    "print code.shape\n",
    "expected = T.dot(code, discrete_values)\n",
    "\n",
    "img = generator(expected).eval()\n",
    "imshow(img.reshape(28, 28), cmap='gray'), axis('off')"
   ]
  },
  {
   "cell_type": "code",
   "execution_count": null,
   "metadata": {
    "collapsed": false
   },
   "outputs": [],
   "source": [
    "C = np.zeros((6000, N*M))\n",
    "for i in range(0, 6000, 100):\n",
    "    c, _ = encoder([x_test[i:i+100]])\n",
    "    C[i:i+100] = c.reshape(100, -1)"
   ]
  },
  {
   "cell_type": "code",
   "execution_count": null,
   "metadata": {
    "collapsed": false
   },
   "outputs": [],
   "source": [
    "from sklearn.manifold.t_sne import TSNE\n",
    "tsne = TSNE(metric='hamming')\n",
    "viz = tsne.fit_transform(C)"
   ]
  },
  {
   "cell_type": "code",
   "execution_count": null,
   "metadata": {
    "collapsed": false
   },
   "outputs": [],
   "source": [
    "from agnez import embedding2dplot\n",
    "_ = embedding2dplot(viz, y_test[:6000], show_median=False)"
   ]
  },
  {
   "cell_type": "code",
   "execution_count": null,
   "metadata": {
    "collapsed": true
   },
   "outputs": [],
   "source": []
  }
 ],
 "metadata": {
  "kernelspec": {
   "display_name": "Python 2",
   "language": "python",
   "name": "python2"
  },
  "language_info": {
   "codemirror_mode": {
    "name": "ipython",
    "version": 2
   },
   "file_extension": ".py",
   "mimetype": "text/x-python",
   "name": "python",
   "nbconvert_exporter": "python",
   "pygments_lexer": "ipython2",
   "version": "2.7.12"
  }
 },
 "nbformat": 4,
 "nbformat_minor": 0
}
