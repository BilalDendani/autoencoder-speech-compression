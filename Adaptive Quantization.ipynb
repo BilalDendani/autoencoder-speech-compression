{
 "cells": [
  {
   "cell_type": "code",
   "execution_count": 1,
   "metadata": {},
   "outputs": [
    {
     "name": "stderr",
     "output_type": "stream",
     "text": [
      "Using TensorFlow backend.\n"
     ]
    }
   ],
   "source": [
    "import numpy as np\n",
    "\n",
    "import random\n",
    "import h5py\n",
    "from nn_util import *\n",
    "from keras.models import *\n",
    "from keras.layers import *\n",
    "from keras.optimizers import *\n",
    "from keras import backend as K\n",
    "from keras.initializers import *\n",
    "import tensorflow\n",
    "\n",
    "import os\n",
    "import random\n",
    "import time\n",
    "import matplotlib\n",
    "import matplotlib.pyplot as plt\n",
    "matplotlib.rcParams['font.family'] = \"serif\"\n",
    "matplotlib.rcParams['font.serif'] = \"Symbola\"\n",
    "matplotlib.rcParams['font.size'] = 12\n",
    "import glob\n",
    "\n",
    "import operator\n",
    "import math\n",
    "import re\n",
    "\n",
    "# for reproducibility\n",
    "np.random.seed(1337) \n",
    "random.seed(1337)\n",
    "\n",
    "from keras.activations import softmax\n",
    "\n",
    "# increase recursion limit for adaptive VQ\n",
    "import sys\n",
    "sys.setrecursionlimit(40000)\n",
    "\n",
    "np.set_printoptions(formatter={'float_kind':'{:4f}'.format})"
   ]
  },
  {
   "cell_type": "code",
   "execution_count": 2,
   "metadata": {
    "collapsed": true
   },
   "outputs": [],
   "source": [
    "# control amount of GPU memory used\n",
    "import tensorflow as tf\n",
    "from keras.backend.tensorflow_backend import set_session\n",
    "config = tf.ConfigProto()\n",
    "config.gpu_options.allow_growth=True\n",
    "set_session(tf.Session(config=config))"
   ]
  },
  {
   "cell_type": "code",
   "execution_count": 3,
   "metadata": {
    "collapsed": true
   },
   "outputs": [],
   "source": [
    "import consts\n",
    "consts.NBINS = 5\n",
    "consts.BINS_INIT = np.linspace(-1.0, 1.0, consts.NBINS)\n",
    "consts.QUANT_BINS = K.variable(consts.BINS_INIT, name = 'QUANT_BINS')"
   ]
  },
  {
   "cell_type": "code",
   "execution_count": 4,
   "metadata": {
    "collapsed": true
   },
   "outputs": [],
   "source": [
    "# external custom code I wrote\n",
    "from load_data import *\n",
    "from windowing import *\n",
    "from pesq import *\n",
    "from consts import *\n",
    "from nn_blocks import *\n",
    "from perceptual_loss import *\n",
    "from evaluation import *"
   ]
  },
  {
   "cell_type": "code",
   "execution_count": 5,
   "metadata": {},
   "outputs": [
    {
     "name": "stdout",
     "output_type": "stream",
     "text": [
      "[[[1.000000 0.000000 0.000000]\n",
      "  [1.000000 0.000000 0.000000]\n",
      "  [0.000000 1.000000 0.000000]\n",
      "  [0.000000 1.000000 0.000000]\n",
      "  [0.000000 0.000000 1.000000]\n",
      "  [0.000000 0.000000 1.000000]]\n",
      "\n",
      " [[0.000000 0.000000 1.000000]\n",
      "  [0.000000 1.000000 0.000000]\n",
      "  [1.000000 0.000000 0.000000]\n",
      "  [0.000000 1.000000 0.000000]\n",
      "  [0.000000 0.000000 1.000000]\n",
      "  [0.000000 0.000000 1.000000]]\n",
      "\n",
      " [[0.000000 0.000000 1.000000]\n",
      "  [0.000000 0.000000 1.000000]\n",
      "  [0.000000 1.000000 0.000000]\n",
      "  [0.000000 1.000000 0.000000]\n",
      "  [1.000000 0.000000 0.000000]\n",
      "  [1.000000 0.000000 0.000000]]\n",
      "\n",
      " [[0.000000 0.000000 1.000000]\n",
      "  [1.000000 0.000000 0.000000]\n",
      "  [1.000000 0.000000 0.000000]\n",
      "  [1.000000 0.000000 0.000000]\n",
      "  [1.000000 0.000000 0.000000]\n",
      "  [0.000000 0.000000 1.000000]]]\n"
     ]
    }
   ],
   "source": [
    "orig_input = [[0, 0, 2, 3, 4, 5], [5, 2, 0, 2, 5, 5], [5, 5, 2, 2, 0, 0], [5, 0, 0, 0, 0, 5]]\n",
    "x = K.variable(orig_input)\n",
    "\n",
    "nb = 3\n",
    "bins_init = [0, 2, 5]\n",
    "adapt_step = 3\n",
    "\n",
    "# change_scales is: [NBINS]\n",
    "change_scales = K.variable(np.ones(nb))\n",
    "\n",
    "init_state = K.variable(bins_init)\n",
    "\n",
    "# x is a vector: [BATCH_SIZE x ADAPT_STEP]\n",
    "# curr_bins is a vector: [BATCH_SIZE x NBINS]\n",
    "def my_enc_step(x, curr_bins):\n",
    "    # ------------------------------------\n",
    "    # compute output\n",
    "    # ------------------------------------\n",
    "    # x_r becomes: [BATCH_SIZE x ADAPT_STEP x 1]\n",
    "    x_r = K.expand_dims(x, -1)\n",
    "    \n",
    "    # c_r becomes: [BATCH_SIZE x 1 x NBINS]\n",
    "    c_r = K.expand_dims(curr_bins, -2)\n",
    "    \n",
    "    # get L1 distance from each element to each of the bins\n",
    "    # dist is: [BATCH_SIZE x ADAPT_STEP x NBINS]\n",
    "    dist = K.abs(x_r - c_r)\n",
    "    \n",
    "    # turn into softmax probabilities, which we return\n",
    "    # probs is: [BATCH_SIZE x ADAPT_STEP x NBINS]\n",
    "    probs = softmax(500 * -dist)\n",
    "    \n",
    "    # ------------------------------------\n",
    "    # update bins\n",
    "    # ------------------------------------\n",
    "    \n",
    "    # symbol_probs is: [BATCH_SIZE x NBINS]\n",
    "    symbol_probs = K.sum(probs, axis = 1) / adapt_step\n",
    "    \n",
    "    # curr_change_scale is: [BATCH_SIZE x 1]\n",
    "    curr_change_scale = K.dot(symbol_probs, K.expand_dims(change_scales))\n",
    "    \n",
    "    # new_bins is: [BATCH_SIZE x NBINS x 1]\n",
    "    new_bins = K.batch_dot(K.expand_dims(curr_bins), K.expand_dims(curr_change_scale))\n",
    "    \n",
    "    # new_bins is: [BATCH_SIZE x NBINS]\n",
    "    new_bins = K.squeeze(new_bins, -1)\n",
    "    \n",
    "    # ------------------------------------\n",
    "    # return output + new bins\n",
    "    # ------------------------------------\n",
    "    return probs, new_bins\n",
    "\n",
    "init_state = K.expand_dims(init_state, 0)\n",
    "tile_amt = [tf.shape(x)[0]]\n",
    "tile_amt = tf.concat([tile_amt, tf.ones((1,), dtype = tf.int32)], axis = 0)\n",
    "init_state = tf.tile(init_state, tile_amt)\n",
    "\n",
    "x = K.expand_dims(x)\n",
    "\n",
    "mod_x = K.reshape(x, (-1, x.shape[1] / adapt_step, adapt_step))\n",
    "mod_x = tf.transpose(mod_x, [1, 0, 2])\n",
    "mod_x = tf.unstack(mod_x)\n",
    "\n",
    "bins = init_state\n",
    "out = []\n",
    "for i in mod_x:\n",
    "    w, bins = my_enc_step(i, bins)\n",
    "    out.append(w)\n",
    "\n",
    "enc = tf.stack(out)\n",
    "enc = tf.transpose(enc, [1, 0, 2, 3])\n",
    "enc = K.reshape(enc, (-1, enc.shape[1] * enc.shape[2], enc.shape[3]))\n",
    "\n",
    "print K.eval(enc)"
   ]
  },
  {
   "cell_type": "code",
   "execution_count": 6,
   "metadata": {},
   "outputs": [
    {
     "name": "stdout",
     "output_type": "stream",
     "text": [
      "Decoded\n",
      "[[0.000000 0.000000 2.000000 2.000000 5.000000 5.000000]\n",
      " [5.000000 2.000000 0.000000 2.000000 5.000000 5.000000]\n",
      " [5.000000 5.000000 2.000000 2.000000 0.000000 0.000000]\n",
      " [5.000000 0.000000 0.000000 0.000000 0.000000 5.000000]]\n",
      "\n",
      "Original\n",
      "[[0, 0, 2, 3, 4, 5], [5, 2, 0, 2, 5, 5], [5, 5, 2, 2, 0, 0], [5, 0, 0, 0, 0, 5]]\n"
     ]
    }
   ],
   "source": [
    "x = enc\n",
    "\n",
    "init_state = K.variable(bins_init)\n",
    "\n",
    "# x is a vector of size [BATCH_SIZE x ADAPT_STEP x NBINS] -- 1 time step\n",
    "# curr_bins is a vector [BATCH_SIZE x NBINS]\n",
    "def my_dec_step(x, curr_bins):\n",
    "    # compute out value\n",
    "    out = K.batch_dot(x, K.expand_dims(curr_bins, 2))\n",
    "    out = K.squeeze(out, -1)\n",
    "\n",
    "    # TODO: compute new bins\n",
    "    new_bins = curr_bins\n",
    "\n",
    "    return out, new_bins\n",
    "\n",
    "\n",
    "init_state = K.expand_dims(init_state, 0)\n",
    "tile_amt = [tf.shape(x)[0]]\n",
    "tile_amt = tf.concat([tile_amt, tf.ones((1,), dtype = tf.int32)], axis = 0)\n",
    "init_state = tf.tile(init_state, tile_amt)\n",
    "\n",
    "mod_x = K.reshape(x, (-1, x.shape[1] / adapt_step, adapt_step, x.shape[2]))\n",
    "mod_x = tf.unstack(tf.transpose(mod_x, [1, 0, 2, 3]))\n",
    "\n",
    "bins = init_state\n",
    "out = []\n",
    "for i in mod_x:\n",
    "    w, bins = my_dec_step(i, bins)\n",
    "    out.append(w)\n",
    "    \n",
    "dec = tf.stack(out)\n",
    "dec = tf.transpose(dec, [1, 0, 2])\n",
    "dec = K.reshape(dec, (-1, dec.shape[1] * adapt_step))\n",
    "\n",
    "print \"Decoded\"\n",
    "print K.eval(dec)\n",
    "print\"\"\n",
    "print \"Original\"\n",
    "print orig_input"
   ]
  },
  {
   "cell_type": "code",
   "execution_count": 7,
   "metadata": {},
   "outputs": [],
   "source": [
    "ADAPT_STEP = 16\n",
    "CHANGE_SCALES = K.variable(np.ones(NBINS))\n",
    "CHANGE_BIASES = K.variable(np.zeros(NBINS))"
   ]
  },
  {
   "cell_type": "code",
   "execution_count": 8,
   "metadata": {},
   "outputs": [],
   "source": [
    "# quantization: takes in    [BATCH x WINDOW_SIZE]\n",
    "#               and returns [BATCH x WINDOW_SIZE x NBINS]\n",
    "# where the last dimension is a one-hot vector of bins\n",
    "#\n",
    "# [bins initialization is in consts.py]\n",
    "class AdaptiveQuantization(Layer):\n",
    "    def build(self, input_shape):\n",
    "        self.SOFTMAX_TEMP = K.variable(500.0, name = 'softmax_temp')\n",
    "        self.trainable_weights = [QUANT_BINS,\n",
    "                                  CHANGE_SCALES,\n",
    "                                  self.SOFTMAX_TEMP]\n",
    "        super(AdaptiveQuantization, self).build(input_shape)\n",
    "    \n",
    "    # x is a vector: [BATCH_SIZE x ADAPT_STEP]\n",
    "    # curr_bins is a vector: [BATCH_SIZE x NBINS]\n",
    "    def step(self, x, curr_bins):\n",
    "        # ------------------------------------\n",
    "        #  compute output\n",
    "        # ------------------------------------\n",
    "        # x_r becomes: [BATCH_SIZE x ADAPT_STEP x 1]\n",
    "        x_r = K.expand_dims(x, -1)\n",
    "\n",
    "        # c_r becomes: [BATCH_SIZE x 1 x NBINS]\n",
    "        c_r = K.expand_dims(curr_bins, -2)\n",
    "\n",
    "        # get L1 distance from each element to each of the bins\n",
    "        # dist is: [BATCH_SIZE x ADAPT_STEP x NBINS]\n",
    "        dist = K.abs(x_r - c_r)\n",
    "\n",
    "        # turn into softmax probabilities, which we return\n",
    "        # probs is: [BATCH_SIZE x ADAPT_STEP x NBINS]\n",
    "        probs = softmax(self.SOFTMAX_TEMP * -dist)\n",
    "\n",
    "        # ------------------------------------\n",
    "        #  update bins\n",
    "        # ------------------------------------\n",
    "        # symbol_probs is: [BATCH_SIZE x NBINS]\n",
    "        symbol_probs = K.sum(probs, axis = 1) / ADAPT_STEP\n",
    "\n",
    "        # curr_change_scale is: [BATCH_SIZE x 1]\n",
    "        # curr_change_bias is: [BATCH_SIZE x 1]\n",
    "        curr_change_scale = K.dot(symbol_probs, K.expand_dims(CHANGE_SCALES))\n",
    "        curr_change_bias = K.dot(symbol_probs, K.expand_dims(CHANGE_BIASES))\n",
    "\n",
    "        # new_bins is: [BATCH_SIZE x NBINS x 1], then [BATCH_SIZE x NBINS]\n",
    "        new_bins = K.batch_dot(K.expand_dims(curr_bins), K.expand_dims(curr_change_scale))\n",
    "        new_bins = K.squeeze(new_bins, -1)\n",
    "        new_bins = new_bins + curr_change_bias\n",
    "\n",
    "        # ------------------------------------\n",
    "        #  return output + new bins\n",
    "        # ------------------------------------\n",
    "        return probs, new_bins\n",
    "    \n",
    "    def call(self, x, mask = None):\n",
    "        # a really contrived way to repeat QUANT_BINS into a vector\n",
    "        #     BATCH_SIZE x NBINS\n",
    "        # because Keras's TF backend doesn't support tensor arguments for\n",
    "        # repeat_elements\n",
    "        curr_bins = K.expand_dims(QUANT_BINS, 0)\n",
    "        tile_amt = [tf.shape(x)[0]]\n",
    "        tile_amt = tf.concat([tile_amt, tf.ones((1,), dtype = tf.int32)], axis = 0)\n",
    "        curr_bins = tf.tile(curr_bins, tile_amt)\n",
    "        \n",
    "        # out becomes: list of length [WINDOW_SIZE / ADAPT_STEP]\n",
    "        #                  of BATCH_SIZE x ADAPT_STEP x NBINS length testors\n",
    "        mod_x = K.reshape(x, (-1, x.shape[1] / ADAPT_STEP, ADAPT_STEP))\n",
    "        mod_x = tf.unstack(tf.transpose(mod_x, [1, 0, 2]))\n",
    "        out = []\n",
    "        for i in mod_x:\n",
    "            w, new_bins = self.step(i, curr_bins)\n",
    "            curr_bins = new_bins\n",
    "            out.append(w)\n",
    "        \n",
    "        # we finagle this into: [BATCH_SIZE x WINDOW_SIZE x NBINS]\n",
    "        enc = tf.transpose(tf.stack(out), [1, 0, 2, 3])\n",
    "        enc = K.reshape(enc, (-1, enc.shape[1] * enc.shape[2], NBINS))\n",
    "        return enc\n",
    "    \n",
    "    def compute_output_shape(self, input_shape):\n",
    "        return (input_shape[0], input_shape[1], NBINS)"
   ]
  },
  {
   "cell_type": "code",
   "execution_count": 9,
   "metadata": {
    "collapsed": true
   },
   "outputs": [],
   "source": [
    "# dequantization: takes in    [BATCH x WINDOW_SIZE x NBINS]\n",
    "#                 and returns [BATCH x WINDOW_SIZE]\n",
    "class AdaptiveDequantization(Layer):\n",
    "    # x is a vector of size [BATCH_SIZE x ADAPT_STEP x NBINS] -- 1 time step\n",
    "    # curr_bins is a vector [BATCH_SIZE x NBINS]\n",
    "    def step(self, x, curr_bins):\n",
    "        # ------------------------------------\n",
    "        #  compute output\n",
    "        # ------------------------------------\n",
    "        out = K.batch_dot(x, K.expand_dims(curr_bins, 2))\n",
    "        out = K.squeeze(out, -1)\n",
    "        \n",
    "        # ------------------------------------\n",
    "        #  update bins\n",
    "        # ------------------------------------\n",
    "        # symbol_probs is: [BATCH_SIZE x NBINS]\n",
    "        symbol_probs = K.sum(x, axis = 1) / ADAPT_STEP\n",
    "\n",
    "        # curr_change_scale is: [BATCH_SIZE x 1]\n",
    "        # curr_change_bias is: [BATCH_SIZE x 1]\n",
    "        curr_change_scale = K.dot(symbol_probs, K.expand_dims(CHANGE_SCALES))\n",
    "        curr_change_bias = K.dot(symbol_probs, K.expand_dims(CHANGE_BIASES))\n",
    "\n",
    "        # new_bins is: [BATCH_SIZE x NBINS x 1], then [BATCH_SIZE x NBINS]\n",
    "        new_bins = K.batch_dot(K.expand_dims(curr_bins), K.expand_dims(curr_change_scale))\n",
    "        new_bins = K.squeeze(new_bins, -1)\n",
    "        new_bins = new_bins + curr_change_bias\n",
    "        \n",
    "        # ------------------------------------\n",
    "        #  return output + new bins\n",
    "        # ------------------------------------\n",
    "        return out, new_bins\n",
    "        \n",
    "    def call(self, x, mask=None):\n",
    "        nbatch = K.int_shape(x)[0]\n",
    "        \n",
    "        curr_bins = K.expand_dims(QUANT_BINS, 0)\n",
    "        tile_amt = [tf.shape(x)[0]]\n",
    "        tile_amt = tf.concat([tile_amt, tf.ones((1,), dtype = tf.int32)], axis = 0)\n",
    "        curr_bins = tf.tile(curr_bins, tile_amt)\n",
    "        \n",
    "        mod_x = K.reshape(x, (-1, x.shape[1] / ADAPT_STEP, ADAPT_STEP, x.shape[2]))\n",
    "        mod_x = tf.unstack(tf.transpose(mod_x, [1, 0, 2, 3]))\n",
    "        out = []\n",
    "        for i in mod_x:\n",
    "            w, new_bins = self.step(i, curr_bins)\n",
    "            curr_bins = new_bins\n",
    "            out.append(w)\n",
    "            \n",
    "        dec = tf.transpose(tf.stack(out), [1, 0, 2])\n",
    "        dec = K.reshape(dec, (-1, dec.shape[1] * ADAPT_STEP))\n",
    "        return dec\n",
    "    \n",
    "    def compute_output_shape(self, input_shape):\n",
    "        return (input_shape[0], input_shape[1])"
   ]
  },
  {
   "cell_type": "code",
   "execution_count": 10,
   "metadata": {
    "collapsed": true
   },
   "outputs": [],
   "source": [
    "[train_paths, val_paths, test_paths], \\\n",
    "[train_waveforms, val_waveforms, test_waveforms], \\\n",
    "[train_procwave, val_procwave, test_procwave], \\\n",
    "[train_wparams, val_wparams, test_wparams], \\\n",
    "[train_windows, val_windows, test_windows] = load_data(TRAIN_SIZE, VAL_SIZE, TEST_SIZE)"
   ]
  },
  {
   "cell_type": "code",
   "execution_count": 11,
   "metadata": {},
   "outputs": [
    {
     "name": "stdout",
     "output_type": "stream",
     "text": [
      "(101544, 512, 1)\n",
      "-2.40941e-06\n",
      "0.104158\n",
      "-1.0\n",
      "1.0\n"
     ]
    }
   ],
   "source": [
    "# flatten all of the train windows into vectors\n",
    "train_processed = np.array([i for z in train_windows for i in z])\n",
    "train_processed = np.reshape(train_processed, (train_processed.shape[0], WINDOW_SIZE, 1))\n",
    "\n",
    "# randomly shuffle data, if we want to\n",
    "if (RANDOM_SHUFFLE):\n",
    "    train_processed = np.random.permutation(train_processed)\n",
    "    \n",
    "print train_processed.shape\n",
    "print np.mean(train_processed, axis=None)\n",
    "print np.std(train_processed, axis=None)\n",
    "print np.min(train_processed, axis = None)\n",
    "print np.max(train_processed, axis = None)\n",
    "\n",
    "X_train = np.copy(train_processed)"
   ]
  },
  {
   "cell_type": "markdown",
   "metadata": {},
   "source": [
    "# Adaptive Quantization"
   ]
  },
  {
   "cell_type": "code",
   "execution_count": 12,
   "metadata": {},
   "outputs": [
    {
     "name": "stdout",
     "output_type": "stream",
     "text": [
      "_________________________________________________________________\n",
      "Layer (type)                 Output Shape              Param #   \n",
      "=================================================================\n",
      "input_1 (InputLayer)         (None, 512, 1)            0         \n",
      "_________________________________________________________________\n",
      "model_1 (Model)              (None, 512, 5)            11.0      \n",
      "_________________________________________________________________\n",
      "model_2 (Model)              (None, 512, 1)            0         \n",
      "=================================================================\n",
      "Total params: 11\n",
      "Trainable params: 11\n",
      "Non-trainable params: 0\n",
      "_________________________________________________________________\n"
     ]
    },
    {
     "name": "stderr",
     "output_type": "stream",
     "text": [
      "/usr/local/lib/python2.7/dist-packages/keras/engine/topology.py:1511: UserWarning: The list of outputs passed to the model is redundant. All outputs should only appear once. Found: [<tf.Tensor 'model_2/reshape_2/Reshape:0' shape=(?, 512, 1) dtype=float32>, <tf.Tensor 'model_2/reshape_2/Reshape:0' shape=(?, 512, 1) dtype=float32>]\n",
      "  ' Found: ' + str(self.outputs))\n"
     ]
    }
   ],
   "source": [
    "input_dim = (WINDOW_SIZE, 1)\n",
    "model_input = Input(shape = input_dim)\n",
    "\n",
    "enc_input = Input(shape = input_dim)\n",
    "enc = Reshape((WINDOW_SIZE, 1))(enc_input)\n",
    "enc = AdaptiveQuantization()(enc)\n",
    "enc = Model(inputs = enc_input, outputs = enc)\n",
    "\n",
    "dec_input = Input(shape = (WINDOW_SIZE, NBINS))\n",
    "dec = AdaptiveDequantization()(dec_input)\n",
    "dec = Reshape((WINDOW_SIZE, 1))(dec)\n",
    "dec = Model(inputs = dec_input, outputs = dec)\n",
    "\n",
    "model_reconstructed = dec(enc(model_input))\n",
    "model = Model(inputs = [model_input], outputs = [model_reconstructed] * 2)\n",
    "\n",
    "n_losses = 2\n",
    "losses = [rmse, perceptual_distance]\n",
    "weights = [30.0, 1.0]\n",
    "\n",
    "model.compile(loss = losses,\n",
    "              loss_weights = weights,\n",
    "              optimizer = Adam())\n",
    "model.summary()"
   ]
  },
  {
   "cell_type": "code",
   "execution_count": 13,
   "metadata": {
    "collapsed": true
   },
   "outputs": [],
   "source": [
    "with tf.Session() as sess:\n",
    "    sess.run(tf.global_variables_initializer())"
   ]
  },
  {
   "cell_type": "code",
   "execution_count": 14,
   "metadata": {
    "collapsed": true
   },
   "outputs": [],
   "source": [
    "def fancy_plot(x, y = None, yl = (-1.25, 1.25), dots = False, axes = True):\n",
    "    if (axes):\n",
    "        plt.axhline(0, color = 'gray')\n",
    "        plt.axvline(0, color = 'gray')\n",
    "\n",
    "    if (dots):\n",
    "        sc = '.'\n",
    "        ms = 3\n",
    "    else:\n",
    "        sc = '-'\n",
    "        ms = 2\n",
    "    \n",
    "    if (y is not None):\n",
    "        plt.plot(x, y, sc, ms = ms)\n",
    "    else:\n",
    "        plt.plot(x, sc, ms = ms)\n",
    "    plt.grid()\n",
    "    \n",
    "    if (yl is not None):\n",
    "        plt.ylim(yl[0], yl[1])\n",
    "        \n",
    "    if (y is None):\n",
    "        plt.xlim(0, len(x))\n",
    "        \n",
    "    plt.show()"
   ]
  },
  {
   "cell_type": "markdown",
   "metadata": {},
   "source": [
    "## Before training"
   ]
  },
  {
   "cell_type": "code",
   "execution_count": 15,
   "metadata": {
    "scrolled": false
   },
   "outputs": [
    {
     "name": "stdout",
     "output_type": "stream",
     "text": [
      "MSE:         96657.9\n",
      "Avg err:     190.109\n",
      "PESQ:        1.02987837791\n"
     ]
    },
    {
     "data": {
      "text/plain": [
       "[96657.906, 190.10916, 1.0298783779144287]"
      ]
     },
     "execution_count": 15,
     "metadata": {},
     "output_type": "execute_result"
    }
   ],
   "source": [
    "test_model_on_wav(\"./SA1.wav\", \"SA1_quant_before\", model)"
   ]
  },
  {
   "cell_type": "code",
   "execution_count": 16,
   "metadata": {},
   "outputs": [
    {
     "name": "stdout",
     "output_type": "stream",
     "text": [
      "Original\n"
     ]
    },
    {
     "data": {
      "image/png": "[encoded data removed]",
      "text/plain": [
       "<matplotlib.figure.Figure at 0x7f437d427ed0>"
      ]
     },
     "metadata": {},
     "output_type": "display_data"
    },
    {
     "name": "stdout",
     "output_type": "stream",
     "text": [
      "Reconstruction\n"
     ]
    },
    {
     "data": {
      "image/png": "[encoded data removed]",
      "text/plain": [
       "<matplotlib.figure.Figure at 0x7f4368184f90>"
      ]
     },
     "metadata": {},
     "output_type": "display_data"
    }
   ],
   "source": [
    "idx = 52\n",
    "\n",
    "orig = X_train[idx].flatten()\n",
    "recn = model.predict(X_train[idx:idx+1], verbose = 0)[0].flatten()\n",
    "\n",
    "print \"Original\"\n",
    "fancy_plot(orig, axes = False)\n",
    "\n",
    "print \"Reconstruction\"\n",
    "fancy_plot(recn, axes = False)"
   ]
  },
  {
   "cell_type": "code",
   "execution_count": 17,
   "metadata": {},
   "outputs": [
    {
     "data": {
      "image/png": "[encoded data removed]",
      "text/plain": [
       "<matplotlib.figure.Figure at 0x7f438406d310>"
      ]
     },
     "metadata": {},
     "output_type": "display_data"
    }
   ],
   "source": [
    "x = np.linspace(-1.0, 1.0, 800)\n",
    "\n",
    "bins = K.eval(QUANT_BINS)\n",
    "y = [bins[np.argmin(np.abs(bins - num))] for num in x]\n",
    "fancy_plot(x, y, dots = True)"
   ]
  },
  {
   "cell_type": "markdown",
   "metadata": {},
   "source": [
    "## After training"
   ]
  },
  {
   "cell_type": "code",
   "execution_count": 18,
   "metadata": {},
   "outputs": [
    {
     "name": "stdout",
     "output_type": "stream",
     "text": [
      "Epoch 1/5\n",
      "101544/101544 [==============================] - 17s - loss: 2.5506 - model_2_loss_1: 0.0213 - model_2_loss_2: 1.9115    \n",
      "Epoch 2/5\n",
      "101544/101544 [==============================] - 16s - loss: 2.1501 - model_2_loss_1: 0.0168 - model_2_loss_2: 1.6461    \n",
      "Epoch 3/5\n",
      "101544/101544 [==============================] - 16s - loss: 2.0790 - model_2_loss_1: 0.0168 - model_2_loss_2: 1.5760    \n",
      "Epoch 4/5\n",
      "101544/101544 [==============================] - 16s - loss: 2.0759 - model_2_loss_1: 0.0168 - model_2_loss_2: 1.5718    \n",
      "Epoch 5/5\n",
      "101544/101544 [==============================] - 16s - loss: 2.0756 - model_2_loss_1: 0.0168 - model_2_loss_2: 1.5722    \n"
     ]
    },
    {
     "data": {
      "text/plain": [
       "<keras.callbacks.History at 0x7f434340c1d0>"
      ]
     },
     "execution_count": 18,
     "metadata": {},
     "output_type": "execute_result"
    }
   ],
   "source": [
    "model.fit(X_train, [X_train] * n_losses, verbose = 1, epochs = 5, batch_size = 128)"
   ]
  },
  {
   "cell_type": "code",
   "execution_count": 19,
   "metadata": {},
   "outputs": [
    {
     "name": "stdout",
     "output_type": "stream",
     "text": [
      "MSE:         21997.7\n",
      "Avg err:     59.8505\n",
      "PESQ:        1.40691828728\n"
     ]
    },
    {
     "data": {
      "text/plain": [
       "[21997.66, 59.850452, 1.4069182872772217]"
      ]
     },
     "execution_count": 19,
     "metadata": {},
     "output_type": "execute_result"
    }
   ],
   "source": [
    "test_model_on_wav(\"./SA1.wav\", \"SA1_quant_after\", model)"
   ]
  },
  {
   "cell_type": "code",
   "execution_count": 20,
   "metadata": {},
   "outputs": [
    {
     "name": "stdout",
     "output_type": "stream",
     "text": [
      "Original\n"
     ]
    },
    {
     "data": {
      "image/png": "[encoded data removed]",
      "text/plain": [
       "<matplotlib.figure.Figure at 0x7f438406d090>"
      ]
     },
     "metadata": {},
     "output_type": "display_data"
    },
    {
     "name": "stdout",
     "output_type": "stream",
     "text": [
      "Reconstruction\n"
     ]
    },
    {
     "data": {
      "image/png": "[encoded data removed]",
      "text/plain": [
       "<matplotlib.figure.Figure at 0x7f436809f550>"
      ]
     },
     "metadata": {},
     "output_type": "display_data"
    }
   ],
   "source": [
    "idx = 52\n",
    "\n",
    "orig = X_train[idx].flatten()\n",
    "recn = model.predict(X_train[idx:idx+1], verbose = 0)[0].flatten()\n",
    "\n",
    "print \"Original\"\n",
    "fancy_plot(orig, axes = False)\n",
    "\n",
    "print \"Reconstruction\"\n",
    "fancy_plot(recn, axes = False)"
   ]
  },
  {
   "cell_type": "code",
   "execution_count": 21,
   "metadata": {},
   "outputs": [
    {
     "data": {
      "image/png": "[encoded data removed]",
      "text/plain": [
       "<matplotlib.figure.Figure at 0x7f434336ce90>"
      ]
     },
     "metadata": {},
     "output_type": "display_data"
    }
   ],
   "source": [
    "x = np.linspace(-1.0, 1.0, 800)\n",
    "\n",
    "bins = K.eval(QUANT_BINS)\n",
    "y = [bins[np.argmin(np.abs(bins - num))] for num in x]\n",
    "fancy_plot(x, y, dots = True)"
   ]
  },
  {
   "cell_type": "code",
   "execution_count": null,
   "metadata": {
    "collapsed": true
   },
   "outputs": [],
   "source": []
  },
  {
   "cell_type": "code",
   "execution_count": null,
   "metadata": {
    "collapsed": true
   },
   "outputs": [],
   "source": []
  },
  {
   "cell_type": "code",
   "execution_count": null,
   "metadata": {
    "collapsed": true
   },
   "outputs": [],
   "source": []
  },
  {
   "cell_type": "code",
   "execution_count": null,
   "metadata": {
    "collapsed": true
   },
   "outputs": [],
   "source": []
  },
  {
   "cell_type": "code",
   "execution_count": null,
   "metadata": {
    "collapsed": true
   },
   "outputs": [],
   "source": []
  },
  {
   "cell_type": "code",
   "execution_count": null,
   "metadata": {
    "collapsed": true
   },
   "outputs": [],
   "source": []
  }
 ],
 "metadata": {
  "kernelspec": {
   "display_name": "Python 2",
   "language": "python",
   "name": "python2"
  },
  "language_info": {
   "codemirror_mode": {
    "name": "ipython",
    "version": 2
   },
   "file_extension": ".py",
   "mimetype": "text/x-python",
   "name": "python",
   "nbconvert_exporter": "python",
   "pygments_lexer": "ipython2",
   "version": "2.7.12"
  }
 },
 "nbformat": 4,
 "nbformat_minor": 1
}
