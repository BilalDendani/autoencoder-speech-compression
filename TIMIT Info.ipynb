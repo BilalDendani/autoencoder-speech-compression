{
 "cells": [
  {
   "cell_type": "code",
   "execution_count": null,
   "metadata": {
    "collapsed": false
   },
   "outputs": [],
   "source": [
    "import subprocess\n",
    "import glob\n",
    "import os\n",
    "import scipy.io.wavfile as sciwav\n",
    "import numpy as np\n",
    "import random"
   ]
  },
  {
   "cell_type": "code",
   "execution_count": null,
   "metadata": {
    "collapsed": false
   },
   "outputs": [],
   "source": [
    "from load_data import *"
   ]
  },
  {
   "cell_type": "code",
   "execution_count": null,
   "metadata": {
    "collapsed": false
   },
   "outputs": [],
   "source": [
    "def print_timit_info(split):\n",
    "    total_speakers = 0\n",
    "    total_wavs = 0\n",
    "\n",
    "    for i in xrange(0, NUM_DIALECTS):\n",
    "        num_speakers = len(TIMIT[split][i].keys())\n",
    "        num_wavs = 0\n",
    "        for spk in TIMIT[split][i]:\n",
    "            num_wavs += len(TIMIT[split][i][spk])\n",
    "\n",
    "        print \"Dialect\", i + 1, \"--\", num_speakers, \"speakers and\", num_wavs, \"WAVs\"\n",
    "        total_speakers += num_speakers\n",
    "        total_wavs += num_wavs\n",
    "\n",
    "    print \"TIMIT total speakers (\" + split + \"):\", total_speakers\n",
    "    print \"TIMIT total WAVs (\" + split + \"):\", total_wavs\n",
    "\n",
    "print_timit_info('TRAIN')\n",
    "print \"\"\n",
    "print_timit_info('TEST')"
   ]
  },
  {
   "cell_type": "code",
   "execution_count": null,
   "metadata": {
    "collapsed": true
   },
   "outputs": [],
   "source": []
  },
  {
   "cell_type": "code",
   "execution_count": null,
   "metadata": {
    "collapsed": true
   },
   "outputs": [],
   "source": []
  }
 ],
 "metadata": {
  "kernelspec": {
   "display_name": "Python 2",
   "language": "python",
   "name": "python2"
  },
  "language_info": {
   "codemirror_mode": {
    "name": "ipython",
    "version": 2
   },
   "file_extension": ".py",
   "mimetype": "text/x-python",
   "name": "python",
   "nbconvert_exporter": "python",
   "pygments_lexer": "ipython2",
   "version": "2.7.12"
  }
 },
 "nbformat": 4,
 "nbformat_minor": 1
}
